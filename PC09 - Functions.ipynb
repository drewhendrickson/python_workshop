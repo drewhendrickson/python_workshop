{
 "cells": [
  {
   "cell_type": "markdown",
   "metadata": {},
   "source": [
    "# Chapter 9 - Functions"
   ]
  },
  {
   "cell_type": "markdown",
   "metadata": {},
   "source": [
    "-----------"
   ]
  },
  {
   "cell_type": "markdown",
   "metadata": {},
   "source": [
    "In Chapter 6 I described how to use simple functions, and how to import functions from modules. This chapter is about how to write your own functions and modules. If you do not remember what Chapter 6 said about functions, re-read that chapter before continuing with this one. "
   ]
  },
  {
   "cell_type": "markdown",
   "metadata": {},
   "source": [
    "---"
   ]
  },
  {
   "cell_type": "markdown",
   "metadata": {},
   "source": [
    "## Why create functions?"
   ]
  },
  {
   "cell_type": "markdown",
   "metadata": {},
   "source": [
    "Why would you want to create a function? There are several different reasons why you want to have a function:\n",
    "\n",
    "- You may need a particular functionality for your code that you want to develop in independence of the rest of the code. If you put such a functionality in a function, that means that after developing and testing the functionality you can use it without thinking about it anymore.\n",
    "- You may need a particular functionality that returns in different places in your code, and rather than copy it to all these places, you write a function for it which you call in all these places.\n",
    "- You may need a particular functionality in your code that you need to control using parameters. If you put it in a function, the parameters become clearer and the code becomes more readable and easy to maintain.\n",
    "- Your program may just be getting too long to keep a solid grasp on its contents, and you feel you can improve readability and maintainability by splitting off inherently connected blocks into functions.\n",
    "- You may have problems solving a big problem in one go, and decide to divide it into sub-problems (which is usually a good idea). You can now create a function for each of these sub-problems, and by connecting them together, solve the big problem.\n",
    "- Your program may contain deeply nested conditions or loops, and would benefit enormously as far as readability is concerned by moving some of the deeper nestings into functions.\n",
    "- You may want to re-use code in different programs, and functions are a good way to transfer code between programs.\n",
    "- You may want to release some of your code to other programmers, and functions are, again, a good way to do that.\n",
    "\n",
    "In general, the advantage of functions is that they provide a means to effectuate:\n",
    "\n",
    "- *Encapsulation*: Wrapping up a piece of useful code in such a way that it can be used without knowledge of the specifics\n",
    "- *Generalization*: Making a piece of code useful for a variety of circumstances by controlling it via parameters\n",
    "- *Manageability*: Dividing a complex program into easy-to-manage chunks\n",
    "- *Maintainability*: Using meaningful names and logical wrappings to make a program better readable and understandable  \n",
    "- *Reusability*: Facilitating the transfer of functionalities between programs\n",
    "\n",
    "A final advantage is that functions allow the use of a technique called \"recursion\", but I will spend a separate chapter on that."
   ]
  },
  {
   "cell_type": "markdown",
   "metadata": {},
   "source": [
    "---"
   ]
  },
  {
   "cell_type": "markdown",
   "metadata": {},
   "source": [
    "## Creating functions"
   ]
  },
  {
   "cell_type": "markdown",
   "metadata": {},
   "source": [
    "Chapter 6 described how each function has a name, may have some parameters, and may have a return value. When you create your own functions, you need to define each of these. To create a function, you use the following syntax:\n",
    "\n",
    "    def <function_name>( <parameter_list> ):\n",
    "        <statements>\n",
    "\n",
    "The function name must meet the same requirements that variable names must meet, i.e., only letters, digits, and underscores, and it cannot start with a digit. \n",
    "\n",
    "The parameter list consists of zero or more variable names, with commas in between.\n",
    "\n",
    "The code block below the function definition must be indented.\n",
    "\n",
    "Finally, be aware that Python must have \"seen\" your function definition before it sees the call to it in your code. Therefore it is convention to place all function definitions at the top of a program, right under the `import` statements."
   ]
  },
  {
   "cell_type": "markdown",
   "metadata": {},
   "source": [
    "### How Python deals with functions"
   ]
  },
  {
   "cell_type": "markdown",
   "metadata": {},
   "source": [
    "To be able to create functions, you have to know how Python deals with functions.\n",
    "\n",
    "Look at the small Python program below. It defines one function, called `goodbyeWorld()`. That function has no parameters. The code block for the function prints the line \"Goodbye, world!\"\n",
    "\n",
    "The rest of the program is not part of a function. We often call the parts of a program that are not inside a function the \"main\" program. The main program prints the line \"Hello, world!\", and then calls the function `goodbyeWorld()`."
   ]
  },
  {
   "cell_type": "code",
   "execution_count": null,
   "metadata": {
    "collapsed": false
   },
   "outputs": [],
   "source": [
    "def goodbyeWorld():\n",
    "    print( \"Goodbye, world!\" )\n",
    "\n",
    "print( \"Hello, world!\" )\n",
    "goodbyeWorld()"
   ]
  },
  {
   "cell_type": "markdown",
   "metadata": {},
   "source": [
    "When you run this program, you see that it first prints \"Hello, world!\", and then \"Goodbye, world!\". This happens *even* though Python processes code top-down, so that it sees the line `print( \"Goodbye, world!\" )` before it sees the line `print( \"Hello, world!\" )`. This is because Python does not actually run the code inside functions, at least, not until the moment that the function gets called. Python does not even look at the code in functions. It just notices the function name, registers that that function is defined so that it can be used, and then continues, searching for the main program to run. "
   ]
  },
  {
   "cell_type": "markdown",
   "metadata": {},
   "source": [
    "### Parameters and arguments"
   ]
  },
  {
   "cell_type": "markdown",
   "metadata": {},
   "source": [
    "Examine the code below. It defines a function `hello()` with one parameter, which is called `name`. The function uses the variable `name` in the code block. There is no explicit assignment of the variable name, it exists because it is a parameter of the function.\n",
    "\n",
    "When a function is called, you must provide a value for every (mandatory) parameter that is defined for the function. Such a value is called an \"argument\". Therefore, to call the function `hello()`, just must provide an argument for the parameter `name`. You place this argument between the parentheses of the function call. Note that in your main program you do not need to know that this parameter is called `name`. What it is called is unimportant. The only thing you need to know is that there is a parameter that needs a value, and preferably what kind of value the function is expecting (i.e., what the author of the function expects you to provide)."
   ]
  },
  {
   "cell_type": "code",
   "execution_count": null,
   "metadata": {
    "collapsed": false
   },
   "outputs": [],
   "source": [
    "def hello( name ):\n",
    "    print( \"Hello, {}!\".format( name ) )\n",
    "    \n",
    "hello( \"Adrian\" )\n",
    "hello( \"Binky\" )\n",
    "hello( \"Caroline\" )\n",
    "hello( \"Dante\" )"
   ]
  },
  {
   "cell_type": "markdown",
   "metadata": {},
   "source": [
    "The parameters of a function are no more and no less than variables that you can use in the function, and that get their value from outside the function (namely by a function call). The parameters are \"local\" to the function, i.e., they are not accessible outside the code block of the function, nor do they influence any variable values outside the function. More on that later.\n",
    "\n",
    "Functions can have multiple parameters. For example, the following function multiplies two parameters and prints the result:"
   ]
  },
  {
   "cell_type": "code",
   "execution_count": null,
   "metadata": {
    "collapsed": false
   },
   "outputs": [],
   "source": [
    "def multiply( x, y ):\n",
    "    result = x * y\n",
    "    print( result )\n",
    "       \n",
    "multiply( 2020, 5278238 )\n",
    "multiply( 2, 3 )"
   ]
  },
  {
   "cell_type": "markdown",
   "metadata": {},
   "source": [
    "### Parameter types"
   ]
  },
  {
   "cell_type": "markdown",
   "metadata": {},
   "source": [
    "In many programming languages, you specify what the data types of the parameters of the functions that you create are. This allows the language to check whether calls to the functions are made with correct arguments. In Python, you do not specify data types. This mean that, for example, the `multiply()` function in the code block above can be called with string arguments. If you do so, you will generate a runtime error (as you cannot multiply two strings).\n",
    "\n",
    "If you want to write a \"safe\" function, you can check the type of arguments that the function is provided with, using the `isinstance()` function. `isinstance()` gets a value or a variable as first parameter, and a type as second parameter. It returns `True` if the value or variable is of the specified type, and `False` otherwise. For example:"
   ]
  },
  {
   "cell_type": "code",
   "execution_count": null,
   "metadata": {
    "collapsed": false
   },
   "outputs": [],
   "source": [
    "a = \"Hello\"\n",
    "if isinstance( a, int ):\n",
    "    print( \"integer\" )\n",
    "elif isinstance( a, float ):\n",
    "    print( \"float\" )\n",
    "elif isinstance( a, str ):\n",
    "    print( \"string\" )\n",
    "else:\n",
    "    print( \"other\" )"
   ]
  },
  {
   "cell_type": "markdown",
   "metadata": {},
   "source": [
    "Of course, should you decide to do such type checking in a function, you must decide what you will do if the user provides the wrong type. The regular way to handle this is by \"raising an exception\". This will be discussed much later in the course. For now, you may assume that the functions that you write are called with parameters of the correct types. As long as you write functions for your own use, you can always guarantee that."
   ]
  },
  {
   "cell_type": "markdown",
   "metadata": {},
   "source": [
    "### `return`"
   ]
  },
  {
   "cell_type": "markdown",
   "metadata": {},
   "source": [
    "Parameters can be used to communicate information from outside a function to the code block of the function. Often, you also want function to communicate information to program that is outside the function. The keyword `return` accomplishes this.\n",
    "\n",
    "When you use the command `return` in a function, that ends the processing of the function, and Python will continue with the code that needs to be executed after the call to the function. You can put one or more values or variables after the `return` statement. These values, and values of variables, are communicated to the program outside the function. If you want to use them outside the function, you can put them into a variable when you assign the call to the function to that variable.\n",
    "\n",
    "If this sounds a bit convoluted, it will probably become clear after studying the following example:"
   ]
  },
  {
   "cell_type": "code",
   "execution_count": null,
   "metadata": {
    "collapsed": false
   },
   "outputs": [],
   "source": [
    "from math import sqrt\n",
    "\n",
    "def pythagoras( a, b ):\n",
    "    return sqrt( a*a + b*b )\n",
    "\n",
    "c = pythagoras( 3, 4 )\n",
    "print( c )"
   ]
  },
  {
   "cell_type": "markdown",
   "metadata": {},
   "source": [
    "The function `pythagoras()` calculates the value of the square root of the sum of the squares of its two parameters. Then it returns that value, using the `return` statement. The main program \"captures\" the value by assigning it to variable `c`, then prints the contents of `c`.\n",
    "\n",
    "Note that the `return` statement in the example above has a complete calculation with it. That calculation is done in the function, which leads to a value. It is the result of the calculation, i.e., the value, which is returned to the main program.\n",
    "\n",
    "Now suppose that you want to only do this calculation for positive numbers (which would not be strange, as the function clearly is meant to calculate the length of the diagonal side of a right triangle, and who ever heard of a triangle with sides of length zero or less). Examine this code:"
   ]
  },
  {
   "cell_type": "code",
   "execution_count": null,
   "metadata": {
    "collapsed": false
   },
   "outputs": [],
   "source": [
    "from math import sqrt\n",
    "\n",
    "def pythagoras( a, b ):\n",
    "    if a <= 0 or b <= 0:\n",
    "        return\n",
    "    return sqrt( a*a + b*b )\n",
    "\n",
    "c = pythagoras( 3, 4 )\n",
    "print( c )\n",
    "c = pythagoras( -3, 4 )\n",
    "print( c )"
   ]
  },
  {
   "cell_type": "markdown",
   "metadata": {},
   "source": [
    "At first glance this code might seem fine: as it has nothing to calculate for negative numbers, it just returns no value. However, when you run this program you find it prints the special value `None`. I discussed this special value in Chapter 6. The main program expected the function `pythagoras()` to return a number, so `pythagoras()` is failing its duties by returning nothing in certain circumstances. You should always be very clear about what data type your function returns, and ensure that in each and every circumstance the function actually returns a value of that type.\n",
    "\n",
    "By the way, the following code is equivalent to the code above:"
   ]
  },
  {
   "cell_type": "code",
   "execution_count": null,
   "metadata": {
    "collapsed": true
   },
   "outputs": [],
   "source": [
    "from math import sqrt\n",
    "\n",
    "def pythagoras( a, b ):\n",
    "    if a > 0 and b > 0:\n",
    "        return sqrt( a*a + b*b )\n",
    "\n",
    "c = pythagoras( 3, 4 )\n",
    "print( c )\n",
    "c = pythagoras( -3, 4 )\n",
    "print( c )"
   ]
  },
  {
   "cell_type": "markdown",
   "metadata": {},
   "source": [
    "In this code, you do not see the `return` without a value explicitly, but it is there nonetheless. If Python reaches the end of a function code block without having found a `return`, it will return from the function without a value.\n",
    "\n",
    "If you wonder what you should return in circumstances that you do not have a good return value for: that depends on the application. For instance, for the `pythagoras()` function, you could decide that it will return `-1` whenever it gets provided with arguments that it cannot process. As long as you communicate that to the user of a function, the user can ensure that the main program handles such exceptional cases in the spirit of the program as a whole. For instance:"
   ]
  },
  {
   "cell_type": "code",
   "execution_count": null,
   "metadata": {
    "collapsed": false
   },
   "outputs": [],
   "source": [
    "from math import sqrt\n",
    "from pcinput import getInteger\n",
    "\n",
    "def pythagoras( a, b ):\n",
    "    if a <= 0 or b <= 0:\n",
    "        return -1\n",
    "    return sqrt( a*a + b*b )\n",
    "\n",
    "num1 = getInteger( \"Give side 1: \" )\n",
    "num2 = getInteger( \"Give side 2: \" )\n",
    "num3 = pythagoras( num1, num2 )\n",
    "if num3 < 0:\n",
    "    print( \"The numbers you provided cannot be used.\" )\n",
    "else:\n",
    "    print( \"The diagonal side's length is\", num3 )"
   ]
  },
  {
   "cell_type": "markdown",
   "metadata": {},
   "source": [
    "Note that every line of code in the function that occurs immediately after a `return` at the same level of indentation will always be ignored. E.g., in the function:"
   ]
  },
  {
   "cell_type": "code",
   "execution_count": null,
   "metadata": {
    "collapsed": true
   },
   "outputs": [],
   "source": [
    "from math import sqrt\n",
    "\n",
    "def pythagoras( a, b ):\n",
    "    if a <= 0 or b <= 0:\n",
    "        return -1\n",
    "        print( \"This line will never be printed\" )\n",
    "    return sqrt( a*a + b*b )"
   ]
  },
  {
   "cell_type": "markdown",
   "metadata": {},
   "source": [
    "the line below `return -1` clearly states how useless it is."
   ]
  },
  {
   "cell_type": "markdown",
   "metadata": {},
   "source": [
    "### Difference between `return` and `print`"
   ]
  },
  {
   "cell_type": "markdown",
   "metadata": {},
   "source": [
    "I noticed in the past that many students struggle with the difference between a function returning a value and a function printing a value. Compare the following two pieces of code:"
   ]
  },
  {
   "cell_type": "code",
   "execution_count": null,
   "metadata": {
    "collapsed": false
   },
   "outputs": [],
   "source": [
    "def print3():\n",
    "    print( 3 )\n",
    "print3()"
   ]
  },
  {
   "cell_type": "markdown",
   "metadata": {},
   "source": [
    "and:"
   ]
  },
  {
   "cell_type": "code",
   "execution_count": null,
   "metadata": {
    "collapsed": false
   },
   "outputs": [],
   "source": [
    "def return3():\n",
    "    return 3\n",
    "print( return3() )"
   ]
  },
  {
   "cell_type": "markdown",
   "metadata": {},
   "source": [
    "Both the function `print3()` and `return3()` are called in their respective codes, and result in the printing of the value 3. The difference is that the printing of this value in the case of `print3()` happens in the function, while the function returns nothing, while in the case of `return3()` the function only returns the value 3, which is then printed in the main program. For the user the result of these codes looks the same: both display the number 3. But for the programmer the two functions involved are quite different.\n",
    "\n",
    "The function `print3()` can only be used for one purpose, namely to display the number 3. The function `return3()`, however, can be used wherever I need the number 3, regardless whether I need to display it, use it in a calculation, or assign it to a variable. For instance, the following code raises `2` to the power of `3` and prints the result:"
   ]
  },
  {
   "cell_type": "code",
   "execution_count": null,
   "metadata": {
    "collapsed": false
   },
   "outputs": [],
   "source": [
    "def return3():\n",
    "    return 3\n",
    "x = 2 ** return3()\n",
    "print( x )"
   ]
  },
  {
   "cell_type": "markdown",
   "metadata": {},
   "source": [
    "On the other hand, the following code leads to a runtime error when executed:"
   ]
  },
  {
   "cell_type": "code",
   "execution_count": null,
   "metadata": {
    "collapsed": false
   },
   "outputs": [],
   "source": [
    "def print3():\n",
    "    print( 3 )\n",
    "x = 2 ** print3()\n",
    "print( x )"
   ]
  },
  {
   "cell_type": "markdown",
   "metadata": {},
   "source": [
    "The reason is that while `print3()` displays the value of 3 on the screen (you even see it above the runtime error), it does not produce the actual value 3 in such a way that the calculation can use it. The function `print3()` actually returns the special value `None`, which cannot be used in a calculation.\n",
    "\n",
    "So, if you want to create a function that produces a value that can be used in other parts of the program, then the function must `return` that value. If you want to create a function that just displays something on the screen, you can use a `print` statement in the function to do that, but the function does not need to `return` anything."
   ]
  },
  {
   "cell_type": "markdown",
   "metadata": {},
   "source": [
    "### Welcome to the machine"
   ]
  },
  {
   "cell_type": "markdown",
   "metadata": {},
   "source": [
    "If you still have troubles imagining how functions work, think of them like this:\n",
    "\n",
    "A function is like a big machine, for instance, a machine that makes pancakes. It has some input hoppers at the top, which are labeled \"milk\", \"eggs\", and \"flour\". Those are the input parameters. You can decide what pancakes you want by putting the right stuff in the hoppers; for instance, if you want whole-grain pancakes, you put whole-grain flour into the \"flour\" hopper. Of course, you can be certain that things will go dramatically wrong if you put eggs into the \"milk\" hopper -- or you try to put a cat into the \"flour\" hopper.\n",
    "\n",
    "Anyway, once the hoppers are loaded the machine starts huffing and puffing. You patiently wait next to the output hopper which, surprise surprise, is labeled \"return\". And after a short while, a pancake slides out. The pancake is the return value that the machine produced.\n",
    "\n",
    "The machine also has a display. Maybe after you put something inappropriate into the \"flour\" hopper, the display says: \"Cat stuck in the machine, please reset\". The display is where everything that you \"print\" in the machine appears.\n",
    "\n",
    "Now, you understand that it is useless if, after loading the right ingredients into the input hopper, the machine just displays \"Pancake is ready!\" You want the actual pancake. That's why the machine must \"return\" it via its output hopper, from which you can take it and \"assign\" it to your lunch plate. Just printing that the pancake exists is not sufficient.\n",
    "\n",
    "By the way, one of the nice things about the pancake making machine is that even if you do not know how pancakes are made, you can still get pancakes as long as you manage to supply the right ingredients. That's also what is so nice about functions: they may do complex things for you without you needing to know how they accomplish them."
   ]
  },
  {
   "cell_type": "markdown",
   "metadata": {},
   "source": [
    "### Multiple return values"
   ]
  },
  {
   "cell_type": "markdown",
   "metadata": {},
   "source": [
    "In your functions, you are not limited to returning just one value. You can return multiple values by putting commas in between. If you want to use these values in the program after the call to the function, you have to assign them to multiple variables. You put them to the left of the assignment, also with commas in between. This is easiest to illustrate with and example:"
   ]
  },
  {
   "cell_type": "code",
   "execution_count": null,
   "metadata": {
    "collapsed": false
   },
   "outputs": [],
   "source": [
    "import datetime\n",
    "\n",
    "def addDays( year, month, day, dayincrement ):\n",
    "    startdate = datetime.datetime( year, month, day )\n",
    "    enddate = startdate + datetime.timedelta( days=dayincrement )\n",
    "    return enddate.year, enddate.month, enddate.day\n",
    "    \n",
    "y, m, d = addDays( 2015, 11, 13, 55 )\n",
    "print( \"{}/{}/{}\".format( y, m, d ) )"
   ]
  },
  {
   "cell_type": "markdown",
   "metadata": {},
   "source": [
    "The function `addDays()` gets four arguments, namely integers indicating a year, a month, and a day, and a number of days that you want to add to that date. It returns three values, namely a new year, month, and day. These are in this code captured in the main program in three variables, namely `y`, `m`, and `d`.\n",
    "\n",
    "When you look at the code above, you might be mystified how exactly `addDays()` is doing its job. As I said, it is nice that as long as the function works and you know what arguments it wants and what it returns, you can use the function without any knowledge of its internal process. So you can just ignore the code for `addDays()` (note: the contents of `addDays()` use the `datetime` module, which is discussed much later in the course)."
   ]
  },
  {
   "cell_type": "markdown",
   "metadata": {},
   "source": [
    "### Calling functions from functions"
   ]
  },
  {
   "cell_type": "markdown",
   "metadata": {},
   "source": [
    "Functions are allowed to call other functions, as long as those other functions are known to the calling function. For instance, the following code shows how the function `euclideanDistance()` uses the function `pythagoras()` to calculate the distance between two points in 2-dimensional space."
   ]
  },
  {
   "cell_type": "code",
   "execution_count": null,
   "metadata": {
    "collapsed": false
   },
   "outputs": [],
   "source": [
    "from math import sqrt\n",
    "\n",
    "def pythagoras( a, b ):\n",
    "    if a <= 0 or b <= 0:\n",
    "        return -1\n",
    "    return sqrt( a*a + b*b )\n",
    "\n",
    "def euclideanDistance( x1, y1, x2, y2 ):\n",
    "    return pythagoras( abs( x1 - x2 ), abs( y1 - y2 ) )\n",
    "\n",
    "print( euclideanDistance( 1, 1, 4, 5 ) )"
   ]
  },
  {
   "cell_type": "markdown",
   "metadata": {
    "collapsed": true
   },
   "source": [
    "`euclideanDistance()` knows `pythagoras()`, because `pythagoras()` was defined before `euclideanDistance()`. \n",
    "\n",
    "If you want, you can put functions inside other functions, i.e., you can \"nest\" functions. For instance, you can place `pythagoras()` in `euclideanDistance()`. That means that `pythagoras()` can be called inside `euclideanDistance()`, but not elsewhere in the program."
   ]
  },
  {
   "cell_type": "code",
   "execution_count": null,
   "metadata": {
    "collapsed": false
   },
   "outputs": [],
   "source": [
    "from math import sqrt\n",
    "\n",
    "def euclideanDistance( x1, y1, x2, y2 ):\n",
    "    \n",
    "    def pythagoras_inside( a, b ):\n",
    "        if a <= 0 or b <= 0:\n",
    "            return -1\n",
    "        return sqrt( a*a + b*b )\n",
    "    \n",
    "    return pythagoras_inside( abs( x1 - x2 ), abs( y1 - y2 ) )\n",
    "\n",
    "print( euclideanDistance( 1, 1, 4, 5 ) )\n",
    "# print( pythagoras_inside( 3, 4 ) )"
   ]
  },
  {
   "cell_type": "markdown",
   "metadata": {},
   "source": [
    "It is not very common that nested functions are used, but it is possible.\n",
    "\n",
    "Note: if you remove the hash mark before the last line of the code above, it adds a call to `pythagoras_inside()`. This will cause a runtime error, as `pythagoras_inside()` is only visible inside `euclideanDistance()`.\n",
    "\n",
    "**Exercise**: Write a function called `printx()` that just prints the letter \"x\". Then write a function called `multiplex()` which takes as argument an integer and prints as many times the letter \"x\" as the integer indicates by calling the function `printx()` that many times."
   ]
  },
  {
   "cell_type": "code",
   "execution_count": null,
   "metadata": {
    "collapsed": false
   },
   "outputs": [],
   "source": [
    "# Printing x's\n"
   ]
  },
  {
   "cell_type": "markdown",
   "metadata": {},
   "source": [
    "### Naming functions"
   ]
  },
  {
   "cell_type": "markdown",
   "metadata": {},
   "source": [
    "Convention prescribes that you should not start a function name with an underscore (such function names are reserved for the developers of Python itself), and that you try to use only lower case letters. If the function name consists of multiple words, you can either put underscores between the words, or start every word except the first with a capital (different programmers prefer different conventions in this respect, but it does not matter much as you can always recognize a function by the fact that it has parentheses after the name).\n",
    "\n",
    "Certain function names are typical for particular functionalities.\n",
    "\n",
    "A function that tests if a certain item has a certain property, which then returns either `True` or `False` depending on whether the property holds, commonly has a name that starts with the word `is`, which is then followed by the name of the property, starting with a capital. For instance, a function that tests if a number is even, would be called `isEven()`.\n",
    "\n",
    "**Exercise**: Write the function `isEven()`."
   ]
  },
  {
   "cell_type": "code",
   "execution_count": null,
   "metadata": {
    "collapsed": true
   },
   "outputs": [],
   "source": [
    "# isEven.\n"
   ]
  },
  {
   "cell_type": "markdown",
   "metadata": {},
   "source": [
    "Note: if you want to use a function like `isEven()` in a conditional statement, for instance, you want execute an action only for numbers that are even, you do not need to write `if isEven( num ) == True:`. You can simply write `if isEven( num ):`, because the function already returns `True` or `False`. Using an `is`-function in such a way makes a program more readable.\n",
    "\n",
    "A funtion that gets the value of a certain property and returns it, commonly starts with the word `get`, which is then followed by the name of the property, starting with a capital. For instance, a functions that gets the fractional part of a float (i.e., the decimals) would be called `getFraction()`.\n",
    "\n",
    "**Exercise**: Write the function `getFraction()`."
   ]
  },
  {
   "cell_type": "code",
   "execution_count": null,
   "metadata": {
    "collapsed": true
   },
   "outputs": [],
   "source": [
    "# getFraction.\n"
   ]
  },
  {
   "cell_type": "markdown",
   "metadata": {},
   "source": [
    "The opposite of a `get` function is a function that gives a property a certain value. Such a function commonly starts with `set`, and for the rest is similar to a `get` function. I cannot give an example as at this point I have not yet explained how you can use a function to give something a value, as functions cannot change the values of their parameters (at least, for the data types that we have used until now). This will follow in a later chapter.\n",
    "\n",
    "If you stick to such naming conventions, it will make your code more readable."
   ]
  },
  {
   "cell_type": "markdown",
   "metadata": {},
   "source": [
    "### Commenting functions"
   ]
  },
  {
   "cell_type": "markdown",
   "metadata": {},
   "source": [
    "In all the chapters until now, you have seen very little commenting of code. While programming courses often encourage students to write comments in code, I myself am of the opinion that code should be \"self-documenting\", i.e., that you can easily derive from code what it does simply by reading it. You can accomplish that often by choosing strong names for variables and functions, judiciously using whitespaces and empty lines, good indenting (which Python enforces), and not using any convoluted trickery just because it makes the code a little bit faster or to show off how smart you are.\n",
    "\n",
    "(Little anecdote on the side here: I once heard someone extol the intellect of a certain programmer by saying \"when I see his code, I don't understand any of it!\" When someone would say that about my code, I would feel deeply ashamed.)\n",
    "\n",
    "So while I see comments as an extra that you should use when you feel you need to explain something particular about your code, my opinion on comments for functions is different. The idea behind a function is that the user of the function does not need to look at the function's code to use it. Therefore, what the function does and how it works, should be explained in comments at the top of the function, above the function name.\n",
    "\n",
    "In the comments for a function, you explain three things:\n",
    "- What the function does\n",
    "- What arguments the function needs/accepts, including data types\n",
    "- What the function returns, including data types\n",
    "\n",
    "If a function has any side effects, i.e., things it affects in the main program, then this should be carefully documented in the comments too. I do not put that in the list above, because a function *should not have any side effects*.\n",
    "\n",
    "Note: For the answers to the exercises in this chapter I have added comments to the functions in a form that I find acceptable. In follow-up chapters I often will not do that as I discuss the functions in text anyway, or I want you to study the contents of the function. But I always write comments for functions that I write in code that I use for other purposes."
   ]
  },
  {
   "cell_type": "markdown",
   "metadata": {},
   "source": [
    "---"
   ]
  },
  {
   "cell_type": "markdown",
   "metadata": {},
   "source": [
    "## Scope and lifetime"
   ]
  },
  {
   "cell_type": "markdown",
   "metadata": {},
   "source": [
    "Scope refers to visibility. In particular, when discussing the scope of a variable, it refers to the places in a program where a variable is visible and can be changed. Lifetime refers to how long a variable exists in memory. Lifetime is closely related to scope, which is why I discuss them in one section."
   ]
  },
  {
   "cell_type": "markdown",
   "metadata": {},
   "source": [
    "### Scope of variables"
   ]
  },
  {
   "cell_type": "markdown",
   "metadata": {},
   "source": [
    "The scope of a variable is the code block in which it is created, and all the code blocks that are nested within that code block at a deeper indent level. For instance:"
   ]
  },
  {
   "cell_type": "code",
   "execution_count": null,
   "metadata": {
    "collapsed": false
   },
   "outputs": [],
   "source": [
    "hello = \"Hi!\"\n",
    "bye = \"Goodbye!\"\n",
    "for i in range( 3 ):\n",
    "    for j in range( 2 ):\n",
    "        afternoon = \"Good afternoon\"\n",
    "        print( bye )\n",
    "    print( j )\n",
    "    print( hello )\n",
    "    print( afternoon )\n",
    "print( i )\n",
    "print( j )\n",
    "print( afternoon )"
   ]
  },
  {
   "cell_type": "markdown",
   "metadata": {},
   "source": [
    "The variables `hello` and `bye` are defined at the top level of the program, which means their scope is the whole program. The variables `i`, `j`, and `afternoon` are defined in code blocks which are at a deeper indent level. In most programming languages, that would mean that their scope would be restricted to those deeper levels, but Python is friendly in this respect and makes their scope extend beyond the loop that they are in. So all these variables are visible in the program after they have been defined. How does this work with functions?"
   ]
  },
  {
   "cell_type": "code",
   "execution_count": null,
   "metadata": {
    "collapsed": false
   },
   "outputs": [],
   "source": [
    "dozen = 12\n",
    "\n",
    "def dimeAdozen():\n",
    "    print( \"There are\", dozen/dime, \"dimes in a dozen\" )\n",
    "    \n",
    "dime = 10\n",
    "dimeAdozen()\n",
    "print( \"dime =\", dime, \"and dozen =\", dozen )"
   ]
  },
  {
   "cell_type": "markdown",
   "metadata": {},
   "source": [
    "Again, we see that both `dozen` and `dime` are visible within the function `dimeAdozen()`. They can be seen by the function because they have been defined before the function is called, and since the code block of the function is at a deeper indent level, it can see these variables.\n",
    "\n",
    "However, now look at the following code, which contains a small change from the code above:"
   ]
  },
  {
   "cell_type": "code",
   "execution_count": null,
   "metadata": {
    "collapsed": false
   },
   "outputs": [],
   "source": [
    "dozen = 12\n",
    "\n",
    "def dimeAdozen():\n",
    "    dozen = 13\n",
    "    print( \"There are\", dozen/dime, \"dimes in a dozen\" )\n",
    "    \n",
    "dime = 10\n",
    "dimeAdozen()\n",
    "print( \"dime =\", dime, \"and dozen =\", dozen )"
   ]
  },
  {
   "cell_type": "markdown",
   "metadata": {},
   "source": [
    "Examine this code and its output closely, and compare it with the code and the output of the code block above it. The variable `dozen` seems to get a new value in the function `dimeAdozen()`, which leads to the function claiming that there are now 1.3 dimes in a dozen. However, when the value of `dozen` is printed in the main program, its value is shown to be still 12, and not 13.\n",
    "\n",
    "The reason is that the variable `dozen` in the function is a different one than the variable `dozen` in the main program. By assigning a value to a variable in a function, a new, \"local\" variable is created. And this variable is used for the remainder of the function. The original variable `dozen` still exists, but is invisible to the function once it has created its own `dozen`.\n",
    "\n",
    "The lifetime of the variable `dozen` in the function is the period for which the code block of the function is executed. As soon as the function ends (either because of a `return`, or because the last line was executed), the local variables of the function are destroyed. They are no longer in the computer's memory, and can no longer be accessed."
   ]
  },
  {
   "cell_type": "code",
   "execution_count": null,
   "metadata": {
    "collapsed": false
   },
   "outputs": [],
   "source": [
    "apple = \"apple\"\n",
    "banana = \"banana\"\n",
    "cherry = \"cherry\"\n",
    "durian = \"durian\"\n",
    "\n",
    "def printfruits_1():\n",
    "    print( apple, banana )\n",
    "\n",
    "def printfruits_2( apple ):\n",
    "    banana = cherry\n",
    "    print( apple, banana )\n",
    "    \n",
    "def printfruits_3( apple, banana ):\n",
    "    cherry = \"mango\"\n",
    "    banana = cherry\n",
    "    print( apple, banana )\n",
    "    \n",
    "printfruits_1()\n",
    "printfruits_2( cherry )\n",
    "printfruits_3( cherry, durian )\n",
    "\n",
    "print( \"apple =\", apple )\n",
    "print( \"banana =\", banana )\n",
    "print( \"cherry =\", cherry )\n",
    "print( \"durian =\", durian )"
   ]
  },
  {
   "cell_type": "markdown",
   "metadata": {},
   "source": [
    "Study this code closely.\n",
    "\n",
    "The three functions `printfruits_1()`, `printfruits_2()`, and `printfruits_3()` print the variables `apple` and `banana`. \n",
    "\n",
    "In `printfruits_1()` these are the two variables `apple` and `banana` that are defined outside the function, as the function itself does not try to define these variables. \n",
    "\n",
    "In `printfruits_2()`, `apple` is the parameter of the function, which means it is a variable local to the function that gets its value from outside the function. The value it gets is the value of the variable `cherry` (because `cherry` is provided as the argument when the function is called), which is the word \"cherry\". `banana` is a variable that gets its value in the function. This is a new, local variable `banana`, which has nothing to do with the variable `banana` in the main program. It gets the value of `cherry`, which is not locally known to the function, so it uses the variable `cherry` from the main program for that. Therefore, the local variable `banana` gets the value \"cherry\", and this is the value that is printed. \n",
    "\n",
    "In `printfruits_3()`, `apple` and `banana` are both parameters, so they are both variables that are local to the function and that get their initial value from the call to the function. The function then creates a local variable `cherry`, which is independent from the variable `cherry` from the main program. It then assigns the value of `cherry`, which is \"mango\", to the local variable `banana`. All these changes are therefore made to local variables, and have no influence on the values of variables from the main program.\n",
    "\n",
    "When after the function calls the values of the variables from the main program are printed, you see that they still have the values that were originally assigned to them, regardless of whether they were used as arguments to the function calls, or whether variables in the functions with the same names got different values assigned. As soon as a variable in a function gets assigned a value, if that variable was not yet created in the function and was not a parameter of the function, a new, local variable is created and used in the function. Such a new, local variable is completely independent from any variable which exists outside the function. Its lifetime is the period for which the function is executed. Parameters can also be considered local variables of a function. \n",
    "\n",
    "This is a very powerful feature of functions: they do not have to take into account variables that exist outside the function, as any variable that they create is local to the function."
   ]
  },
  {
   "cell_type": "markdown",
   "metadata": {},
   "source": [
    "### Global variables"
   ]
  },
  {
   "cell_type": "markdown",
   "metadata": {},
   "source": [
    "I showed above that variables that are created outside a function are visible in the function, unless a new variable with the same name is created in the function. Variables from the main program are called \"global\" variables, as they are visible anywhere in the program, as opposed to \"local\" variables that are only visible in a function. \n",
    "\n",
    "It is good practice to make functions independent from the main program, i.e., to not let them access any of the global variables. If you do need to communicate values from outside a function to the function, then do so by means of parameters. An exception can be made for variables that are used as constants (see Chapter 5). If you do let a function access a constant, then make sure it is clear to anyone who inspects the function that you are referring to a constant, i.e., that the name of the constant is written in all capitals.\n",
    "\n",
    "You might wonder if it isn't possible to change the values of global variables in a function. This is, in fact, possible, but in the function you have to make clear that you explicitly want the global variable to be affected by using the keyword `global`. With the statement `global <variable>` you indicate that the particular variable mentioned is actually referring to the global variable of this name. For example:"
   ]
  },
  {
   "cell_type": "code",
   "execution_count": null,
   "metadata": {
    "collapsed": false
   },
   "outputs": [],
   "source": [
    "fruit = \"apple\"\n",
    "\n",
    "def changeFruit():\n",
    "    global fruit\n",
    "    fruit = \"banana\"\n",
    "    \n",
    "print( fruit )\n",
    "changeFruit()\n",
    "print( fruit )"
   ]
  },
  {
   "cell_type": "markdown",
   "metadata": {},
   "source": [
    "While it is possible to affect global variables in functions, this is not recommended as it makes the function dependent on the main program (and thus no longer a \"pure\" function). Basically, it makes the function have side effects, and (all together now:) *a function should not have any side effects*.\n",
    "\n",
    "It is also never necessary to include `global` variables in a function. If you want to allow a function to affect a global variable, then let the function return a value that can be assigned to the global variable. Leave it to the main program to decide whether or not to overwrite the value of one of its own variables. The only reason I mention it here is that I sometimes see students reverting to the keyword `global` because they have insufficient understanding of `return` statements. Denying the existence of `global` is not effective, I rather admit that it exists and warn students against using it."
   ]
  },
  {
   "cell_type": "markdown",
   "metadata": {},
   "source": [
    "---"
   ]
  },
  {
   "cell_type": "markdown",
   "metadata": {},
   "source": [
    "## Managing program complexity"
   ]
  },
  {
   "cell_type": "markdown",
   "metadata": {},
   "source": [
    "Suppose that Python would not have built-in `max()` and `min()` function, and neither do you have knowledge of (or are allowed to) use anything of the chapters after this one. You get the following assignment:\n",
    "\n",
    "Write a program that processes two groups of three numbers (you can write the program for fixed numbers, but later on you will add that the user enters these numbers). It adds up the lowest numbers of each of the groups, the middle numbers of each of the groups, and the highest numbers of each of the groups. It then prints these three results.\n",
    "\n",
    "How do you do this? You can start with something like:"
   ]
  },
  {
   "cell_type": "code",
   "execution_count": null,
   "metadata": {
    "collapsed": false
   },
   "outputs": [],
   "source": [
    "num11, num12, num13 = 436, 178, 992\n",
    "num21, num22, num23 = 880, 543, 101\n",
    "\n",
    "smallest1 = 0\n",
    "smallest2 = 0\n",
    "medium1 = 0\n",
    "medium2 = 0\n",
    "largest1 = 0\n",
    "largest2 = 0\n",
    "\n",
    "if num11 < num12:\n",
    "    if num11 < num13:\n",
    "        smallest1 = num11\n",
    "    else:\n",
    "        smallest1 = num13\n",
    "elif num12 < num13:\n",
    "    smallest1 = num12\n",
    "else:\n",
    "    smallest1 = num13\n",
    "\n",
    "# Test:\n",
    "print( smallest1 )\n",
    "\n",
    "# This works to get the smallest from group 1.\n",
    "# Now do the same for the smallest from group 2.\n",
    "# Then do something like this for the largest of group 1 and group 2.\n",
    "# Then invent something for taking the middle one.\n",
    "# Finally, do all the additions and print the results..."
   ]
  },
  {
   "cell_type": "markdown",
   "metadata": {},
   "source": [
    "You can imagine that with this approach, with nested `if` statements that get repeated six times with different assignments in the branches, this becomes a huge, unreadable, unmanageable program of which it is hard to see whether it is correct or not. You have to approach the problem in a smarter way. \n",
    "\n",
    "Suppose that you have a function that determines the smallest of three numbers, a function that determines the middle one of three numbers, and a function that determines the largest one of three numbers. Then the program is pretty simple to write! It will be something like:"
   ]
  },
  {
   "cell_type": "code",
   "execution_count": null,
   "metadata": {
    "collapsed": false
   },
   "outputs": [],
   "source": [
    "num11, num12, num13 = 436, 178, 992\n",
    "num21, num22, num23 = 880, 543, 101\n",
    "\n",
    "def smallest( n1, n2, n3 ):\n",
    "    return n1 # just return something for now\n",
    "\n",
    "def middle( n1, n2, n3 ):\n",
    "    return n1 # just return something for now\n",
    "\n",
    "def largest( n1, n2, n3 ):\n",
    "    return n1 # just return something for now\n",
    "\n",
    "print( \"sum of smallest =\", smallest( num11, num12, num13 ) + smallest( num21, num22, num23 ) )\n",
    "print( \"sum of middle =\", middle( num11, num12, num13 ) + middle( num21, num22, num23 ) )\n",
    "print( \"sum of largest =\", largest( num11, num12, num13 ) + largest( num21, num22, num23 ) )"
   ]
  },
  {
   "cell_type": "markdown",
   "metadata": {},
   "source": [
    "This program readable, understandable, and can already be tested. True, the functions `smallest()`, `middle()`, and `largest()` do not return the correct values yet. While writing the program above, you might not even have an idea on how to write them. But you probably feel that they could be written, and you know that you can produce code for them later, and step by step. \n",
    "\n",
    "So how do you do `smallest()`? Well, as I showed above, doing this with nested `if` statements becomes a bit convoluted and unreadable (really, don't look at how I did it and try to write this yourself; it is pretty hard to keep the three variables in your head while writing such a nested `if`). Can this be approached in a more readable way?\n",
    "\n",
    "Is it hard to determine the smallest of *two* numbers? No, that is really easy. You can do it like this:"
   ]
  },
  {
   "cell_type": "code",
   "execution_count": null,
   "metadata": {
    "collapsed": false
   },
   "outputs": [],
   "source": [
    "def smallest_of_two( n1, n2 ):\n",
    "    if n1 < n2:\n",
    "        return n1\n",
    "    return n2\n",
    "\n",
    "print( smallest_of_two( 341, 122 ) )"
   ]
  },
  {
   "cell_type": "markdown",
   "metadata": {},
   "source": [
    "By nesting such a function, it is easy to make a `smallest()` function that determines the smallest of three numbers. The same can be done for `largest()`. So the program now becomes:"
   ]
  },
  {
   "cell_type": "code",
   "execution_count": null,
   "metadata": {
    "collapsed": false
   },
   "outputs": [],
   "source": [
    "num11, num12, num13 = 436, 178, 992\n",
    "num21, num22, num23 = 880, 543, 101\n",
    "\n",
    "def smallest_of_two( n1, n2 ):\n",
    "    if n1 < n2:\n",
    "        return n1\n",
    "    return n2\n",
    "\n",
    "def largest_of_two( n1, n2 ):\n",
    "    if n1 > n2:\n",
    "        return n1\n",
    "    return n2\n",
    "\n",
    "def smallest( n1, n2, n3 ):\n",
    "    return smallest_of_two( smallest_of_two( n1, n2 ), n3 )\n",
    "\n",
    "def middle( n1, n2, n3 ):\n",
    "    return n1 # just return something for now\n",
    "\n",
    "def largest( n1, n2, n3 ):\n",
    "    return largest_of_two( largest_of_two( n1, n2 ), n3 )\n",
    "\n",
    "print( \"sum of smallest =\", smallest( num11, num12, num13 ) + smallest( num21, num22, num23 ) )\n",
    "print( \"sum of middle =\", middle( num11, num12, num13 ) + middle( num21, num22, num23 ) )\n",
    "print( \"sum of largest =\", largest( num11, num12, num13 ) + largest( num21, num22, num23 ) )"
   ]
  },
  {
   "cell_type": "markdown",
   "metadata": {},
   "source": [
    "The program now works as far as smallest numbers and largest numbers are concerned. To complete the code, a solution must be found for the middle. What is the middle of three numbers? It is the number that remains if the smallest and largest are taken out. Can this be programmed? Here I propose a `remove_two_of_three()` function. The function first removes the smallest from three numbers, then removes the largest of the remaining two, which is the same as the largest of the original three. So, for an easy implementation of `remove_two_of_three()`, I also implement functions `remove_one_of_three()` and `remove_one_of_two()`. "
   ]
  },
  {
   "cell_type": "code",
   "execution_count": null,
   "metadata": {
    "collapsed": false
   },
   "outputs": [],
   "source": [
    "num11, num12, num13 = 436, 178, 992\n",
    "num21, num22, num23 = 880, 543, 101\n",
    "\n",
    "def smallest_of_two( n1, n2 ):\n",
    "    if n1 < n2:\n",
    "        return n1\n",
    "    return n2\n",
    "\n",
    "def largest_of_two( n1, n2 ):\n",
    "    if n1 > n2:\n",
    "        return n1\n",
    "    return n2\n",
    "\n",
    "def remove_one_of_three( n1, n2, n3, remove ):\n",
    "    if n1 == remove:\n",
    "        return n2, n3\n",
    "    elif n2 == remove:\n",
    "        return n1, n3\n",
    "    return n1, n2\n",
    "    \n",
    "def remove_one_of_two( n1, n2, remove ):\n",
    "    if n1 == remove:\n",
    "        return n2\n",
    "    return n1\n",
    "\n",
    "def remove_two_of_three( n1, n2, n3, remove1, remove2 ):\n",
    "    num1, num2 = remove_one_of_three( n1, n2, n3, smallest( n1, n2, n3 ) )\n",
    "    return remove_one_of_two( num1, num2, largest( n1, n2, n3 ) )\n",
    "\n",
    "def smallest( n1, n2, n3 ):\n",
    "    return smallest_of_two( smallest_of_two( n1, n2 ), n3 )\n",
    "\n",
    "def middle( n1, n2, n3 ):\n",
    "    return remove_two_of_three( n1, n2, n3, smallest( n1, n2, n3 ), largest( n1, n2, n3 ) )\n",
    "\n",
    "def largest( n1, n2, n3 ):\n",
    "    return largest_of_two( largest_of_two( n1, n2 ), n3 )\n",
    "\n",
    "print( \"sum of smallest =\", smallest( num11, num12, num13 ) + smallest( num21, num22, num23 ) )\n",
    "print( \"sum of middle =\", middle( num11, num12, num13 ) + middle( num21, num22, num23 ) )\n",
    "print( \"sum of largest =\", largest( num11, num12, num13 ) + largest( num21, num22, num23 ) )"
   ]
  },
  {
   "cell_type": "markdown",
   "metadata": {},
   "source": [
    "The program is now finished and it works. It is fairly long, but all the functions are easy to understand, and it is also easy to understand why the program works. It is *still* shorter than the original attempt, with at least six nested `if` statements, would have been, and it is a *lot* more readable.\n",
    "\n",
    "It might be that there are different approaches for this program. With some inventiveness, you might come up with smarter ways to determine smallest, middle, and largest (I am not completely satisfied with my approach for the middle). But the program works, and is understandable, and that is the most important.\n",
    "\n",
    "You can criticize the approach that I take in this program. For instance, calculation of the smallest of the same three numbers takes place twice: once to determine the smallest, and once to determine the middle. The same holds for the largest. Can this be optimized, so that such a determination takes place only once? Of course it can, for instance by the introduction of two extra variables that keep track of the smallest and largest numbers. But why would I? That would not make the program more readable, and while it would make the program a bit faster, I am talking nanoseconds here. For a program like this, speed is unimportant and completely subject to readability. Let me stress again that while learning programming, solving a problem correctly comes first, immediately followed by solving a problem in a readable and maintainable way. Efficiency comes much later. \n",
    "\n",
    "What you should learn from this, is that when a program consists of a series of problems that you find hard to solve, you should try to split it into sub-problems or sub-goals, and solve these independently. You can often already introduce functions for sub-problems when you set up the program, and then for the time being fill these function templates with something simple, like returning a constant. You can then at least test the program. Later on, you can start filling in all the function templates that you created."
   ]
  },
  {
   "cell_type": "markdown",
   "metadata": {},
   "source": [
    "---"
   ]
  },
  {
   "cell_type": "markdown",
   "metadata": {},
   "source": [
    "## Modules"
   ]
  },
  {
   "cell_type": "markdown",
   "metadata": {},
   "source": [
    "Creating a module is very simple. You just create a Python file, with extension `.py`, and place functions in it. You can then `import` this Python file in another Python program (you just use the name of the file without the extension `.py`; the file should be either in the same folder as the program, or in a standard Python modules location), and access its functions just as you access functions from regular Python modules, i.e., you either `import` specific functions `from` the module, or you `import` the module as a whole, and call its functions by using the `<module>.<function>()` syntax.  "
   ]
  },
  {
   "cell_type": "markdown",
   "metadata": {},
   "source": [
    "### `main()`"
   ]
  },
  {
   "cell_type": "markdown",
   "metadata": {},
   "source": [
    "When examining other people's Python programs, in particular those that contain functions that you might want to import, you often see a construct like shown below:"
   ]
  },
  {
   "cell_type": "code",
   "execution_count": null,
   "metadata": {
    "collapsed": false
   },
   "outputs": [],
   "source": [
    "def main():\n",
    "    # code...\n",
    "\n",
    "if __name__ == '__main__':\n",
    "    main()"
   ]
  },
  {
   "cell_type": "markdown",
   "metadata": {},
   "source": [
    "The function `main()` contains the core of the program, and may call other functions. \n",
    "\n",
    "There is no need to understand this exactly, but what happens here is the following: the Python file that contains the code can run as a program, or the functions that it contains can be imported into other programs. The construction shown here ensures that the program only executes `main()` (which is the core program) if the program is run as a separate program, rather than being loaded as a module. If, instead, the program is loaded as a module into another program, only its functions can be accessed, and the code for `main()` is ignored.\n",
    "\n",
    "If the Python file that contains such a construct is predominantly used as a module, the `main()` function usually contains some code that tests the functions in the module. This is useful during development time.\n",
    "\n",
    "The use of a program `main()` for the main functionality has an extra use, though. Since it is a function, if you want to leave the program for some reason in the middle of processing, you do not need to use the `exit()` function from the `sys` module. You can simple `return` from the `main()` function. This avoids the ugly error message."
   ]
  },
  {
   "cell_type": "markdown",
   "metadata": {},
   "source": [
    "---"
   ]
  },
  {
   "cell_type": "markdown",
   "metadata": {},
   "source": [
    "## Anonymous functions"
   ]
  },
  {
   "cell_type": "markdown",
   "metadata": {},
   "source": [
    "The concept of \"anonymous functions\" should be considered optional material: they are rarely used, and never needed. However, for completeness I discuss them here.\n",
    "\n",
    "Python allows a program to create a function that has no name. The function can be assigned to a variable, and the variable can then be used as if it is a function. To create an anonymous function, you use the following syntax:\n",
    "\n",
    "    lambda <parameters>: <statement>\n",
    "    \n",
    "`lambda` is a keyword. `<parameters>` is a sequence of parameter names, separated by comma's if there is more than one. `<statement>` is one single statement. The anonymous function does not need the keyword `return`, but the value of `<statement>` is used as return value.\n",
    "\n",
    "For instance, the following code creates an anonymous function that calculates the square of its parameter. The function gets assigned to a variable `f`. `f` can then be called as a function, to calculate the squares of numbers."
   ]
  },
  {
   "cell_type": "code",
   "execution_count": null,
   "metadata": {
    "collapsed": false
   },
   "outputs": [],
   "source": [
    "f = lambda x: x*x\n",
    "\n",
    "print( f(12) )"
   ]
  },
  {
   "cell_type": "markdown",
   "metadata": {},
   "source": [
    "This code is *exactly* the same as the following code:"
   ]
  },
  {
   "cell_type": "code",
   "execution_count": null,
   "metadata": {
    "collapsed": false
   },
   "outputs": [],
   "source": [
    "def f( x ):\n",
    "    return x*x\n",
    "\n",
    "print( f(12) )"
   ]
  },
  {
   "cell_type": "markdown",
   "metadata": {},
   "source": [
    "So, if anonymous functions are no different from regular functions, and actually more limited as they can only use a single line of code, why are they included in Python? Actually, there has been going on quite a lot of debate amongst the people who create Python whether or not the `lambda` keyword should remain. It is part of Python because it is also part of other programming languages, in particular functional programming languages such as Lisp and Haskell, which rely on the concept of anonymous functions. But the `lambda` keyword in Python is not as powerful as the `lambda` keyword in these other languages, and, as we have seen, not really needed. A main reason that it is still part of Python is backwards compatibility, and the vocality of the keyword's proponents; to put an end to the discussions, it was decided to let it remain.\n",
    "\n",
    "Occasionally, anonymous functions have their uses, and can actually make programs a bit more readable. I will show an example in the chapter on lists."
   ]
  },
  {
   "cell_type": "markdown",
   "metadata": {},
   "source": [
    "---"
   ]
  },
  {
   "cell_type": "markdown",
   "metadata": {},
   "source": [
    "## What you learned"
   ]
  },
  {
   "cell_type": "markdown",
   "metadata": {},
   "source": [
    "In this chapter, you learned about:\n",
    "\n",
    "- The purpose of functions\n",
    "- Creating functions\n",
    "- Parameters and arguments\n",
    "- Returning values from functions with `return`\n",
    "- Naming conventions for functions\n",
    "- Commenting functions\n",
    "- Variable scope and lifetime\n",
    "- Local and global variables\n",
    "- Using functions to manage program complexity\n",
    "- Creating modules\n",
    "- Using a `main()` function\n",
    "- Anonymous functions"
   ]
  },
  {
   "cell_type": "markdown",
   "metadata": {},
   "source": [
    "---"
   ]
  },
  {
   "cell_type": "markdown",
   "metadata": {},
   "source": [
    "# Exercises"
   ]
  },
  {
   "cell_type": "markdown",
   "metadata": {},
   "source": [
    "In these exercises you write functions. Of course, you should not only write the functions, you should also write code to test them. For practice, you should also comment your functions as explained above."
   ]
  },
  {
   "cell_type": "markdown",
   "metadata": {},
   "source": [
    "### Exercise 9.1"
   ]
  },
  {
   "cell_type": "markdown",
   "metadata": {},
   "source": [
    "Create a function that gets a number as parameter, and then prints the multiplication table for that number from 1 to 10. E.g., when the parameter is `12`, the first line printed is \"`1 * 12 = 12`\" and the last line printed is \"`10 * 12 = 120`\"."
   ]
  },
  {
   "cell_type": "code",
   "execution_count": null,
   "metadata": {
    "collapsed": true
   },
   "outputs": [],
   "source": [
    "# Multiplication table function.\n"
   ]
  },
  {
   "cell_type": "markdown",
   "metadata": {},
   "source": [
    "### Exercise 9.2"
   ]
  },
  {
   "cell_type": "markdown",
   "metadata": {},
   "source": [
    "Write a function that gets as parameters two strings. The function returns the number of characters that the strings have in common. Each character counts only once, e.g., the strings \"bee\" and \"peer\" only have one character in common (the letter \"e\"). You can consider capitals different from lower case letters.\n",
    "\n",
    "Note: the function should *return* the number of characters that the strings have in common, and not *print* it. To test the function, you can print the result of the function in your main program."
   ]
  },
  {
   "cell_type": "code",
   "execution_count": null,
   "metadata": {
    "collapsed": true
   },
   "outputs": [],
   "source": [
    "# Common characters.\n"
   ]
  },
  {
   "cell_type": "markdown",
   "metadata": {},
   "source": [
    "### Exercise 9.3"
   ]
  },
  {
   "cell_type": "markdown",
   "metadata": {},
   "source": [
    "The Grerory-Leibnitz series approximates pi as `4 * (1/1 - 1/3 + 1/5 - 1/7 + 1/9 ...)`. Write a function that returns the approximation of pi according to this series. The function gets one parameter, namely an integer that indicates how many of the terms between the parentheses must be calculated. "
   ]
  },
  {
   "cell_type": "code",
   "execution_count": null,
   "metadata": {
    "collapsed": true
   },
   "outputs": [],
   "source": [
    "# Gregory-Leibnitz.\n"
   ]
  },
  {
   "cell_type": "markdown",
   "metadata": {},
   "source": [
    "### Exercise 9.4"
   ]
  },
  {
   "cell_type": "markdown",
   "metadata": {},
   "source": [
    "Exercise 7.4 asked to implement the quadratic formula to solve quadratic equations. A quadratic equation is described by three numeric values, usually called `A`, `B`, and `C`. It has zero, one, or two solutions, depending on the discriminant (the part under the square root). Write a function that solves a quadratic equation. As parameters it gets `A`, `B`, and `C`. It returns three values. The first is an integer that indicates the number of solutions. The second is the first solution. The third is the second solution. Any of the solutions that do not exist, you can return as zero. "
   ]
  },
  {
   "cell_type": "code",
   "execution_count": null,
   "metadata": {
    "collapsed": true
   },
   "outputs": [],
   "source": [
    "# Quadratic equation solver.\n"
   ]
  },
  {
   "cell_type": "markdown",
   "metadata": {},
   "source": [
    "### Exercise 9.5"
   ]
  },
  {
   "cell_type": "markdown",
   "metadata": {},
   "source": [
    "In the previous chapter, the loop-and-a-half was explained. The final code for the example that was presented is given below, and I made the remark that there is still something ugly about this code, namely the fact that if `x` is smaller than zero or higher than 1000, the code still asks for `y` even when it can know that it has to ask a new value for `x`. I also remarked that you can resolve this in an easy way by using a function. Create a function and insert it in this code, so that this issue gets fixed. Also get rid of the `exit()` and thus the possible ugly output by introducing a `main()` function."
   ]
  },
  {
   "cell_type": "code",
   "execution_count": null,
   "metadata": {
    "collapsed": true
   },
   "outputs": [],
   "source": [
    "from pcinput import getInteger\n",
    "from sys import exit\n",
    "\n",
    "while True:\n",
    "    x = getInteger( \"Enter number 1: \" )\n",
    "    if x == 0:\n",
    "        break\n",
    "    y = getInteger( \"Enter number 2: \" )\n",
    "    if y == 0:\n",
    "        break\n",
    "    if (x < 0 or x > 1000) or (y < 0 or y > 1000):\n",
    "        print( \"The numbers should be between 0 and 1000\" )\n",
    "        continue\n",
    "    if x%y == 0 or y%x == 0:\n",
    "        print( \"Error: the numbers cannot be dividers of each other\" )\n",
    "        exit()\n",
    "    print( \"Multiplication of\", x, \"and\", y, \"gives\", x * y )\n",
    "    \n",
    "print( \"Goodbye!\" )"
   ]
  },
  {
   "cell_type": "markdown",
   "metadata": {},
   "source": [
    "### Exercise 9.6"
   ]
  },
  {
   "cell_type": "markdown",
   "metadata": {},
   "source": [
    "In statistics, the binomial coefficient indexed by `n` and `k` (often expressed as \"n over k\", whereby `n` must be bigger than or equal to `k`) is calculated as `n!/(k!*(n-k)!)`, whereby `n!` indicates the factorial of `n`. As I explained in the previous chapter: the factorial of a positive integer is that integer, multiplied by all positive integers that are lower (excluding zero). You write the factorial as the number with an exclamation mark after it. E.g., the factorial of 5 is `5! = 5 * 4 * 3 * 2 * 1 = 120`. If you diligently did the last chapter, you wrote some code for this. Write a function that calculates the binomial coefficient for its two parameters, and returns the value. Write the code in such a way that it can be used as a module by another program (i.e., put the tests of your program in a `main()` function that is called as explained in the section on modules)."
   ]
  },
  {
   "cell_type": "code",
   "execution_count": null,
   "metadata": {
    "collapsed": true
   },
   "outputs": [],
   "source": [
    "# Binomial coefficient.\n"
   ]
  },
  {
   "cell_type": "markdown",
   "metadata": {},
   "source": [
    "### Exercise 9.7"
   ]
  },
  {
   "cell_type": "markdown",
   "metadata": {},
   "source": [
    "What is wrong with the following code? Fix it!"
   ]
  },
  {
   "cell_type": "code",
   "execution_count": null,
   "metadata": {
    "collapsed": true
   },
   "outputs": [],
   "source": [
    "# What is wrong?\n",
    "def area_of_triangle( bottom, height ):\n",
    "    area = 0.5 * bottom * height\n",
    "    print( \"The area of a triangle with a bottom of\", bottom, \"and a height of\", height, \"is\", area )\n",
    "    \n",
    "print( area_of_triangle( 4.5, 1.0 ) )"
   ]
  },
  {
   "cell_type": "markdown",
   "metadata": {},
   "source": [
    "Note: Code like this is typically written by students who have not yet grasped the intricacies of using functions."
   ]
  },
  {
   "cell_type": "markdown",
   "metadata": {},
   "source": [
    "---"
   ]
  },
  {
   "cell_type": "markdown",
   "metadata": {},
   "source": [
    "End of Chapter 9. Version 1.0."
   ]
  }
 ],
 "metadata": {
  "kernelspec": {
   "display_name": "Python 3",
   "language": "python",
   "name": "python3"
  },
  "language_info": {
   "codemirror_mode": {
    "name": "ipython",
    "version": 3
   },
   "file_extension": ".py",
   "mimetype": "text/x-python",
   "name": "python",
   "nbconvert_exporter": "python",
   "pygments_lexer": "ipython3",
   "version": "3.4.2"
  }
 },
 "nbformat": 4,
 "nbformat_minor": 0
}
