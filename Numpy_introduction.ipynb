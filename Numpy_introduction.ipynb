{
 "cells": [
  {
   "cell_type": "markdown",
   "metadata": {},
   "source": [
    "# Numpy"
   ]
  },
  {
   "cell_type": "markdown",
   "metadata": {},
   "source": [
    "## Data types in Numpy\n",
    "\n",
    "Numpy is based on **arrays**. You can think of an array as a list, or a table."
   ]
  },
  {
   "cell_type": "markdown",
   "metadata": {},
   "source": [
    "An array is a table of elements. \n",
    "An array in Python can be created from a pre-specified list or a tuple with the `array` function. \n",
    "Make sure you do not forget the [ ] or ( ) brackets! \n",
    "An n-dimensional array can also be created based on a combination of tuples and lists.\n",
    "\n",
    "For more information about creating arrays: \n",
    "http://docs.scipy.org/doc/numpy/user/basics.creation.html"
   ]
  },
  {
   "cell_type": "code",
   "execution_count": 2,
   "metadata": {
    "collapsed": false
   },
   "outputs": [
    {
     "name": "stdout",
     "output_type": "stream",
     "text": [
      "[1 3 5 7 9]\n",
      "[2 4 6 8]\n"
     ]
    }
   ],
   "source": [
    "# create array from a list:\n",
    "print( numpy.array([1, 3, 5, 7, 9]) )\n",
    "\n",
    "# create array from a tuple:\n",
    "print( numpy.array((2, 4, 6, 8)) )"
   ]
  },
  {
   "cell_type": "markdown",
   "metadata": {},
   "source": [
    "Also, an empty array or an array with only zeros or ones can be created with the `empty`, `zeros` and `ones` functions. \n",
    "For this, the shape of the array is the input for the function. \n",
    "More about the shape and dimensionality is explained in the next section. \n",
    "The content of the empty array can be anything."
   ]
  },
  {
   "cell_type": "code",
   "execution_count": 3,
   "metadata": {
    "collapsed": false
   },
   "outputs": [
    {
     "name": "stdout",
     "output_type": "stream",
     "text": [
      "[ -2.68156159e+154  -2.68156159e+154   6.74179579e+199]\n",
      "[ 0.  0.  0.  0.]\n",
      "[ 1.  1.  1.  1.  1.]\n"
     ]
    }
   ],
   "source": [
    "# create an empty array:\n",
    "print( numpy.empty((3)) )\n",
    "\n",
    "# create array with only zeros:\n",
    "print( numpy.zeros((4)) )\n",
    "\n",
    "# create array with only ones:\n",
    "print( numpy.ones((5)) )"
   ]
  },
  {
   "cell_type": "markdown",
   "metadata": {},
   "source": [
    "If we want to create an array with random numbers we can use the `numpy.random.random` function, this gives an array with numbers between 0 and 1.\n",
    "\n",
    "The expression `numpy.random.uniform(x, y, z)` returns an array with `z` random numbers uniformly drawn from the interval between `x` and `y`."
   ]
  },
  {
   "cell_type": "code",
   "execution_count": 4,
   "metadata": {
    "collapsed": false
   },
   "outputs": [
    {
     "name": "stdout",
     "output_type": "stream",
     "text": [
      "[ 0.81991612  0.9588003   0.41758327  0.13524802]\n",
      "[ 9.85064941  7.22872404  9.77355862  7.72513108  5.72537798]\n"
     ]
    }
   ],
   "source": [
    "# create array with random numbers between 0 and 1:\n",
    "print( numpy.random.random(4) )\n",
    "\n",
    "# create array with random numbers between 5 and 10:\n",
    "print( numpy.random.uniform(5, 10, 5) )"
   ]
  },
  {
   "cell_type": "markdown",
   "metadata": {},
   "source": [
    "The identity matrix is a $n \\times n$ matrix with all zeros, but with ones on the diagonal. \n",
    "The identity matrix can be created with the `eye(n)` function. Since the identity matrix is always a square only one input parameter is needed to create a 2-dimensional matrix."
   ]
  },
  {
   "cell_type": "code",
   "execution_count": 5,
   "metadata": {
    "collapsed": false
   },
   "outputs": [
    {
     "name": "stdout",
     "output_type": "stream",
     "text": [
      "[[ 1.  0.]\n",
      " [ 0.  1.]]\n"
     ]
    }
   ],
   "source": [
    "# create n by n identity matrix:\n",
    "print( numpy.eye(2) )"
   ]
  },
  {
   "cell_type": "markdown",
   "metadata": {},
   "source": [
    "Numpy has a function which is similar to the `range()` function which is `arange(a, b, s)`, where $a$ is the start point, $b$ is the end point and $s$ is the step size. The function can have integers or floats as inputs.\n",
    "Another function to create a range is the `linspace(a, b, i)` function, where $a$ is the start point, $b$ is the end point, and $i$ is the number of items.\n",
    "\n",
    "The advantage of the `linspace` function is that you can specify the number of items and the advantage of the `arange` function is that you can specify the step size."
   ]
  },
  {
   "cell_type": "code",
   "execution_count": 6,
   "metadata": {
    "collapsed": false
   },
   "outputs": [
    {
     "name": "stdout",
     "output_type": "stream",
     "text": [
      "[  1.    3.1   5.2   7.3   9.4  11.5]\n",
      "[ 0.    0.25  0.5   0.75  1.    1.25  1.5   1.75  2.  ]\n"
     ]
    }
   ],
   "source": [
    "# fixed step size:\n",
    "x = numpy.arange(1, 11.9, 2.1)\n",
    "print( x )\n",
    "\n",
    "# fixed number of items:\n",
    "y = numpy.linspace(0, 2, 9)\n",
    "print( y )"
   ]
  },
  {
   "cell_type": "markdown",
   "metadata": {},
   "source": [
    "## Dimensionality of Arrays\n",
    "\n",
    "The shape of array objects is determined by the number of dimensions in the array and the length of each dimension."
   ]
  },
  {
   "cell_type": "markdown",
   "metadata": {},
   "source": [
    "### Creating one dimensional arrays\n",
    "\n",
    "1-dimensional arrays are unique in that there are two types: row or column vectors.\n",
    "\n",
    "#### Row vectors\n",
    "\n",
    "A row vector consists of a single row of values with multiple columns. By default, a one-dimensional Numpy array is a row vector. In order to create a column vector, you need to use a two-dimensional array, with the second dimension equal to 1. We will discuss them after 2D arrays."
   ]
  },
  {
   "cell_type": "code",
   "execution_count": 7,
   "metadata": {
    "collapsed": false
   },
   "outputs": [
    {
     "name": "stdout",
     "output_type": "stream",
     "text": [
      "[ 0.  0.  0.]\n",
      "1 (3,) 3\n",
      "[1 2 3]\n",
      "1 (3,) 3\n"
     ]
    }
   ],
   "source": [
    "a = numpy.zeros((3))\n",
    "b = numpy.array([1, 2, 3])\n",
    "print( a )\n",
    "print( a.ndim, a.shape, a.size )\n",
    "print( b )\n",
    "print( b.ndim, b.shape, b.size )"
   ]
  },
  {
   "cell_type": "markdown",
   "metadata": {},
   "source": [
    "### Create two dimensonal arrays\n",
    "\n",
    "An array can be 2-dimensional, where $m$ is the number of rows and $n$ the number of columns. \n",
    "In case of a 2-dimensional array, the first dimension is the rows and the second dimension is the columns."
   ]
  },
  {
   "cell_type": "code",
   "execution_count": 8,
   "metadata": {
    "collapsed": false
   },
   "outputs": [
    {
     "name": "stdout",
     "output_type": "stream",
     "text": [
      "[[1 3 6 5]\n",
      " [2 4 3 0]]\n"
     ]
    }
   ],
   "source": [
    "print( numpy.array([[1, 3, 6, 5], [2, 4, 3, 0]]) )"
   ]
  },
  {
   "cell_type": "markdown",
   "metadata": {},
   "source": [
    "### N dimensional arrays\n",
    "\n",
    "In general, an array can be $n$-dimensional. You think of $n$-dimensional arrays in terms of the bookshelf analogy:\n",
    "\n",
    "- 1d array is a single row of a bookshelf, where a book can be identified by its position in the row\n",
    "- 2d array is the whole bookshelf, where a book can be identified by its row number and its position in the row\n",
    "- 3d array is a room full of bookshelves, where a book can be identified by the number of the bookshelf, row, and position in the row\n",
    "- 4d array is a library with rooms with bookshelves, where a book can be identified by the room, bookshelf, row and position in the row"
   ]
  },
  {
   "cell_type": "code",
   "execution_count": 9,
   "metadata": {
    "collapsed": false
   },
   "outputs": [
    {
     "name": "stdout",
     "output_type": "stream",
     "text": [
      "[[[ 1  3]\n",
      "  [ 2  4]]\n",
      "\n",
      " [[11 13]\n",
      "  [12 14]]]\n",
      "Number of dimensions: 3\n",
      "Length of each dimension: (2, 2, 2)\n",
      "The total number of elements: 8\n"
     ]
    }
   ],
   "source": [
    "# create a three dimensional array:\n",
    "z1 = numpy.array([[[1, 3], [2, 4]], [[11, 13], [12, 14]] ])\n",
    "\n",
    "# dimensions/shape/size of the array:\n",
    "print(z1)\n",
    "print( \"Number of dimensions:\", z1.ndim )\n",
    "print( \"Length of each dimension:\", z1.shape )\n",
    "print( \"The total number of elements:\", z1.size )"
   ]
  },
  {
   "cell_type": "code",
   "execution_count": 10,
   "metadata": {
    "collapsed": false
   },
   "outputs": [
    {
     "name": "stdout",
     "output_type": "stream",
     "text": [
      "First element: 1\n",
      "Last element: 14\n",
      "Some element: 13\n"
     ]
    }
   ],
   "source": [
    "# access some elements in the three dimensional array:\n",
    "print( \"First element:\", z1[0, 0, 0] )\n",
    "print( \"Last element:\", z1[1, 1, 1] )\n",
    "print( \"Some element:\", z1[1, 0, 1] )"
   ]
  },
  {
   "cell_type": "code",
   "execution_count": 11,
   "metadata": {
    "collapsed": false
   },
   "outputs": [
    {
     "name": "stdout",
     "output_type": "stream",
     "text": [
      "[[  5.26626229e-01   3.58504156e-01   6.04682331e-01]\n",
      " [  6.77856813e-01   3.55446355e-04   1.63886240e-01]]\n",
      "First row:\n",
      " [ 0.52662623  0.35850416  0.60468233]\n",
      "Second column:\n",
      " [  3.58504156e-01   3.55446355e-04]\n",
      "First two columns:\n",
      " [[  5.26626229e-01   3.58504156e-01]\n",
      " [  6.77856813e-01   3.55446355e-04]]\n"
     ]
    }
   ],
   "source": [
    "## Extract dimensions\n",
    "a = numpy.random.random(2*3).reshape(2,3)\n",
    "print(a)\n",
    "print( \"First row:\\n\", a[0, :] )\n",
    "print( \"Second column:\\n\", a[:, 1] )\n",
    "print( \"First two columns:\\n\", a[:,0:2] )"
   ]
  },
  {
   "cell_type": "markdown",
   "metadata": {},
   "source": [
    "### Reshaping arrays\n",
    "A 1D array can be converted to an $n$ dimensional array using the `reshape()` function. \n",
    "\n",
    "Note that the the total number of elements in the array have to be the same as the product of the lengths of the dimensions. For example, if the length of the list is 24, then we can reshape it to a 4 by 6 matrix, but also to a 2 by 3 by 4 matrix.\n",
    "\n",
    "Let's assume we have a 2 by 3 by 4 matrix, which we will call z. Since the index in Python starts at 0, the first element of the array is `z[0,0,0]`, but the last element of the array is not z[2, 3, 4] but rather `z[1, 2, 3]`.\n",
    "\n",
    "Let x be the ndarray. Some important functions to get insight in the dimensionality:\n",
    "- `x.ndim` : the number of dimensions.\n",
    "- `x.shape` : the length of each dimension.\n",
    "- `x.size` : the total number of elements."
   ]
  },
  {
   "cell_type": "code",
   "execution_count": 12,
   "metadata": {
    "collapsed": false
   },
   "outputs": [
    {
     "name": "stdout",
     "output_type": "stream",
     "text": [
      "[[ 2  4  6]\n",
      " [ 8 10 12]]\n",
      "[[[ 0  1  2  3]\n",
      "  [ 4  5  6  7]\n",
      "  [ 8  9 10 11]]\n",
      "\n",
      " [[12 13 14 15]\n",
      "  [16 17 18 19]\n",
      "  [20 21 22 23]]]\n",
      "Number of dimensions: 3\n",
      "Length of each dimension: (2, 3, 4)\n",
      "The total number of elements: 24\n"
     ]
    }
   ],
   "source": [
    "# reshape into a two dimensional array:\n",
    "print( numpy.arange(2, 14, 2).reshape((2, 3)) )\n",
    "\n",
    "# reshape into a three dimensional array:\n",
    "z2 = numpy.arange(24).reshape((2, 3, 4))\n",
    "\n",
    "# dimensions/shape/size of the array:\n",
    "print( z2 )\n",
    "print(\"Number of dimensions:\", z2.ndim)\n",
    "print(\"Length of each dimension:\", z2.shape)\n",
    "print(\"The total number of elements:\", z2.size)\n",
    "\n"
   ]
  },
  {
   "cell_type": "markdown",
   "metadata": {},
   "source": [
    "### Creating one dimensional column vectors\n",
    "\n",
    "Column vectors have multiple rows and a single column. Numpy represents column vectors as a two-dimensional array with only one column."
   ]
  },
  {
   "cell_type": "code",
   "execution_count": 13,
   "metadata": {
    "collapsed": false
   },
   "outputs": [
    {
     "name": "stdout",
     "output_type": "stream",
     "text": [
      "[[ 0.]\n",
      " [ 0.]\n",
      " [ 0.]]\n",
      "2 (3, 1) 3\n",
      "[[1]\n",
      " [2]\n",
      " [3]]\n",
      "2 (3, 1) 3\n",
      "[[1]\n",
      " [2]\n",
      " [3]]\n",
      "2 (3, 1) 3\n"
     ]
    }
   ],
   "source": [
    "a = numpy.zeros((3,1))\n",
    "b = numpy.array([[1], [2], [3]])\n",
    "c = numpy.array([1,2,3]).reshape((3,1))\n",
    "print( a )\n",
    "print(a.ndim, a.shape, a.size)\n",
    "print( b )\n",
    "print(b.ndim, b.shape, b.size)\n",
    "print( c )\n",
    "print(c.ndim, c.shape, c.size)"
   ]
  },
  {
   "cell_type": "markdown",
   "metadata": {},
   "source": [
    "## Array Indexing\n",
    "\n",
    "For complete information  about indexing see\n",
    "http://docs.scipy.org/doc/numpy/user/basics.indexing.html\n",
    "\n",
    "There are many ways to address content in an array:\n",
    "\n",
    "- We have already gone over Matrix indexing, in which the contents of the array are accessed by specifying an index for each dimension"
   ]
  },
  {
   "cell_type": "code",
   "execution_count": 22,
   "metadata": {
    "collapsed": false
   },
   "outputs": [
    {
     "name": "stdout",
     "output_type": "stream",
     "text": [
      "[[-0.24589574  0.11177302  0.13531942  0.3479577  -0.4192539 ]\n",
      " [ 0.37813752 -0.35211268 -0.41315332 -0.44628705 -0.36826755]\n",
      " [-0.23055912 -0.45735929 -0.14739955  0.35885095  0.21489465]\n",
      " [ 0.48975864  0.40247149 -0.35892262 -0.30953596 -0.04852892]\n",
      " [ 0.24586157 -0.29458672  0.18208263 -0.10046938 -0.1520591 ]]\n",
      "0.358850951681\n"
     ]
    }
   ],
   "source": [
    "a = numpy.random.uniform(-0.5,.5,(5,5))\n",
    "print( a )\n",
    "\n",
    "# Return a value specified by a matrix index\n",
    "print( a[2, 3] )"
   ]
  },
  {
   "cell_type": "markdown",
   "metadata": {},
   "source": [
    "- Linear indexing transform the n-dimensional array to a 1-dimensional list. One example of the linear index is returned when the `argmin` and `argmax` function are applied to an n-dimensional array. "
   ]
  },
  {
   "cell_type": "code",
   "execution_count": 23,
   "metadata": {
    "collapsed": false
   },
   "outputs": [
    {
     "name": "stdout",
     "output_type": "stream",
     "text": [
      "15\n",
      "0.489758641035\n"
     ]
    }
   ],
   "source": [
    "# Print the index of the maximum value\n",
    "max_value = numpy.argmax(a)\n",
    "print( max_value )\n",
    "\n",
    "# Print that value, note the necessary flattening\n",
    "print( a.flat[max_value] )"
   ]
  },
  {
   "cell_type": "markdown",
   "metadata": {},
   "source": [
    "- Boolean indexing, which returns all values in the array for which the index is True."
   ]
  },
  {
   "cell_type": "code",
   "execution_count": 24,
   "metadata": {
    "collapsed": false
   },
   "outputs": [
    {
     "name": "stdout",
     "output_type": "stream",
     "text": [
      "[[False  True  True  True False]\n",
      " [ True False False False False]\n",
      " [False False False  True  True]\n",
      " [ True  True False False False]\n",
      " [ True False  True False False]]\n",
      "[ 0.11177302  0.13531942  0.3479577   0.37813752  0.35885095  0.21489465\n",
      "  0.48975864  0.40247149  0.24586157  0.18208263]\n"
     ]
    }
   ],
   "source": [
    "# Create a boolean index for positive numbers in array a\n",
    "index = a > 0.0\n",
    "print( index )\n",
    "# Print all the positive numbers\n",
    "print( a[index] )"
   ]
  },
  {
   "cell_type": "markdown",
   "metadata": {},
   "source": [
    "- Indexing with an array of indices. In this case you specify a separate array in which you store the indices as integers and you will return exactly the elements of the array with these indices. "
   ]
  },
  {
   "cell_type": "code",
   "execution_count": 25,
   "metadata": {
    "collapsed": false
   },
   "outputs": [
    {
     "name": "stdout",
     "output_type": "stream",
     "text": [
      "[ 0.          0.11111111  0.22222222  0.33333333  0.44444444  0.55555556\n",
      "  0.66666667  0.77777778  0.88888889  1.        ]\n",
      "[ 0.22222222  0.33333333  0.55555556  0.77777778]\n"
     ]
    }
   ],
   "source": [
    "b = numpy.linspace(0,1,10)\n",
    "print( b )\n",
    "\n",
    "# Print numbers at prime indices\n",
    "index = numpy.array([ 2, 3, 5, 7])\n",
    "print( b[index] )"
   ]
  },
  {
   "cell_type": "markdown",
   "metadata": {},
   "source": [
    "### Linear and matrix indexing\n",
    "\n",
    "Indexing in a 1-dimensional matrix is the same as the indexing in a Python list. And if you want to apply something to every element of the array then one simple for-loop over the items can do the trick.\n",
    "\n",
    "Indexing in a n-dimensional array has one index for every dimension. To access one element of the array, the index of every dimension should be given. When accessing more than one element, the slicing `\":\"` can be used, and this works similar as it works with lists, but then you can use the `\":\"` for every dimension. If no index is given for a dimension, then the `\":\"` will be given.\n",
    "If the index is `[a:b]` then indices that are used are `a` up to but not including `b`."
   ]
  },
  {
   "cell_type": "code",
   "execution_count": 26,
   "metadata": {
    "collapsed": false
   },
   "outputs": [
    {
     "name": "stdout",
     "output_type": "stream",
     "text": [
      "[[[ 0  1  2  3]\n",
      "  [ 4  5  6  7]\n",
      "  [ 8  9 10 11]]\n",
      "\n",
      " [[12 13 14 15]\n",
      "  [16 17 18 19]\n",
      "  [20 21 22 23]]]\n",
      "\n",
      "Slices:\n",
      "[[ 7 11]\n",
      " [19 23]]\n",
      "[[ 8  9 10 11]\n",
      " [20 21 22 23]]\n"
     ]
    }
   ],
   "source": [
    "z = numpy.arange(24).reshape((2, 3, 4))\n",
    "print( z )\n",
    "\n",
    "# Print a few slices of a 3-dimensional array:\n",
    "print( \"\\nSlices:\" )\n",
    "print( z[0:2, 1:3, 3] )\n",
    "print( z[:, 2, :] )"
   ]
  },
  {
   "cell_type": "markdown",
   "metadata": {},
   "source": [
    "To convert from a linear index to a matrix index, use the function `numpy.unravel_index()`. The first argument is the linear index and the second argument is the shape of the array for which you want to transform the index. For example: `numpy.unravel_index(linear_index, (2,3))`. "
   ]
  },
  {
   "cell_type": "code",
   "execution_count": 27,
   "metadata": {
    "collapsed": false
   },
   "outputs": [
    {
     "name": "stdout",
     "output_type": "stream",
     "text": [
      "10\n",
      "10\n",
      "For a matrix with dimensions (2, 3, 4), the linear index:  10  is equal to matrix index:  (0, 2, 2)\n"
     ]
    }
   ],
   "source": [
    "# Converting a linear index to a matrix index:\n",
    "linear_index = 10\n",
    "matrix_index = numpy.unravel_index(linear_index, z.shape)\n",
    "print( z.flatten()[linear_index] )\n",
    "print( z[matrix_index] )\n",
    "\n",
    "print(\"For a matrix with dimensions (2, 3, 4), the linear index: \", linear_index, \" is equal to \\\n",
    "matrix index: \", matrix_index)"
   ]
  },
  {
   "cell_type": "markdown",
   "metadata": {},
   "source": [
    "### Boolean indexing\n",
    "\n",
    "A boolean index can be created directly, but most often it is built by specifying a certain condition.\n",
    "\n",
    "The condition will return a True or False for every position in the array and when the condition is True then the corresponding element will be retrieved."
   ]
  },
  {
   "cell_type": "code",
   "execution_count": 29,
   "metadata": {
    "collapsed": false
   },
   "outputs": [
    {
     "name": "stdout",
     "output_type": "stream",
     "text": [
      "[1 3 5]\n",
      "[4 5]\n"
     ]
    }
   ],
   "source": [
    "# Boolean indexing\n",
    "x = numpy.arange(1, 6)\n",
    "y = numpy.array([True, False, True, False, True ])\n",
    "print( x[y] )\n",
    "\n",
    "# Boolean indexing by using a condition\n",
    "print( x[x>3] )"
   ]
  },
  {
   "cell_type": "markdown",
   "metadata": {},
   "source": [
    "### Indexing with an array of indices\n",
    "\n",
    "Two advantages of specifying an array of indices to select is that you can explicitly specify the order in which you want to have the values and you can return multiple times the value at a certain position. "
   ]
  },
  {
   "cell_type": "code",
   "execution_count": 30,
   "metadata": {
    "collapsed": false
   },
   "outputs": [
    {
     "name": "stdout",
     "output_type": "stream",
     "text": [
      "[100 101 102 103 104 105 106 107 108 109 110]\n",
      "[8 3 8 4 9 3]\n",
      "[108 103 108 104 109 103]\n"
     ]
    }
   ],
   "source": [
    "x = numpy.arange(100, 111)\n",
    "indices = numpy.array([8, 3, 8, 4, 9, 3])\n",
    "print( x )\n",
    "print( indices )\n",
    "print( x[indices] )"
   ]
  },
  {
   "cell_type": "markdown",
   "metadata": {},
   "source": [
    "## Saving arrays to file\n",
    "\n",
    "When you want to save an array from numpy as a separate file you always have to specify the filename and the array you want to save and you can use the following functions:\n",
    "- `numpy.savetxt(filename, array)` : save an array to a text file. Some optional arguments are: delimiter=' ', newline = '\\n', header = ' '. http://docs.scipy.org/doc/numpy-1.10.0/reference/generated/numpy.savetxt.html#numpy.savetxt\n",
    "- `numpy.save(filename, array)` : save an array to a binary file in numpy `.npy` format. http://docs.scipy.org/doc/numpy-1.10.0/reference/generated/numpy.save.html#numpy.save\n"
   ]
  },
  {
   "cell_type": "markdown",
   "metadata": {},
   "source": [
    "# Extras about arrays"
   ]
  },
  {
   "cell_type": "markdown",
   "metadata": {},
   "source": [
    "### For loops over arrays\n",
    "\n",
    "Most of the time you want to use arrays to avoid loops, but sometimes you want to use a loop. Iterating over a 1-dimensional Numpy array is the same as in base python:"
   ]
  },
  {
   "cell_type": "code",
   "execution_count": 32,
   "metadata": {
    "collapsed": false
   },
   "outputs": [
    {
     "name": "stdout",
     "output_type": "stream",
     "text": [
      "5\n",
      "6\n",
      "7\n",
      "8\n",
      "9\n",
      "Element 5 at index 0\n",
      "Element 6 at index 1\n",
      "Element 7 at index 2\n",
      "Element 8 at index 3\n",
      "Element 9 at index 4\n"
     ]
    }
   ],
   "source": [
    "a = numpy.arange(5, 10)\n",
    "\n",
    "for element in a:\n",
    "    print( element )\n",
    "    \n",
    "for index, element in enumerate(a):\n",
    "    print( \"Element {} at index {}\".format(element, index) )"
   ]
  },
  {
   "cell_type": "markdown",
   "metadata": {},
   "source": [
    "It is also possible to iterate across a multi-dimensional Numpy array. If only one loop is used, then it will iterate over the first dimension and process a Numpy array in each step of the loop."
   ]
  },
  {
   "cell_type": "code",
   "execution_count": 33,
   "metadata": {
    "collapsed": false
   },
   "outputs": [
    {
     "name": "stdout",
     "output_type": "stream",
     "text": [
      "[[[ 0  1  2  3]\n",
      "  [ 4  5  6  7]\n",
      "  [ 8  9 10 11]]\n",
      "\n",
      " [[12 13 14 15]\n",
      "  [16 17 18 19]\n",
      "  [20 21 22 23]]]\n",
      "Print separator\n",
      "[[ 0  1  2  3]\n",
      " [ 4  5  6  7]\n",
      " [ 8  9 10 11]]\n",
      "Print separator\n",
      "[[12 13 14 15]\n",
      " [16 17 18 19]\n",
      " [20 21 22 23]]\n"
     ]
    }
   ],
   "source": [
    "z = numpy.arange(24).reshape((2, 3, 4))\n",
    "print( z )\n",
    "\n",
    "# for loop over the first dimension:\n",
    "for firstdimension in z:\n",
    "    print( \"Print separator\" )\n",
    "    print( firstdimension )"
   ]
  },
  {
   "cell_type": "markdown",
   "metadata": {},
   "source": [
    "If two nested for loops are used, then the loops iterate over the first two dimensions. "
   ]
  },
  {
   "cell_type": "code",
   "execution_count": 34,
   "metadata": {
    "collapsed": false
   },
   "outputs": [
    {
     "name": "stdout",
     "output_type": "stream",
     "text": [
      "Print separator\n",
      "[0 1 2 3]\n",
      "Print separator\n",
      "[4 5 6 7]\n",
      "Print separator\n",
      "[ 8  9 10 11]\n",
      "Print separator\n",
      "[12 13 14 15]\n",
      "Print separator\n",
      "[16 17 18 19]\n",
      "Print separator\n",
      "[20 21 22 23]\n"
     ]
    }
   ],
   "source": [
    "for firstdimension in z:\n",
    "    for seconddimension in firstdimension:\n",
    "        print( \"Print separator\" )\n",
    "        print( seconddimension )"
   ]
  },
  {
   "cell_type": "markdown",
   "metadata": {},
   "source": [
    "The same process occurs for multi-dimensional arrays. For loops will iterate over Numpy arrays or elements, depending on the dimensionality.\n",
    "\n",
    "When you use a for loop over a 3 dimensional array with shape (2, 3, 4) then you will receive exactly 2 iterations and in each iteration a 3 by 4 array is used. \n",
    "When you use two nested for loops over a 3 dimensional array with shape (2, 3, 4) then you will receive exactly 2*3=6 iterations and in each iteration an array of length 4 is used. \n",
    "\n",
    "If you want to loop over all the elements in the array regardless of dimensionality, then you should use the flat method instead of nested loops:"
   ]
  },
  {
   "cell_type": "code",
   "execution_count": 35,
   "metadata": {
    "collapsed": false
   },
   "outputs": [
    {
     "name": "stdout",
     "output_type": "stream",
     "text": [
      "0\n",
      "1\n",
      "2\n",
      "3\n",
      "4\n",
      "5\n",
      "6\n",
      "7\n",
      "8\n",
      "9\n",
      "10\n",
      "11\n",
      "12\n",
      "13\n",
      "14\n",
      "15\n",
      "16\n",
      "17\n",
      "18\n",
      "19\n",
      "20\n",
      "21\n",
      "22\n",
      "23\n"
     ]
    }
   ],
   "source": [
    "for element in z.flat:\n",
    "    print( element )"
   ]
  },
  {
   "cell_type": "markdown",
   "metadata": {},
   "source": [
    "### Copy of matrix\n",
    "\n",
    "When you do operations on an array, then you have to be careful whether or not the array is copied or only referenced to. When you change something in the copied array, then you have to be careful whether or not also the original array is changed.\n",
    "\n",
    "There are three cases:\n",
    "- No copy at all: only a reference to the existing object. When you change anything then the original array is also changed.\n",
    "- View or shallow copy: different array objects share the same data. When you reshape the array then the change in shape is not shared with the original array, but when you change the data then the change in data is shared with the original array and the original array is also changed. A shallow copy can be made with the y = x.view() function. When you slice an array then only a view is returned and no copy of the data is made.\n",
    "- Deep copy: complete copy of array and data. When you change something in the copied array then the original array remains the same. A deep copy can be made in numpy with the y = x.copy() function. \n",
    "\n"
   ]
  },
  {
   "cell_type": "code",
   "execution_count": 38,
   "metadata": {
    "collapsed": false
   },
   "outputs": [
    {
     "name": "stdout",
     "output_type": "stream",
     "text": [
      "[[   0 1000]\n",
      " [   2    3]\n",
      " [   4    5]\n",
      " [   6    7]\n",
      " [   8    9]]\n",
      "[[   0 1000]\n",
      " [   2    3]\n",
      " [   4    5]\n",
      " [   6    7]\n",
      " [   8    9]]\n"
     ]
    }
   ],
   "source": [
    "# no copy\n",
    "a = numpy.arange(10)\n",
    "b = a\n",
    "b.shape = (5,2)\n",
    "b[0,1] = 1000\n",
    "print( a )\n",
    "print( b )"
   ]
  },
  {
   "cell_type": "code",
   "execution_count": 39,
   "metadata": {
    "collapsed": false
   },
   "outputs": [
    {
     "name": "stdout",
     "output_type": "stream",
     "text": [
      "[   0 1000    2    3    4    5    6    7    8    9]\n",
      "[[   0 1000]\n",
      " [   2    3]\n",
      " [   4    5]\n",
      " [   6    7]\n",
      " [   8    9]]\n"
     ]
    }
   ],
   "source": [
    "# shallow copy\n",
    "a = numpy.arange(10)\n",
    "c = a.view()\n",
    "c.shape = (5,2)\n",
    "c[0,1] = 1000\n",
    "print( a )\n",
    "print( c )\n"
   ]
  },
  {
   "cell_type": "code",
   "execution_count": 40,
   "metadata": {
    "collapsed": false
   },
   "outputs": [
    {
     "name": "stdout",
     "output_type": "stream",
     "text": [
      "[0 1 2 3 4 5 6 7 8 9]\n",
      "[[   0 1000]\n",
      " [   2    3]\n",
      " [   4    5]\n",
      " [   6    7]\n",
      " [   8    9]]\n"
     ]
    }
   ],
   "source": [
    "# deep copy\n",
    "a = numpy.arange(10)\n",
    "d = a.copy()\n",
    "d.shape = (5,2)\n",
    "d[0,1] = 1000\n",
    "print( a )\n",
    "print( d )"
   ]
  },
  {
   "cell_type": "markdown",
   "metadata": {},
   "source": [
    "# Numpy Data types"
   ]
  },
  {
   "cell_type": "markdown",
   "metadata": {},
   "source": [
    "### Data types\n",
    "\n",
    "Data types were already discussed in the previous notebook, but here is a small recap. \n",
    "\n",
    "One array can only have one data type. \n",
    "The data type of the array can be obtained with the `x.dtype` function. \n",
    "In case you mix different data types, the elements are converted to the same type. If you want, you can specify the data type of the array when you create the array with the array() function then you can use the dtype argument.\n",
    "The data type of the array can be:\n",
    "- float (float64)\n",
    "- integer (int32 or int64)\n",
    "- boolean (bool)\n",
    "- complex (complex128)\n",
    "- string (e.g. `<U16`)\n",
    "\n",
    "Let assume you created an array `z` with the datatype integer and you want to convert it afterwards to the data type `floa`t, then you can use the astype() function. For example, `z.astype('float')` to convert `z` to the data type 'float'."
   ]
  },
  {
   "cell_type": "markdown",
   "metadata": {},
   "source": [
    "### Data types in Python\n",
    "\n",
    "Before discussing Numpy datatypes, first a small list of the data types in Python:\n",
    "\n",
    "##### Immutable types:\n",
    "- boolean (True, False)\n",
    "- int (integer)\n",
    "- float\n",
    "- complex \n",
    "- str (string)\n",
    "- byte\n",
    "- tuple ( )\n",
    "\n",
    "The type of these variables cannot be changed after they are created\n",
    "\n",
    "##### Mutable types:\n",
    "- list [ ]\n",
    "- set\n",
    "- dict { } (dictionary)\n",
    "\n",
    "The type of these variables can be changed after being created"
   ]
  },
  {
   "cell_type": "markdown",
   "metadata": {},
   "source": [
    "#### Examples of Numpy arrays of different types:"
   ]
  },
  {
   "cell_type": "code",
   "execution_count": 2,
   "metadata": {
    "collapsed": false
   },
   "outputs": [
    {
     "name": "stdout",
     "output_type": "stream",
     "text": [
      "(array([1, 3, 5, 7, 9]), dtype('int64'))\n"
     ]
    }
   ],
   "source": [
    "# array with integers:\n",
    "x = numpy.array([1, 3, 5, 7, 9])\n",
    "print(x, x.dtype)"
   ]
  },
  {
   "cell_type": "code",
   "execution_count": 3,
   "metadata": {
    "collapsed": false
   },
   "outputs": [
    {
     "name": "stdout",
     "output_type": "stream",
     "text": [
      "(array([ 2.2,  4.4,  6.6,  8.8]), dtype('float64'))\n"
     ]
    }
   ],
   "source": [
    "# array with floats:\n",
    "y = numpy.array([2.2, 4.4, 6.6, 8.8])\n",
    "print(y, y.dtype)"
   ]
  },
  {
   "cell_type": "code",
   "execution_count": 4,
   "metadata": {
    "collapsed": false
   },
   "outputs": [
    {
     "name": "stdout",
     "output_type": "stream",
     "text": [
      "(array([ True, False,  True], dtype=bool), dtype('bool'))\n"
     ]
    }
   ],
   "source": [
    "# array with booleans:\n",
    "z = numpy.array([True, False, True])\n",
    "print(z, z.dtype)"
   ]
  },
  {
   "cell_type": "code",
   "execution_count": 5,
   "metadata": {
    "collapsed": false
   },
   "outputs": [
    {
     "name": "stdout",
     "output_type": "stream",
     "text": [
      "(array(['a', 'b', 'cde'], \n",
      "      dtype='|S3'), dtype('S3'))\n"
     ]
    }
   ],
   "source": [
    "# array with strings:\n",
    "x = numpy.array([\"a\", \"b\", \"cde\"])\n",
    "print(x, x.dtype)"
   ]
  },
  {
   "cell_type": "markdown",
   "metadata": {
    "collapsed": false
   },
   "source": [
    "### Type conversion\n",
    "\n",
    "In case you mix different data types and you do not explicitly specify the data types, then the elements are converted to the same type. \n",
    "\n",
    "You can specify the data type of the array when you create the array with the `array()` function using the `dtype` keyword argument. Note that not every combination is possible. For example, when your array contains text then you cannot choose float as data types, because the text cannot be converted to floats, except when the text is exactly representing a floating point number."
   ]
  },
  {
   "cell_type": "code",
   "execution_count": 6,
   "metadata": {
    "collapsed": false
   },
   "outputs": [
    {
     "name": "stdout",
     "output_type": "stream",
     "text": [
      "(array(['1', '3.4', 'True', '(2.3+4.5j)', 'a'], \n",
      "      dtype='|S64'), dtype('S64'))\n"
     ]
    }
   ],
   "source": [
    "# array with mixed data types:\n",
    "x = numpy.array([1, 3.4, True, 2.3+4.5j, \"a\"])\n",
    "print(x, x.dtype)"
   ]
  },
  {
   "cell_type": "code",
   "execution_count": 7,
   "metadata": {
    "collapsed": false
   },
   "outputs": [
    {
     "name": "stdout",
     "output_type": "stream",
     "text": [
      "(array([ 9.,  8.,  7.,  6.]), dtype('float64'))\n"
     ]
    }
   ],
   "source": [
    "# explicitly specify the data type:\n",
    "y = numpy.array([9, 8, 7, 6], dtype='float')\n",
    "print(y, y.dtype)"
   ]
  },
  {
   "cell_type": "code",
   "execution_count": 8,
   "metadata": {
    "collapsed": false
   },
   "outputs": [
    {
     "name": "stdout",
     "output_type": "stream",
     "text": [
      "(array([12,  3, 24]), dtype('int64'))\n"
     ]
    }
   ],
   "source": [
    "# Try to convert strings to integers\n",
    "\n",
    "strings = [\"12\", \"3\", \"24\"]\n",
    "z = numpy.array(strings, dtype='int')\n",
    "print (z, z.dtype)"
   ]
  },
  {
   "cell_type": "code",
   "execution_count": 9,
   "metadata": {
    "collapsed": false
   },
   "outputs": [
    {
     "ename": "ValueError",
     "evalue": "invalid literal for long() with base 10: 'one'",
     "output_type": "error",
     "traceback": [
      "\u001b[0;31m---------------------------------------------------------------------------\u001b[0m",
      "\u001b[0;31mValueError\u001b[0m                                Traceback (most recent call last)",
      "\u001b[0;32m<ipython-input-9-11867082fece>\u001b[0m in \u001b[0;36m<module>\u001b[0;34m()\u001b[0m\n\u001b[1;32m      1\u001b[0m \u001b[0mnumerals\u001b[0m \u001b[0;34m=\u001b[0m \u001b[0;34m[\u001b[0m\u001b[0;34m\"one\"\u001b[0m\u001b[0;34m,\u001b[0m \u001b[0;34m\"two\"\u001b[0m\u001b[0;34m,\u001b[0m \u001b[0;34m\"three\"\u001b[0m\u001b[0;34m]\u001b[0m\u001b[0;34m\u001b[0m\u001b[0m\n\u001b[0;32m----> 2\u001b[0;31m \u001b[0ma\u001b[0m \u001b[0;34m=\u001b[0m \u001b[0mnumpy\u001b[0m\u001b[0;34m.\u001b[0m\u001b[0marray\u001b[0m\u001b[0;34m(\u001b[0m\u001b[0mnumerals\u001b[0m\u001b[0;34m,\u001b[0m \u001b[0mdtype\u001b[0m\u001b[0;34m=\u001b[0m\u001b[0;34m'int'\u001b[0m\u001b[0;34m)\u001b[0m\u001b[0;34m\u001b[0m\u001b[0m\n\u001b[0m\u001b[1;32m      3\u001b[0m \u001b[0;32mprint\u001b[0m \u001b[0;34m(\u001b[0m\u001b[0ma\u001b[0m\u001b[0;34m,\u001b[0m \u001b[0ma\u001b[0m\u001b[0;34m.\u001b[0m\u001b[0mdtype\u001b[0m\u001b[0;34m)\u001b[0m\u001b[0;34m\u001b[0m\u001b[0m\n",
      "\u001b[0;31mValueError\u001b[0m: invalid literal for long() with base 10: 'one'"
     ]
    }
   ],
   "source": [
    "numerals = [\"one\", \"two\", \"three\"]\n",
    "a = numpy.array(numerals, dtype='int')\n",
    "print (a, a.dtype)"
   ]
  },
  {
   "cell_type": "markdown",
   "metadata": {},
   "source": [
    "### Convert to a different data type\n",
    "\n",
    "Using the function `astype` is another way to convert between different datatypes.\n",
    "For example, `x.astype(float)` to convert x to the data type float. \n",
    "Converting data types is called casting. "
   ]
  },
  {
   "cell_type": "code",
   "execution_count": null,
   "metadata": {
    "collapsed": false
   },
   "outputs": [],
   "source": [
    "# convert an array with integers to the data type float:\n",
    "x = numpy.array([1, 3, 5, 7, 9])\n",
    "print(x, x.dtype)\n",
    "g = x.astype('float')\n",
    "print(g, g.dtype)"
   ]
  },
  {
   "cell_type": "code",
   "execution_count": null,
   "metadata": {
    "collapsed": false
   },
   "outputs": [],
   "source": [
    "# convert an array with strings to float:\n",
    "y = numpy.array([\"1.4\", \"3.4\", \"5.4\"])\n",
    "print(y, y.dtype)\n",
    "h = y.astype('float')\n",
    "print(h, h.dtype)"
   ]
  },
  {
   "cell_type": "markdown",
   "metadata": {},
   "source": [
    "Sometimes, the data types are converted but the content is slightly changed. \n",
    "For example, when converting from float to integer, then the numbers are rounded down (floor). \n",
    "For example, when converting an array with only zeros and ones to the data type Boolean than the 0 is converted to False and the 1 is converted to True. "
   ]
  },
  {
   "cell_type": "code",
   "execution_count": null,
   "metadata": {
    "collapsed": false
   },
   "outputs": [],
   "source": [
    "# from float to integer\n",
    "x = numpy.array([2.2, 3.2, 2.8])\n",
    "print(x, x.dtype)\n",
    "a = x.astype('int')\n",
    "print(a, a.dtype)"
   ]
  },
  {
   "cell_type": "code",
   "execution_count": null,
   "metadata": {
    "collapsed": false
   },
   "outputs": [],
   "source": [
    "# from 0-1 to boolean\n",
    "x = numpy.array([0, 1, 1, 0])\n",
    "print(x, x.dtype)\n",
    "a = x.astype('bool')\n",
    "print(a, a.dtype)"
   ]
  },
  {
   "cell_type": "markdown",
   "metadata": {},
   "source": [
    "Not every data type can be converted to all other data types. Some examples:\n"
   ]
  },
  {
   "cell_type": "code",
   "execution_count": null,
   "metadata": {
    "collapsed": false
   },
   "outputs": [],
   "source": [
    "# from string to boolean\n",
    "x = numpy.array([\"true\", \"false\"])\n",
    "a = x.astype('bool')\n",
    "print(a, a.dtype)"
   ]
  },
  {
   "cell_type": "code",
   "execution_count": null,
   "metadata": {
    "collapsed": false
   },
   "outputs": [],
   "source": [
    "# from non-numeric strings to integer\n",
    "x = numpy.array([\"a\", \"b\", \"c\"])\n",
    "#x = numpy.array([\"1\", \"2\"])\n",
    "a = x.astype('bool')\n",
    "print(a, a.dtype)"
   ]
  },
  {
   "cell_type": "markdown",
   "metadata": {},
   "source": [
    "### To infinity and beyond\n",
    "\n",
    "In Numpy, division by zero results in inf (infinity) and a RuntimeWarning. This is different than basic Python, where division by zero results in the ZeroDivisionError message."
   ]
  },
  {
   "cell_type": "code",
   "execution_count": null,
   "metadata": {
    "collapsed": false
   },
   "outputs": [],
   "source": [
    "# divison by zero in Numpy\n",
    "x = numpy.array([4])\n",
    "y = numpy.array([0])\n",
    "print(x/y)"
   ]
  },
  {
   "cell_type": "markdown",
   "metadata": {},
   "source": [
    "#### Values that are infinity\n",
    "\n",
    "When you want to use infinity as a value for a variable or inside an array, then you can use the following expressions:\n",
    "- numpy.inf for infinity\n",
    "- numpy.PINF for positive infinity\n",
    "- numpy.NINF for negative infinity\n",
    "\n",
    "In order to check whether the value of a variable is infinity the following functions are useful:\n",
    "- numpy.isinf(x) : This function returns True when the value of x is either positive infinity or negative infinity. \n",
    "- numpy.isneginf(x) : This function returns True when the value of x is negative infinity.\n",
    "- numpy.isposinf(x) : This function returns True when the value of x is positive infinity.\n",
    "- numpy.isfinite(x) : This function is the opposite of the isinf() function."
   ]
  },
  {
   "cell_type": "markdown",
   "metadata": {},
   "source": [
    "#### Similarly, you can create NaN values\n",
    "\n",
    "Then there is something called Not A Number (NAN):\n",
    "- numpy.nan : Create NAN value\n",
    "- numpy.isnan(x) : This function returns True when the value of x is Not A Number (NAN)."
   ]
  },
  {
   "cell_type": "markdown",
   "metadata": {},
   "source": [
    "# Structured arrays\n",
    "\n",
    "A structured array consists of a number of columns, where each column can be a different datatype. \n",
    "\n",
    "Full information about structured arrays: \n",
    "http://docs.scipy.org/doc/numpy-1.10.1/user/basics.rec.html#structured-arrays\n",
    "\n",
    "One of the possible ways to specify a structured array is to use a list of tuples as `dtype`:\n",
    "For every column in the array a tuple is specified with the name of the column and the type of data in it. For example: "
   ]
  },
  {
   "cell_type": "code",
   "execution_count": 14,
   "metadata": {
    "collapsed": true
   },
   "outputs": [],
   "source": [
    "dtype = [('Name', 'U10'), ('Country', 'U10'), ('Area', 'float64')]"
   ]
  },
  {
   "cell_type": "markdown",
   "metadata": {},
   "source": [
    "The content of the array can then be given as a list of tuples, like so:"
   ]
  },
  {
   "cell_type": "code",
   "execution_count": 15,
   "metadata": {
    "collapsed": false
   },
   "outputs": [
    {
     "name": "stdout",
     "output_type": "stream",
     "text": [
      "[('Amsterdam', 'Netherland', 219.3) ('Paris', 'France', 105.4)\n",
      " ('Barcelona', 'Spain', 101.9)]\n"
     ]
    }
   ],
   "source": [
    "city = numpy.array([('Amsterdam', 'Netherlands', 219.3),\n",
    "                    ('Paris',     'France',      105.4 ),\n",
    "                    ('Barcelona', 'Spain',       101.9 )],\n",
    "                     dtype=dtype)\n",
    "print( city )"
   ]
  },
  {
   "cell_type": "markdown",
   "metadata": {},
   "source": [
    "### Dimensionality of structured arrays\n",
    "\n",
    "Despite structured arrays consisting of rows and columns, structured arrays are treated as one-dimensional arrays by Numpy.\n"
   ]
  },
  {
   "cell_type": "code",
   "execution_count": 16,
   "metadata": {
    "collapsed": false
   },
   "outputs": [
    {
     "name": "stdout",
     "output_type": "stream",
     "text": [
      "(3,)\n",
      "[('Name', '<U10'), ('Country', '<U10'), ('Area', '<f8')]\n"
     ]
    }
   ],
   "source": [
    "# Print information about the array\n",
    "print( city.shape )\n",
    "print( city.dtype )"
   ]
  },
  {
   "cell_type": "markdown",
   "metadata": {},
   "source": [
    "### Indexing structured arrays\n",
    "\n",
    "The rows in a structured array can be accessed by standard array indexing. The columns of the array are indexed by using the column names that are specified when the array was created."
   ]
  },
  {
   "cell_type": "code",
   "execution_count": 17,
   "metadata": {
    "collapsed": false
   },
   "outputs": [
    {
     "name": "stdout",
     "output_type": "stream",
     "text": [
      "('Amsterdam', 'Netherland', 219.3)\n",
      "[('Amsterdam', 'Netherland', 219.3) ('Paris', 'France', 105.4)]\n",
      "[ 219.3  105.4  101.9]\n",
      "[('Amsterdam', 219.3) ('Paris', 105.4) ('Barcelona', 101.9)]\n"
     ]
    }
   ],
   "source": [
    "# Access first row\n",
    "print( city[0] )\n",
    "\n",
    "# Access first two rows\n",
    "print( city[0:2] )\n",
    "\n",
    "# Access column by name\n",
    "print( city['Area'] )\n",
    "\n",
    "# Access two columns using list of names\n",
    "print( city[['Name', 'Area']] )"
   ]
  },
  {
   "cell_type": "markdown",
   "metadata": {},
   "source": [
    "### Accessing and modifying column names in structured arrays\n",
    "\n",
    "Uses `.dtype.names'"
   ]
  },
  {
   "cell_type": "code",
   "execution_count": 18,
   "metadata": {
    "collapsed": false
   },
   "outputs": [
    {
     "name": "stdout",
     "output_type": "stream",
     "text": [
      "('Name', 'Country', 'Area')\n"
     ]
    }
   ],
   "source": [
    "print( city.dtype.names )"
   ]
  },
  {
   "cell_type": "code",
   "execution_count": 19,
   "metadata": {
    "collapsed": false
   },
   "outputs": [
    {
     "name": "stdout",
     "output_type": "stream",
     "text": [
      "[ 219.3  105.4  101.9]\n"
     ]
    }
   ],
   "source": [
    "city.dtype.names = ('name', 'country', 'area')\n",
    "print( city['area'] )"
   ]
  },
  {
   "cell_type": "markdown",
   "metadata": {},
   "source": [
    "### Loading data into structured arrays\n",
    "\n",
    "Structured arrays are useful for loading and working with tabular data with heterogeneous column types. "
   ]
  },
  {
   "cell_type": "markdown",
   "metadata": {},
   "source": [
    "An alternative way of loading tabular data using `genfromtxt`:"
   ]
  },
  {
   "cell_type": "code",
   "execution_count": 21,
   "metadata": {
    "collapsed": false
   },
   "outputs": [
    {
     "name": "stdout",
     "output_type": "stream",
     "text": [
      "[  4000.   6100.   9800.  35200.  59400.  41700.  19000.  13000.   8300.\n",
      "   9100.   7400.   8000.  12300.  19500.  45700.  51100.  29700.  15800.\n",
      "   9700.  10100.   8600.]\n"
     ]
    }
   ],
   "source": [
    "population = numpy.genfromtxt(\"populations.txt\", \n",
    "             names=True,\n",
    "             dtype=['int','float','float','float'])\n",
    "\n",
    "# Print the  lynx column\n",
    "print( population['lynx'] )"
   ]
  },
  {
   "cell_type": "markdown",
   "metadata": {},
   "source": [
    "# Vectorized operations"
   ]
  },
  {
   "cell_type": "markdown",
   "metadata": {},
   "source": [
    "## Basic operations on arrays with the same shape\n",
    "\n",
    "The basic operations on arrays are applied elementwise.\n",
    "The basic operations are addition, subtraction, multiplication, division and power.\n",
    "The simplest case is when the shapes of the arrays are exactly the same, then an elementwise operation is straightforward. "
   ]
  },
  {
   "cell_type": "code",
   "execution_count": 101,
   "metadata": {
    "collapsed": false
   },
   "outputs": [
    {
     "name": "stdout",
     "output_type": "stream",
     "text": [
      "y - x =  [ -5 -13  22  -6]\n",
      "x + y =  [15 27 82 74]\n",
      "x * y =  [  50  140 1560 1360]\n",
      "x / y =  [ 2.          2.85714286  0.57692308  1.17647059]\n"
     ]
    }
   ],
   "source": [
    "# basic operations between two arrays with the same shape:\n",
    "x = numpy.array([10, 20, 30, 40])\n",
    "y = numpy.array([5, 7, 52, 34])\n",
    "\n",
    "print(\"y - x = \", y - x)\n",
    "print(\"x + y = \", x + y)\n",
    "print(\"x * y = \", x * y)\n",
    "print(\"x / y = \", x / y)"
   ]
  },
  {
   "cell_type": "markdown",
   "metadata": {},
   "source": [
    "## Basic operations on arrays with different shapes\n",
    "\n",
    "Besides operations between arrays of the same shape, also operations between arrays of different shapes are allowed, but are not always possible. Operations on arrays with different shapes is often called broadcasting.\n",
    "\n",
    "There are some different types of broadcasting:\n",
    "- Basic operations between an array and a constant, then there are no restrictions on the shape."
   ]
  },
  {
   "cell_type": "markdown",
   "metadata": {},
   "source": [
    "- Basic operations between an array and a row vector, then the number of columns in the array has to be the same as the length of the row vector."
   ]
  },
  {
   "cell_type": "markdown",
   "metadata": {},
   "source": [
    "- Basic operations between an array and a column vector, then the number of rows in the array has to be the same as the length of the column vector.\n",
    "\n",
    "When applying operations between an array and a row or column vector the shapes are still important.\n",
    "For example, let $x$ be a $2\\times 3$ array, let $y$ be a row vector with 3 elements, and let $z$ be a column vector with 2 elements.\n",
    "\n",
    "When applying operations between array $x$ and row vector $y$, then the operations are applied for each row, and the number of column in the array has to be the same as the length of the row vector."
   ]
  },
  {
   "cell_type": "markdown",
   "metadata": {},
   "source": [
    "When applying operations between array $x$ and column vector $z$, then the operations are applied for each column, and the number of rows in the array has to be the same as the length of the column vector. \n",
    "When operations are applied between arrays of different shapes and the number of rows or columns is not the same, then this will return an error message.\n",
    "\n",
    "For more information about Broadcasting:\n",
    "http://docs.scipy.org/doc/numpy/user/basics.broadcasting.html"
   ]
  },
  {
   "cell_type": "code",
   "execution_count": 102,
   "metadata": {
    "collapsed": false
   },
   "outputs": [
    {
     "name": "stdout",
     "output_type": "stream",
     "text": [
      "x - 2 =  [18 23 28 33]\n",
      "x * 2 =  [40 50 60 70]\n",
      "x **2 =  [ 400  625  900 1225]\n"
     ]
    }
   ],
   "source": [
    "# constant term\n",
    "x = numpy.array([20, 25, 30, 35])\n",
    "print(\"x - 2 = \", x - 2)\n",
    "print(\"x * 2 = \", x * 2)\n",
    "print(\"x **2 = \", x**2)"
   ]
  },
  {
   "cell_type": "code",
   "execution_count": 103,
   "metadata": {
    "collapsed": false
   },
   "outputs": [
    {
     "name": "stdout",
     "output_type": "stream",
     "text": [
      "[[1 2 3]\n",
      " [4 5 6]]\n",
      "[5 5 5]\n",
      "[[1]\n",
      " [2]]\n"
     ]
    }
   ],
   "source": [
    "# operations between array and vector\n",
    "x = numpy.array([[1, 2, 3], [4, 5, 6]])\n",
    "y = numpy.array([5, 5, 5]) # row vector\n",
    "z = numpy.array([[1], [2]]) # column vector\n",
    "\n",
    "print(x)\n",
    "print(y)\n",
    "print(z)"
   ]
  },
  {
   "cell_type": "code",
   "execution_count": 104,
   "metadata": {
    "collapsed": false
   },
   "outputs": [
    {
     "name": "stdout",
     "output_type": "stream",
     "text": [
      "Operations between x and y which are applied for each row\n",
      "x + y = \n",
      " [[ 6  7  8]\n",
      " [ 9 10 11]]\n",
      "x * y = \n",
      " [[ 5 10 15]\n",
      " [20 25 30]]\n"
     ]
    }
   ],
   "source": [
    "# array and row vector\n",
    "print(\"Operations between x and y which are applied for each row\")\n",
    "print(\"x + y = \\n\", x+y)\n",
    "print(\"x * y = \\n\", x*y)"
   ]
  },
  {
   "cell_type": "code",
   "execution_count": 105,
   "metadata": {
    "collapsed": false
   },
   "outputs": [
    {
     "name": "stdout",
     "output_type": "stream",
     "text": [
      "Operations between x and z which are applied for each column\n",
      "x + z = \n",
      " [[2 3 4]\n",
      " [6 7 8]]\n",
      "x * z = \n",
      " [[ 1  2  3]\n",
      " [ 8 10 12]]\n"
     ]
    }
   ],
   "source": [
    "# array and column vector\n",
    "print(\"Operations between x and z which are applied for each column\")\n",
    "print(\"x + z = \\n\", x+z)\n",
    "print(\"x * z = \\n\", x*z)"
   ]
  },
  {
   "cell_type": "markdown",
   "metadata": {},
   "source": [
    "## Boolean operations on arrays\n",
    "\n",
    "Boolean conditions can also applied to the arrays. They are applied to every element in the array. Several different conditions can be used, such as: equal to (==), not equal to (!=), greater than (>= or >), or smaller than (<= or <). "
   ]
  },
  {
   "cell_type": "code",
   "execution_count": 107,
   "metadata": {
    "collapsed": false
   },
   "outputs": [
    {
     "name": "stdout",
     "output_type": "stream",
     "text": [
      "(x > 15) =  [False  True  True False False  True]\n",
      "(y == 7) =  [ True False False  True False  True]\n"
     ]
    }
   ],
   "source": [
    "# boolean operations on arrays\n",
    "x = numpy.array([10, 20, 30, 14, 15, 16])\n",
    "y = numpy.array([7, 5, 5, 7, 5, 7]) \n",
    "print(\"(x > 15) = \", x>15)\n",
    "print(\"(y == 7) = \", y==7)"
   ]
  },
  {
   "cell_type": "markdown",
   "metadata": {},
   "source": [
    "## Mathematical functions applied on vectors"
   ]
  },
  {
   "cell_type": "markdown",
   "metadata": {},
   "source": [
    "A lot of mathematical functions can be applied to arrays and they are applied elementwise, such as:\n",
    "- numpy.sqrt(x): square root\n",
    "- numpy.sin(x): sine\n",
    "- numpy.cos(x): cosine\n",
    "- numpy.tan(x): tangent\n",
    "- numpy.exp(x): exponential\n",
    "- numpy.log(x): natural logarithm"
   ]
  },
  {
   "cell_type": "code",
   "execution_count": 108,
   "metadata": {
    "collapsed": false
   },
   "outputs": [
    {
     "name": "stdout",
     "output_type": "stream",
     "text": [
      "x =  [1 2 3 4]\n",
      "sqrt(x) =  [ 1.          1.41421356  1.73205081  2.        ]\n",
      "sin(x) =  [ 0.84147098  0.90929743  0.14112001 -0.7568025 ]\n",
      "cos(x) =  [ 0.54030231 -0.41614684 -0.9899925  -0.65364362]\n",
      "tan(x) =  [ 1.55740772 -2.18503986 -0.14254654  1.15782128]\n",
      "exp(x) =  [  2.71828183   7.3890561   20.08553692  54.59815003]\n",
      "log(x) =  [ 0.          0.69314718  1.09861229  1.38629436]\n"
     ]
    }
   ],
   "source": [
    "x = numpy.array([1, 2, 3, 4])\n",
    "print(\"x = \", x)\n",
    "print(\"sqrt(x) = \", numpy.sqrt(x))\n",
    "print(\"sin(x) = \", numpy.sin(x) )\n",
    "print(\"cos(x) = \", numpy.cos(x) )\n",
    "print(\"tan(x) = \", numpy.tan(x) )\n",
    "print(\"exp(x) = \", numpy.exp(x) )\n",
    "print(\"log(x) = \", numpy.log(x) )"
   ]
  },
  {
   "cell_type": "markdown",
   "metadata": {},
   "source": [
    "## Reductions\n",
    "\n",
    "Some functions can be applied to the entire array or to only one dimensio:\n",
    "\n",
    "- x.sum() and numpy.cumsum(x)\n",
    "- x.min() and x.argmin()\n",
    "- x.max() and x.argmax()\n",
    "\n",
    "These functions have a parameter which is called axis. When `axis=0` then sum per column (or the minimum etc) per column is returned. When `axis=1` then sum per row is returned. In higher dimensional arrays, the same logic applies. \n",
    "\n",
    "One important thing to notice is that when the `argmin` or `argmax` functions are applied, then the index of the minimum or maximum is returned, but this index is the linear index and not the index in all the dimensions (see  [2b_arrays.ipynb](2b_arrays.ipynb))\n"
   ]
  },
  {
   "cell_type": "code",
   "execution_count": 109,
   "metadata": {
    "collapsed": false
   },
   "outputs": [
    {
     "name": "stdout",
     "output_type": "stream",
     "text": [
      "sum: 29\n",
      "minimum: 1 and index of minimum: 0\n",
      "maximum: 8 and index of maximum: 5\n"
     ]
    }
   ],
   "source": [
    "x = numpy.array([[1, 6, 5], [2, 7, 8]])\n",
    "\n",
    "# functions applied to the entire array:\n",
    "print(\"sum:\", x.sum())\n",
    "print(\"minimum:\", x.min(), \"and index of minimum:\", x.argmin())\n",
    "print(\"maximum:\", x.max(), \"and index of maximum:\", x.argmax())"
   ]
  },
  {
   "cell_type": "code",
   "execution_count": 110,
   "metadata": {
    "collapsed": false
   },
   "outputs": [
    {
     "name": "stdout",
     "output_type": "stream",
     "text": [
      "column sums: [ 3 13 13]\n",
      "row sums: [12 17]\n",
      "minimum per column: [1 6 5]\n",
      "maximum per row: [6 8]\n"
     ]
    }
   ],
   "source": [
    "# functions applied to only one dimension of the array:\n",
    "print(\"column sums:\", x.sum(axis=0))\n",
    "print(\"row sums:\", x.sum(axis=1))\n",
    "print(\"minimum per column:\", x.min(axis=0))\n",
    "print(\"maximum per row:\", x.max(axis=1))"
   ]
  },
  {
   "cell_type": "markdown",
   "metadata": {},
   "source": [
    "## Sorting\n",
    "The arrays can be sorted which is similiar as sorting lists in Python. The functions `sort` and `argsort` can be applied to arrays.\n",
    "When applied to a 2-dimensional array the sort operation will apply per row and therefore also the indices are based on the position in the row."
   ]
  },
  {
   "cell_type": "code",
   "execution_count": 113,
   "metadata": {
    "collapsed": false
   },
   "outputs": [
    {
     "name": "stdout",
     "output_type": "stream",
     "text": [
      "Applied to 1-dimensional array\n",
      "unsorted x: [5 3 6 2 6 8]\n",
      "sorted x:  [2 3 5 6 6 8]\n",
      "indices of argsort: [3 1 0 2 4 5]\n"
     ]
    }
   ],
   "source": [
    "# sorting an 1-dimensional array:\n",
    "print(\"Applied to 1-dimensional array\")\n",
    "x = numpy.array([5, 3, 6, 2, 6, 8])\n",
    "print(\"unsorted x:\", x)\n",
    "y = x.argsort()\n",
    "x.sort()\n",
    "print(\"sorted x: \", x)\n",
    "print(\"indices of argsort:\", y)"
   ]
  },
  {
   "cell_type": "code",
   "execution_count": 114,
   "metadata": {
    "collapsed": false
   },
   "outputs": [
    {
     "name": "stdout",
     "output_type": "stream",
     "text": [
      "Applied to 2-dimensional array\n",
      "unsorted x: [[5 3 6]\n",
      " [2 6 8]]\n",
      "sorted x:  [[3 5 6]\n",
      " [2 6 8]]\n",
      "indices of argsort: [[1 0 2]\n",
      " [0 1 2]]\n"
     ]
    }
   ],
   "source": [
    "# sorting an 2-dimensional array:\n",
    "print(\"Applied to 2-dimensional array\")\n",
    "x = numpy.array([[5, 3, 6], [2, 6, 8]])\n",
    "print(\"unsorted x:\", x)\n",
    "y = x.argsort()\n",
    "x.sort()\n",
    "print(\"sorted x: \", x)\n",
    "print(\"indices of argsort:\", y)"
   ]
  },
  {
   "cell_type": "markdown",
   "metadata": {},
   "source": [
    "## Reversing\n",
    "\n",
    "There is a special indexing syntax in `numpy` to obtain a view of the array in the reverse order. "
   ]
  },
  {
   "cell_type": "code",
   "execution_count": 115,
   "metadata": {
    "collapsed": false
   },
   "outputs": [
    {
     "name": "stdout",
     "output_type": "stream",
     "text": [
      "[8 2 8 3 7]\n",
      "\n",
      "[7 3 8 2 8]\n"
     ]
    }
   ],
   "source": [
    "a = numpy.random.randint(0,10,5)\n",
    "print(a)\n",
    "print()\n",
    "print(a[::-1])"
   ]
  },
  {
   "cell_type": "markdown",
   "metadata": {},
   "source": [
    "### Rounding \n",
    "\n",
    "If you want to round every element in the array then the following rounding functions can be used:\n",
    "- numpy.round(x, decimals = 2 )\n",
    "- numpy.floor(x)\n",
    "- numpy.ceil(x)\n"
   ]
  },
  {
   "cell_type": "code",
   "execution_count": 117,
   "metadata": {
    "collapsed": false
   },
   "outputs": [
    {
     "name": "stdout",
     "output_type": "stream",
     "text": [
      "not rounded: [[ 6.62056169  9.99372912  5.54082401  5.97427961  1.36261238]]\n",
      "round: [[ 6.62  9.99  5.54  5.97  1.36]]\n",
      "floor: [[ 6.  9.  5.  5.  1.]]\n",
      "ceil: [[  7.  10.   6.   6.   2.]]\n"
     ]
    }
   ],
   "source": [
    "# rounding \n",
    "x = 10*numpy.random.random((1,5))\n",
    "print(\"not rounded:\", x)\n",
    "\n",
    "x1 = numpy.round(x, decimals = 2)\n",
    "print(\"round:\", x1)\n",
    "\n",
    "x2 = numpy.floor(x)\n",
    "print(\"floor:\", x2)\n",
    "\n",
    "x3 = numpy.ceil(x)\n",
    "print(\"ceil:\", x3)"
   ]
  },
  {
   "cell_type": "markdown",
   "metadata": {},
   "source": [
    "### Statistics\n",
    "\n",
    "To apply some basic statistical functions to the numpy array x, the following functions can be useful:\n",
    "- numpy.median(x) : median\n",
    "- numpy.mean(x) : mean\n",
    "- numpy.average(x, axis= , weights= ) : (weighted) average\n",
    "- numpy.std(x) : standard deviation\n",
    "- numpy.var(x) : variance\n",
    "- numpy.cov(x) : covariance matrix\n",
    "- numpy.corrcoef(x) : Pearson product-moment correlation coefficients\n",
    "\n",
    "These functions can be applied to the entire array, or to only one axis. When applied to one axis, then the parameter axis can be used. Similar functions exists which ignore NAN, these functions are called: `nanmedian`, `nanmean`, `nanstd`, `nanvar`. \n",
    "\n",
    "For more statistical functions in numpy: http://docs.scipy.org/doc/numpy/reference/routines.statistics.html"
   ]
  },
  {
   "cell_type": "markdown",
   "metadata": {},
   "source": [
    "# SciPy\n",
    "\n",
    "SciPy is designed to be the library package for scientific and technical computing. What that means is a bit fuzzy.\n",
    "\n",
    "But it has a large set of really useful tools, the building blocks of models: linear algebra, optimization routines, integration routines, tools for dealing with sparse datasets, and a number of special purpose tools.\n",
    "\n",
    "\n",
    "https://docs.scipy.org/doc/scipy/reference/"
   ]
  },
  {
   "cell_type": "code",
   "execution_count": null,
   "metadata": {
    "collapsed": true
   },
   "outputs": [],
   "source": []
  },
  {
   "cell_type": "markdown",
   "metadata": {},
   "source": [
    "## Exercises\n",
    "\n",
    "### Exercise 1\n",
    "Form the 2-D array (without typing it in explicitly):\n",
    "```python\n",
    "[[1,  6, 11],\n",
    " [2,  7, 12],\n",
    " [3,  8, 13],\n",
    " [4,  9, 14],\n",
    " [5, 10, 15]]\n",
    " \n",
    " ```\n",
    "and generate a new array containing its 2nd and 4th rows."
   ]
  },
  {
   "cell_type": "code",
   "execution_count": null,
   "metadata": {
    "collapsed": true
   },
   "outputs": [],
   "source": []
  },
  {
   "cell_type": "markdown",
   "metadata": {},
   "source": [
    "### Exercise 2\n",
    "\n",
    "Generate a $5\\times 5 \\times 5$ 3D array of random numbers between -10.0 and 10.0. Reshape it to a $5 \\times 25$ matrix, and extract the first two rows of this matrix. \n"
   ]
  },
  {
   "cell_type": "code",
   "execution_count": null,
   "metadata": {
    "collapsed": true
   },
   "outputs": [],
   "source": []
  },
  {
   "cell_type": "markdown",
   "metadata": {
    "collapsed": true
   },
   "source": [
    "### Exercise 3\n",
    "\n",
    "Load the content of the file [populations.txt](populations.txt) into a numpy array. Extract the first column into a vector and assign it to variable named `year`, extract the second column and assign it to variable `hare`, etc for the four columns.\n",
    "\n",
    "Convert the variables `year` and `carrot` into the datatype `int`.\n"
   ]
  },
  {
   "cell_type": "code",
   "execution_count": null,
   "metadata": {
    "collapsed": true
   },
   "outputs": [],
   "source": []
  },
  {
   "cell_type": "markdown",
   "metadata": {},
   "source": [
    "### Exercise 4\n",
    "\n",
    "Modify the code above to determine what happens when you use a list of lists instead of a list of tuples to definte the types? Or when specifying the values in a structured array?"
   ]
  },
  {
   "cell_type": "code",
   "execution_count": null,
   "metadata": {
    "collapsed": true
   },
   "outputs": [],
   "source": []
  },
  {
   "cell_type": "markdown",
   "metadata": {},
   "source": [
    "### Exercise 5\n",
    "\n",
    "Create a $4\\times3$ matrix of random numbers between $0$ and $1$. \n",
    "Find the row and column position of the minimum and the maximum value."
   ]
  },
  {
   "cell_type": "code",
   "execution_count": null,
   "metadata": {
    "collapsed": true
   },
   "outputs": [],
   "source": []
  },
  {
   "cell_type": "markdown",
   "metadata": {},
   "source": [
    "### Exercise 6\n",
    "\n",
    "Uncomment and complete the following code to print years with the smallest number of hares, lynxes and carrots in the \n",
    "populations dataset."
   ]
  },
  {
   "cell_type": "code",
   "execution_count": 28,
   "metadata": {
    "collapsed": false
   },
   "outputs": [],
   "source": [
    "#for species in [....]:\n",
    "#    year = ...\n",
    "#    print(\"Least # of {} in year {}\".format(species, year))"
   ]
  },
  {
   "cell_type": "markdown",
   "metadata": {},
   "source": [
    "### Exercise 7\n",
    "\n",
    "Use the population data to\n",
    "\n",
    "1. Select all the years in which there are more than 50000 lynxes;\n",
    "2. Select all the years in which there are more lynxes than hares."
   ]
  },
  {
   "cell_type": "code",
   "execution_count": null,
   "metadata": {
    "collapsed": true
   },
   "outputs": [],
   "source": []
  },
  {
   "cell_type": "markdown",
   "metadata": {},
   "source": [
    "### Exercise 8\n",
    "\n",
    "Indexing with an array is often useful when we want to randomize the order of items in some data. Uncomment and complete the following code which creates a scrambled version of the population data"
   ]
  },
  {
   "cell_type": "code",
   "execution_count": 31,
   "metadata": {
    "collapsed": false
   },
   "outputs": [],
   "source": [
    "## Create an index for the rows of population (from 0 to population.shape[0])\n",
    "#index = ...\n",
    "\n",
    "## Shuffle the index\n",
    "#numpy.random.shuffle(index)\n",
    "\n",
    "## Create a scrambled version\n",
    "#population_rand = ..."
   ]
  },
  {
   "cell_type": "markdown",
   "metadata": {},
   "source": [
    "### Exercise 9\n",
    "\n",
    "Save the population data to a `.npy` file. Figure out how to load it back into a numpy array."
   ]
  },
  {
   "cell_type": "code",
   "execution_count": null,
   "metadata": {
    "collapsed": true
   },
   "outputs": [],
   "source": []
  },
  {
   "cell_type": "markdown",
   "metadata": {},
   "source": [
    "### Exercise 10\n",
    "The files\n",
    "\n",
    "- [irisa.txt](irisa.txt)\n",
    "- [irisb.txt](irisb.txt)\n",
    "- [irisc.txt](irisc.txt)\n",
    "\n",
    "contain the data for the iris dataset. Each file has these columns:\n",
    "\n",
    "- `SepalLength` \n",
    "- `SepalWidth`\n",
    "- `PetalLength` \n",
    "- `PetalWidth` \n",
    "- `Species`\n",
    "\n",
    "Load this data, and create a single array with all the species."
   ]
  },
  {
   "cell_type": "code",
   "execution_count": null,
   "metadata": {
    "collapsed": true
   },
   "outputs": [],
   "source": []
  },
  {
   "cell_type": "markdown",
   "metadata": {},
   "source": [
    "### Exercise 11\n",
    "\n",
    "Some conversions between datatypes lose information, and are therefore not reversible. \n",
    "Decide which of the following conversions are lossy i.e. not reversible. Write examples to check your guess.\n",
    "\n",
    "1. float -> int\n",
    "2. bool  -> int\n",
    "3. int   -> '<U16'\n",
    "4. int   -> float\n",
    "5. float64 -> float32\n",
    "6. float32 -> float64"
   ]
  },
  {
   "cell_type": "code",
   "execution_count": null,
   "metadata": {
    "collapsed": true
   },
   "outputs": [],
   "source": [
    "# write your examples here"
   ]
  },
  {
   "cell_type": "markdown",
   "metadata": {},
   "source": [
    "### Exercise 12\n",
    "\n",
    "The infinity value (numpy.inf) can be included in an array with some datatypes but not all. Write example code to show which datatypes are consistent with including infinity and which are not."
   ]
  },
  {
   "cell_type": "code",
   "execution_count": null,
   "metadata": {
    "collapsed": true
   },
   "outputs": [],
   "source": [
    "# write your examples here"
   ]
  },
  {
   "cell_type": "markdown",
   "metadata": {},
   "source": [
    "### Exercise 13\n",
    "\n",
    "The following function `linetofloat` takes a string which contains float numbers separated by \n",
    "spaces and returns an array of floats. Complete the definition of the function\n",
    "For example:\n",
    "\n",
    "```linetofloat(\"3.14 12.3 4.0\") -> array([3.14, 12.3, 4.0])\n",
    "```"
   ]
  },
  {
   "cell_type": "code",
   "execution_count": null,
   "metadata": {
    "collapsed": false
   },
   "outputs": [],
   "source": [
    "def linetofloat(text):\n",
    "    #\n",
    "    #\n",
    "    #\n",
    "    return"
   ]
  },
  {
   "cell_type": "markdown",
   "metadata": {},
   "source": [
    "### Exercise 14\n",
    "\n",
    "Open and inspect the file [populations.txt](populations.txt). It contains some numerical data. \n",
    "Search the internet to find out which numpy function you can use to load this data into a numpy array. Load the data, and convert it to `float32`."
   ]
  },
  {
   "cell_type": "code",
   "execution_count": null,
   "metadata": {
    "collapsed": false
   },
   "outputs": [],
   "source": [
    "# convert values in populations.txt to float32 here"
   ]
  },
  {
   "cell_type": "markdown",
   "metadata": {},
   "source": [
    "### Exercise 15\n",
    "\n",
    "Uncomment and complete the following code loading the data from file [populations.txt](populations.txt). Load the year column as an `int`, and the other columns as `float`."
   ]
  },
  {
   "cell_type": "code",
   "execution_count": 1,
   "metadata": {
    "collapsed": false
   },
   "outputs": [],
   "source": [
    "#dtype = [('year',  ...\n",
    "#         ('hare',  ...\n",
    "#         ...\n",
    "#          ] \n",
    "#population = numpy.loadtxt(\"populations.txt\", dtype=...)"
   ]
  },
  {
   "cell_type": "markdown",
   "metadata": {},
   "source": [
    "### Exercise 16\n",
    "\n",
    "Define function `standardize` which converts a vector of numbers to z-scores."
   ]
  },
  {
   "cell_type": "code",
   "execution_count": 106,
   "metadata": {
    "collapsed": true
   },
   "outputs": [],
   "source": [
    "def standardize(x):\n",
    "    return ..."
   ]
  },
  {
   "cell_type": "markdown",
   "metadata": {
    "collapsed": false
   },
   "source": [
    "### Exercise 17\n",
    "\n",
    "- Define function `to_cm` which takes a vector of measurements in inches and converts them to centimeters.\n",
    "- Define function `to_celsius` which takes a vector of measurements in Fahrenheit and converts them to Celsius: C = (F-32)/1.8\n"
   ]
  },
  {
   "cell_type": "code",
   "execution_count": null,
   "metadata": {
    "collapsed": false
   },
   "outputs": [],
   "source": []
  },
  {
   "cell_type": "markdown",
   "metadata": {},
   "source": [
    "### Exercise 18\n",
    "\n",
    "Define function `scale` which takes a vector of numbers and brings them to the range from 0 to 1:\n",
    "$$\\mathrm{scale}(x_i) = \\frac{x_i - min(x)}{max(x) - min(x)}$$"
   ]
  },
  {
   "cell_type": "code",
   "execution_count": 111,
   "metadata": {
    "collapsed": false
   },
   "outputs": [],
   "source": [
    "def scale(x):\n",
    "    return (x - x.min())/(x.max() - x.min())"
   ]
  },
  {
   "cell_type": "markdown",
   "metadata": {},
   "source": [
    "### Exercise 19\n",
    "\n",
    "The function `softmax` is often used in machine learning and statistics to convert a vector of arbitrary numbers into a vector of probabilities summing up to $1$. Softmax is computed by computing the exponential of each number, and then dividing each number by the sum of the exponentials:\n",
    "$$ \\mathrm{softmax}(x_i): \\frac{\\exp(x_i)}{\\sum_{k=1}^N \\exp(x_k)}$$\n",
    "\n",
    "Implement the softmax function. Verify that in the resulting vector all number are between 0 and 1. Verify that the resulting numbers sum up to $1$.\n",
    "\n"
   ]
  },
  {
   "cell_type": "code",
   "execution_count": 112,
   "metadata": {
    "collapsed": false
   },
   "outputs": [],
   "source": [
    "def softmax(x):\n",
    "    ..."
   ]
  },
  {
   "cell_type": "markdown",
   "metadata": {
    "collapsed": true
   },
   "source": [
    "### Exercise 20\n",
    "\n",
    "The file `winequality-red.csv` contains measurements of wine samples, together with a quality rating. You can load this data into a structured array like this:"
   ]
  },
  {
   "cell_type": "code",
   "execution_count": 116,
   "metadata": {
    "collapsed": false
   },
   "outputs": [],
   "source": [
    "data = numpy.genfromtxt(\"winequality-red.csv\", names=True, delimiter=';')"
   ]
  },
  {
   "cell_type": "markdown",
   "metadata": {},
   "source": [
    "- Sort the data according to the quality rating, from lowest to highest\n",
    "- Now sort the wines from highest to lowest"
   ]
  }
 ],
 "metadata": {
  "kernelspec": {
   "display_name": "Python 3",
   "language": "python",
   "name": "python3"
  },
  "language_info": {
   "codemirror_mode": {
    "name": "ipython",
    "version": 3
   },
   "file_extension": ".py",
   "mimetype": "text/x-python",
   "name": "python",
   "nbconvert_exporter": "python",
   "pygments_lexer": "ipython3",
   "version": "3.6.0"
  },
  "name": "_merged_merged"
 },
 "nbformat": 4,
 "nbformat_minor": 0
}
