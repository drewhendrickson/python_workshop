{
 "cells": [
  {
   "cell_type": "markdown",
   "metadata": {},
   "source": [
    "# 17 - Text Files"
   ]
  },
  {
   "cell_type": "markdown",
   "metadata": {},
   "source": [
    "---"
   ]
  },
  {
   "cell_type": "markdown",
   "metadata": {},
   "source": [
    "One of the most important uses of Python for data processing is the reading, changing, and writing of text files. Data is often stored in text files, because text files can be easily transferred between different programs. There are multiple standardized formats for text files, such as \"comma-separated values\" (CSV) files. Python supports particular text file formats through modules, some of which will be discussed later. This chapter focusses on opening, reading, writing, and closing of any text file, regardless of format. "
   ]
  },
  {
   "cell_type": "markdown",
   "metadata": {},
   "source": [
    "---"
   ]
  },
  {
   "cell_type": "markdown",
   "metadata": {},
   "source": [
    "## Flat text files"
   ]
  },
  {
   "cell_type": "markdown",
   "metadata": {},
   "source": [
    "When programmers refer to \"text files\" or \"flat text files\", they mean files in which all characters are meant to be read as regular characters, like you would type on a keyboard. For instance, Python program files are flat text files, as are HTML files. Word processor documents, however, are not flat text files, and neither are images. If you want to know whether a file is a text file or not, you can try to open it in a text editor (such as the editor for the IDLE environment, which comes with Python). If you see only readable text, the file is likely to be a text file. Otherwise, it is a so-called \"binary file\" (binary files are discussed later).\n",
    "\n",
    "Text files consist of lines of text. At the end of a line, there is a \"newline\" symbol, which in Python is the character \"`\\n`\". Different operating systems use slightly different ways of storing this character in a text file: some Windows programs store it as \"carriage return plus line feed\" (\"`\\r\\n`\"), while on Linux it is always stored as a single \"`\\n`\". As long as you access a file from Python as a regular text file, Python will convert the characters that it reads to the standard \"`\\n`\", and vice versa when it writes. So you do not need to worry about such differences (except when you need to transfer text files between operating systems)."
   ]
  },
  {
   "cell_type": "markdown",
   "metadata": {},
   "source": [
    "### File handles and pointers"
   ]
  },
  {
   "cell_type": "markdown",
   "metadata": {},
   "source": [
    "When you work with a file in a program, you have to open the file. Opening a file provides a so-called \"file handle\". A file handle can be seen as an access point to the file. It contains a \"pointer\" that indicates a particular place in the file. That pointer is used when you read from or write to the file. For instance, when you read from the file, it starts reading at the pointer, and moves the pointer forward in the file.\n",
    "\n",
    "When you open a file, the pointer is placed at a particular spot in the file, depending on how you opened the file. If you opened the file for reading only, the pointer is placed at the start of the file. The same is true when you open the file for both reading and writing. If you open the file for \"appending\" (i.e., to place new data at the file's end), the file pointer is positioned at the end of the file. Lastly, if you open a file for writing only, actually the file is completely emptied and the file pointer is placed at the start of the, now empty, file. To create a new file (i.e., a file with a name that does not exist yet), you open it for \"writing only\".\n",
    "\n",
    "After opening the file, the file handle is the only access point for the file. All actions you perform on the file, you perform as methods for the file handle.\n",
    "\n",
    "Note that any operating system only allows a limited number of files to be open simultaneously. Therefore you should close files that you no longer need to work with."
   ]
  },
  {
   "cell_type": "markdown",
   "metadata": {},
   "source": [
    "### Moving the file pointer"
   ]
  },
  {
   "cell_type": "markdown",
   "metadata": {},
   "source": [
    "The file pointer, that indicates where in a file you are working, is moved automatically. For instance, when you read 10 characters from a file, the file pointer indicates which is the first of those 10 characters, and, while reading, moves up 10 characters, so that its new position is 10 characters further in the file than before. When you deal with text files, the automatic movements of the file pointer are exactly what you want. You *can* position the file pointer manually using specific methods, but such methods are, in general, only used when dealing with binary files. Therefore, in this chapter I will ignore these methods, but they will be discussed in the chapter on binary files."
   ]
  },
  {
   "cell_type": "markdown",
   "metadata": {},
   "source": [
    "### Buffering"
   ]
  },
  {
   "cell_type": "markdown",
   "metadata": {},
   "source": [
    "When you make changes to files, these often are not stored in the files immediately. Instead, the operating system \"buffers\" the changes in memory, and \"flushes\" the buffers to the actual files when it sees a need for that. You can force the flushing of the buffers by closing a file. Buffers are also flushed when your program ends normally.\n",
    "\n",
    "However, when your program crashes (for instance because of a runtime error), buffers might not be flushed, and your files will not be updated to the point where the crash took place. So you cannot take the file contents into account when trying to debug a program."
   ]
  },
  {
   "cell_type": "markdown",
   "metadata": {},
   "source": [
    "### File processing programs"
   ]
  },
  {
   "cell_type": "markdown",
   "metadata": {},
   "source": [
    "Most programs that deal with text files follow a process that, in a loop, reads contents of a file, processes those contents in some way, then writes the contents to another file. For instance, a program might read lines from a text file, and for each line sort the words, then write the sorted words to another text file. This is hardly any different from a program that asks the user the provide, in a loop, a line of text, then sorts the words in the line, and displays them using the `print()` function. While students tend to find it easy to write the version of the program that gets user input and displays output, my experience has taught me that many students find it very hard to use file input and output for the same purpose. \n",
    "\n",
    "I never found out why exactly students think it is so much harder to do it with files, though I can imagine that you feel you have little control over your own program when working with files. When you provide input to a program manually, and see it displaying outputs, you always know more or less what lines of your code Python is processing, and you can make up tests on the fly. If you work with files, you have to prepare your files beforehand, then run the program and wait until it finishes before you can examine the contents of the output files. \n",
    "\n",
    "While working with files might give a sense of lack of control, during development of the program you can always include `print()` statements to get an insight in what the program is doing. For instance, when it reads a line, you can print that line, and when it writes a line, you can also print that line. That way, your insight in the inner workings of the program is no different regardless whether you use manual inputs and screen outputs, or file inputs and outputs."
   ]
  },
  {
   "cell_type": "markdown",
   "metadata": {},
   "source": [
    "---"
   ]
  },
  {
   "cell_type": "markdown",
   "metadata": {},
   "source": [
    "## Reading text files"
   ]
  },
  {
   "cell_type": "markdown",
   "metadata": {},
   "source": [
    "To read the contents of a file, you must first open it, then read the contents, then close it."
   ]
  },
  {
   "cell_type": "markdown",
   "metadata": {},
   "source": [
    "### Opening a file using `open()`"
   ]
  },
  {
   "cell_type": "markdown",
   "metadata": {},
   "source": [
    "To open a file, you use the `open()` function. \n",
    "\n",
    "The `open()` function gets two arguments, of which the second one is optional. The first argument is the name of the file. If the file is not in the current directory, you have to include the complete path to the file so that Python can find it. The second argument is the \"mode\". The mode indicates how you want to treat the file. The default mode (which is picked when you do not supply the second argument) is opening the file as a text file for reading only. How you set other modes is discussed later.\n",
    "\n",
    "The `open()` function returns a file handle, which you use for all the remaining functionalities.\n",
    "\n",
    "Rather than writing \"`<handle> = open( <filename> )`\", you will often see Python programs that write this as \"`open( <filename> ) as <handle>`\". These two ways of writing code are equivalent. I myself prefer the first, as that is the way it is done in most programming languages. However, the second method has an advantage that I discuss below, when talking about closing a file."
   ]
  },
  {
   "cell_type": "markdown",
   "metadata": {},
   "source": [
    "### Reading a file using `read()`"
   ]
  },
  {
   "cell_type": "markdown",
   "metadata": {},
   "source": [
    "The simplest way to read the contents of a file is using the `read()` method, without arguments, on the file handle. This returns a string that contains the complete contents of the file. `read()` can get an argument, but I will discuss that in the chapter on binary files.\n",
    "\n",
    "Reading from a file moves the file pointer to right after the part of the file that was read. This means that if you use the `read()` method without arguments, the file pointer is moved to the end of the file. This entails that if you would try to `read()` from it a second time, nothing would be read, as there is nothing to be read after the spot where the file pointer is."
   ]
  },
  {
   "cell_type": "markdown",
   "metadata": {},
   "source": [
    "### Closing a file using `close()`"
   ]
  },
  {
   "cell_type": "markdown",
   "metadata": {},
   "source": [
    "To close a file, you use the `close()` method on the file handle. Every file that you open, you should close at some point in your program. This is especially true in these notebooks, as each notebook page is considered to be one complete program; this means that if you do not close a file, it remains open even after the bit of code that you executed ends.\n",
    "\n",
    "If everything that you need to do with a file is done in a single block, you can write this block as follows:\n",
    "\n",
    "    with open( <filename> ) as <handle>:\n",
    "        <statements>\n",
    "        \n",
    "This syntactic construction has the advantage that the file will be closed automatically after the block `<statements>` ends, so you do not need to include an explicit `close()` call. This construction is typically Python; you do not see it in many other programming languages."
   ]
  },
  {
   "cell_type": "markdown",
   "metadata": {},
   "source": [
    "### Displaying the contents of a file"
   ]
  },
  {
   "cell_type": "markdown",
   "metadata": {},
   "source": [
    "Now the first few functions and methods for dealing with text files have been introduced, I can show some code that reads the contents of a file."
   ]
  },
  {
   "cell_type": "code",
   "execution_count": null,
   "metadata": {
    "collapsed": false
   },
   "outputs": [],
   "source": [
    "with open( \"pc_rose.txt\" ) as fp:\n",
    "    buffer = fp.read()\n",
    "print( buffer )"
   ]
  },
  {
   "cell_type": "markdown",
   "metadata": {},
   "source": [
    "This code assumes that a file is available with the name \"`pc_rose.txt`\". Such a file should be included with the notebooks. If it is not, you get a runtime error. How to deal with such errors will be explained in the next chapter.\n",
    "\n",
    "**Exercise**: In the code above, change the file name \"`pc_rose.txt`\" to something that does not exist. Run the program and observe the error that you get.\n",
    "\n",
    "**Exercise**: In the code above, change the file name to \"`pc_woodchuck.txt`\". Run the program and observe the output. Note: several more files with names \"`pc_<something>.txt`\" are included, but some of these contain lots of text (in particular the ones in the subfolder `pcdata`). Best not try to read the other ones (for now)."
   ]
  },
  {
   "cell_type": "markdown",
   "metadata": {},
   "source": [
    "### Reading lines using `readline()`"
   ]
  },
  {
   "cell_type": "markdown",
   "metadata": {},
   "source": [
    "To read a text file line by line, you can use the `readline()` method. The `readline()` method reads characters starting at the file pointer up to and including the next newline character, and returns them as a string. You can recognize that you have reached the end of the file by the fact that no characters are read anymore, i.e., the string that is returned is empty."
   ]
  },
  {
   "cell_type": "code",
   "execution_count": null,
   "metadata": {
    "collapsed": false
   },
   "outputs": [],
   "source": [
    "fp = open( \"pc_rose.txt\" )\n",
    "while True:\n",
    "    buffer = fp.readline()\n",
    "    if buffer == \"\":\n",
    "        break\n",
    "    print( buffer )\n",
    "fp.close()"
   ]
  },
  {
   "cell_type": "markdown",
   "metadata": {},
   "source": [
    "Notice that the output of the code above has an empty line between each of the lines displayed. Where is that extra line coming from? Think about it.\n",
    "\n",
    "The extra line is there because the `readline()` method returns a string of the characters read, up to and *including* the newline character. So when the `buffer` is printed, it prints a newline character too. And since the `print()` function *also* moves to a new line after it is executed, there is an empty line printed after each line of text.\n",
    "\n",
    "**Exercise**: In the code block below, write code that reads the lines from \"`pc_rose.txt`\", and displays only those lines that contain the word \"name\"."
   ]
  },
  {
   "cell_type": "code",
   "execution_count": null,
   "metadata": {
    "collapsed": true
   },
   "outputs": [],
   "source": [
    "# Printing lines with \"name\".\n"
   ]
  },
  {
   "cell_type": "markdown",
   "metadata": {},
   "source": [
    "### Reading lines using `readlines()`"
   ]
  },
  {
   "cell_type": "markdown",
   "metadata": {},
   "source": [
    "A collary to the `readline()` method is the `readlines()` method. `readlines()` reads all the lines in the file, and returns them as a list of strings. The strings include the newline characters."
   ]
  },
  {
   "cell_type": "code",
   "execution_count": null,
   "metadata": {
    "collapsed": false
   },
   "outputs": [],
   "source": [
    "fp = open( \"pc_rose.txt\" )\n",
    "buffer = fp.readlines()\n",
    "for line in buffer:\n",
    "    print( line, end=\"\" )\n",
    "fp.close()"
   ]
  },
  {
   "cell_type": "markdown",
   "metadata": {},
   "source": [
    "Note that the output of the code above does not have the empty lines between the lines of text, as the `print()` function includes the \"`end=\"\"`\" argument, which entails that `print()` itself does not go to the next line after printing."
   ]
  },
  {
   "cell_type": "markdown",
   "metadata": {},
   "source": [
    "### When to use which file-reading method"
   ]
  },
  {
   "cell_type": "markdown",
   "metadata": {},
   "source": [
    "Both the `read()` and `readlines()` method read a whole file at once. Obviously, for small files this is acceptable, but for long files you might not have enough memory to store the file contents efficiently. In such circumstances (or when you do not know the file size), you should read a file line by line with the `readline()` method.\n",
    "\n",
    "It is often a good idea, during code development, to process only the first few lines of a file. That way you limit the amount of time that the program needs to process a file, and limit its output, which makes debugging easier. For instance, the code below process the first 10 lines of one of the longer files."
   ]
  },
  {
   "cell_type": "code",
   "execution_count": null,
   "metadata": {
    "collapsed": false
   },
   "outputs": [],
   "source": [
    "fp = open( \"pcdata/pc_amontillado.txt\" )\n",
    "count = 0\n",
    "while count < 10:\n",
    "    buffer = fp.readline()\n",
    "    if buffer == \"\":\n",
    "        break\n",
    "    print( buffer, end=\"\" )\n",
    "    count += 1\n",
    "fp.close()"
   ]
  },
  {
   "cell_type": "markdown",
   "metadata": {},
   "source": [
    "Once the program is finished and debugged, I can remove the references to `count` and change the loop to `while True`, to process the whole file.\n",
    "\n",
    "**Exercise**: Start by copying the code above in the code block below. Then adapt it to count how often the word \"fortunato\" (with any capitalization) occurs in the text as a whole. Print only the number of occurrences of that word. If you do it correctly, you find the answer is 14 (it occurs 3 times in the first 20 lines)."
   ]
  },
  {
   "cell_type": "code",
   "execution_count": null,
   "metadata": {
    "collapsed": false
   },
   "outputs": [],
   "source": [
    "# Counting \"fortunato\".\n"
   ]
  },
  {
   "cell_type": "markdown",
   "metadata": {},
   "source": [
    "---"
   ]
  },
  {
   "cell_type": "markdown",
   "metadata": {},
   "source": [
    "## Writing text files"
   ]
  },
  {
   "cell_type": "markdown",
   "metadata": {},
   "source": [
    "Writing a text file is similar to reading. You open the file, write to it, and close it."
   ]
  },
  {
   "cell_type": "markdown",
   "metadata": {},
   "source": [
    "### Opening a file for writing"
   ]
  },
  {
   "cell_type": "markdown",
   "metadata": {},
   "source": [
    "To open a file for writing, and writing only, you give the value \"`w`\" as the second argument to the `open()` function. If the file does not exist yet, it will create it. If it does exist, it will delete its contents.\n",
    "\n",
    "Let me repeat that: **when you open a file for writing and it already exists, its contents are deleted**! There is no warning message saying \"are you sure?\" The file is simply emptied. So you have to be very, very careful when opening a file for writing. Usually I ask students to write their programs in such a way that they first check if a file exists before opening it for writing, and give an error message when it already exists. Functions for checking if a file exists are discussed later in this chapter."
   ]
  },
  {
   "cell_type": "markdown",
   "metadata": {},
   "source": [
    "### Writing using `write()`"
   ]
  },
  {
   "cell_type": "markdown",
   "metadata": {},
   "source": [
    "To write something to a text file, you use the `write()` method with as argument a string that you want to write to the file. The example code below asks you to enter some strings, and writes them to a file. It stops asking for inputs when you enter an empty line. It then opens the file, reads the contents, and displays them. Run the code, enter at least two lines of text, and see what happens."
   ]
  },
  {
   "cell_type": "code",
   "execution_count": null,
   "metadata": {
    "collapsed": false
   },
   "outputs": [],
   "source": [
    "fp = open( \"pc_writetest.tmp\", \"w\" )\n",
    "while True:\n",
    "    text = input( \"Please enter a line of text: \" )\n",
    "    if text == \"\":\n",
    "        break\n",
    "    fp.write( text )\n",
    "fp.close()\n",
    "\n",
    "fp = open( \"pc_writetest.tmp\" )\n",
    "buffer = fp.read()\n",
    "fp.close()\n",
    "\n",
    "print( buffer )"
   ]
  },
  {
   "cell_type": "markdown",
   "metadata": {},
   "source": [
    "If you did what I asked, you have noticed that all the text that you entered is in the file, but it all is on one line. There are no newlines in between. The reason is that you have to explicitly write newline characters when you want newlines in your file. When you get input from the keyboard using `input()`, while you stop entering input using the *Enter* key, that does not result in a newline character in the string that `input()` returns. So you have to add that to the string that you write manually.\n",
    "\n",
    "**Exercise**: Change the code above so that every line of text that you enter, is a separate line in the file that you write."
   ]
  },
  {
   "cell_type": "markdown",
   "metadata": {},
   "source": [
    "### Writing using `writelines()`"
   ]
  },
  {
   "cell_type": "markdown",
   "metadata": {},
   "source": [
    "You can write a list of strings at once, by using the `writelines()` method that gets the list as argument. Each of the strings in the list must end in a newline character if you want those newline characters in the output file. `writelines()` is the opposite of `readlines()`; if you use the list that `readlines()` returns as argument for `writelines()`, the contents of the output file will be exactly the same as the contents of the input file.\n",
    "\n",
    "Note that there is no `writeline()` method. `writeline()` would be exactly the same method as `write()`, so it is not needed."
   ]
  },
  {
   "cell_type": "markdown",
   "metadata": {},
   "source": [
    "### Practice"
   ]
  },
  {
   "cell_type": "markdown",
   "metadata": {},
   "source": [
    "**Exercise**: In the code block below, write a program that reads the contents of \"`pc_rose.txt`\", and writes exactly the same contents to the file \"`pc_writetest.tmp`\". Then open the file \"`pc_writetest.tmp`\" and display the contents. You can easily construct this program by cobbling together some of the code given above. "
   ]
  },
  {
   "cell_type": "code",
   "execution_count": null,
   "metadata": {
    "collapsed": true
   },
   "outputs": [],
   "source": [
    "# Copying pc_rose.txt\n"
   ]
  },
  {
   "cell_type": "markdown",
   "metadata": {},
   "source": [
    "**Exercise**: In the code block below, write a program that reads the contents of \"`pc_rose.txt`\", reverses each of the lines, and writes the reversed lines to the file \"`pc_writetest.tmp`\". Then open the file \"`pc_writetest.tmp`\" and display the contents. "
   ]
  },
  {
   "cell_type": "code",
   "execution_count": null,
   "metadata": {
    "collapsed": true
   },
   "outputs": [],
   "source": [
    "# Mirroring pc_rose.txt.\n"
   ]
  },
  {
   "cell_type": "markdown",
   "metadata": {},
   "source": [
    "---"
   ]
  },
  {
   "cell_type": "markdown",
   "metadata": {},
   "source": [
    "## Appending to text files"
   ]
  },
  {
   "cell_type": "markdown",
   "metadata": {},
   "source": [
    "\"Appending\" refers to writing at the end of an existing file. When you open a file for appending, the contents are not erased, but the file pointer is placed at the end of the file, where you can then write new data. You open a file in \"append\" mode by using \"`a`\" as the mode argument when opening the file.\n",
    "\n",
    "The code below first displays the contents of \"`pc_writetest.tmp`\". It then asks the user for lines which are appended to the file. Finally, it displays the contents of the new file. I took the liberty of creating this little program in a slightly-better structured manner than before, using a constant for the filename that is repeated three times in the program, and using a function to display the file contents as this functionality is needed twice."
   ]
  },
  {
   "cell_type": "code",
   "execution_count": null,
   "metadata": {
    "collapsed": false
   },
   "outputs": [],
   "source": [
    "FILENAME = \"pc_writetest.tmp\"\n",
    "\n",
    "def displaycontents( filename ):\n",
    "    fp = open( filename )\n",
    "    print( fp.read() )\n",
    "    fp.close()\n",
    "\n",
    "displaycontents( FILENAME )\n",
    "\n",
    "fp = open( FILENAME, \"a\" )\n",
    "while True:\n",
    "    text = input( \"Please enter a line of text: \" )\n",
    "    if text == \"\":\n",
    "        break\n",
    "    fp.write( text+\"\\n\" )\n",
    "fp.close()\n",
    "\n",
    "displaycontents( FILENAME )"
   ]
  },
  {
   "cell_type": "markdown",
   "metadata": {},
   "source": [
    "---"
   ]
  },
  {
   "cell_type": "markdown",
   "metadata": {},
   "source": [
    "## `os.path` methods"
   ]
  },
  {
   "cell_type": "markdown",
   "metadata": {},
   "source": [
    "At this point you know everything you need to handle text files in Python. However, there are several handy functions that make your life easier when dealing with files. These are collected in the `os.path` module. As per usual, I am not going to list all of them, but I will list the ones that you will use the most.\n",
    "\n",
    "In these functions, the term \"path\" refers to a filename or a directory name, complete with parent directories (and drive letter). The parent directories (and drive letter) do not *need* to be there explicitly, but even if they are not, implicitly they still are as each file and each directory is located in a particular place in the file system."
   ]
  },
  {
   "cell_type": "markdown",
   "metadata": {},
   "source": [
    "### `exists()`"
   ]
  },
  {
   "cell_type": "markdown",
   "metadata": {},
   "source": [
    "The function `exists()` gets a path as argument, and returns `True` if that path exists, and `False` if it does not."
   ]
  },
  {
   "cell_type": "code",
   "execution_count": null,
   "metadata": {
    "collapsed": false
   },
   "outputs": [],
   "source": [
    "from os.path import exists\n",
    "\n",
    "if exists( \"pc_rose.txt\" ):\n",
    "    print( \"Rose exists\" )\n",
    "else:\n",
    "    print( \"Rose does not exist\" )\n",
    "    \n",
    "if exists( \"pc_tulip.txt\" ):\n",
    "    print( \"Tulip exists\" )\n",
    "else:\n",
    "    print( \"Tulip does not exist\" )"
   ]
  },
  {
   "cell_type": "markdown",
   "metadata": {},
   "source": [
    "### `isfile()`"
   ]
  },
  {
   "cell_type": "markdown",
   "metadata": {},
   "source": [
    "`isfile()` tests if the path that is supplied as argument is a file. If it is, it returns `True`. If it is not, it returns `False`. If the path does not exist, the function also returns `False`."
   ]
  },
  {
   "cell_type": "code",
   "execution_count": null,
   "metadata": {
    "collapsed": false
   },
   "outputs": [],
   "source": [
    "from os.path import isfile\n",
    "\n",
    "if isfile( \"pc_rose.txt\" ):\n",
    "    print( \"Rose is a file\" )\n",
    "else:\n",
    "    print( \"Rose is not a file\" )"
   ]
  },
  {
   "cell_type": "markdown",
   "metadata": {},
   "source": [
    "### `isdir()`"
   ]
  },
  {
   "cell_type": "markdown",
   "metadata": {},
   "source": [
    "`isdir()` tests if the path that is supplied as argument is a directory. If it is, it returns `True`. If it is not, it returns `False`. If the path does not exist, the function also returns `False`."
   ]
  },
  {
   "cell_type": "code",
   "execution_count": null,
   "metadata": {
    "collapsed": false
   },
   "outputs": [],
   "source": [
    "from os.path import isdir\n",
    "\n",
    "if isdir( \"pc_rose.txt\" ):\n",
    "    print( \"Rose is a directory\" )\n",
    "else:\n",
    "    print( \"Rose is not a directory\" )"
   ]
  },
  {
   "cell_type": "markdown",
   "metadata": {},
   "source": [
    "### `join()`"
   ]
  },
  {
   "cell_type": "markdown",
   "metadata": {},
   "source": [
    "`join()` takes one or more parts of a path as argument, and concatenates them reasonably intelligently to a legal name for a path. This means that it will add and remove slashes as needed. `join()` is particularly handy in combination with `listdir()` (see the previous chapter, and the example below). \n",
    "\n",
    "The reason that `join()` is handy with `listdir()`, is that `listdir()` results in a list of file names that do not include the directory names. Usually, when you ask for a list of file names, you intend to open them at some point. But to open a file that is not in the current directory, you need to know the complete path name that leads to the file. When you apply `listdir()`, you know where you are looking for files, so you know the elements of the path name. To construct the complete path name for each file, you need to concatenate the elements of the path name to the file name. Rather than trying to decide where you need to add slashes, and which kind of slashes they need to be, you can leave all of that to the `join()` function.\n",
    "\n",
    "The code below looks for all the files in the `pcdata` directory, and lists them including their complete path name. See how `join()` is used to construct that path name from the current directory, the `pcdata` directory, and the file name."
   ]
  },
  {
   "cell_type": "code",
   "execution_count": null,
   "metadata": {
    "collapsed": false
   },
   "outputs": [],
   "source": [
    "from os import listdir, getcwd\n",
    "from os.path import join\n",
    "\n",
    "filelist = listdir( \"pcdata\" )\n",
    "for name in filelist:\n",
    "    pathname = join( getcwd(), \"pcdata\", name )\n",
    "    print( pathname )"
   ]
  },
  {
   "cell_type": "markdown",
   "metadata": {},
   "source": [
    "### `basename()`"
   ]
  },
  {
   "cell_type": "markdown",
   "metadata": {},
   "source": [
    "`basename()` extracts the filename from a path, and returns it. "
   ]
  },
  {
   "cell_type": "code",
   "execution_count": null,
   "metadata": {
    "collapsed": false
   },
   "outputs": [],
   "source": [
    "from os.path import basename\n",
    "\n",
    "print( basename( \"/System/Home/readme.txt\" ) )"
   ]
  },
  {
   "cell_type": "markdown",
   "metadata": {},
   "source": [
    "### `dirname()`"
   ]
  },
  {
   "cell_type": "markdown",
   "metadata": {},
   "source": [
    "`dirname()` extracts the directory name from a path, and returns it."
   ]
  },
  {
   "cell_type": "code",
   "execution_count": null,
   "metadata": {
    "collapsed": false
   },
   "outputs": [],
   "source": [
    "from os.path import dirname\n",
    "\n",
    "print( dirname( \"/System/Home/readme.txt\" ) )"
   ]
  },
  {
   "cell_type": "markdown",
   "metadata": {},
   "source": [
    "### `getsize()`"
   ]
  },
  {
   "cell_type": "markdown",
   "metadata": {},
   "source": [
    "`getsize()` gets the size of the file that is supplied as argument, and returns it as an integer. The file must exist, otherwise you get a runtime error."
   ]
  },
  {
   "cell_type": "code",
   "execution_count": null,
   "metadata": {
    "collapsed": false
   },
   "outputs": [],
   "source": [
    "from os.path import getsize\n",
    "\n",
    "numbytes = getsize( \"pc_rose.txt\" )\n",
    "print( numbytes )"
   ]
  },
  {
   "cell_type": "markdown",
   "metadata": {},
   "source": [
    "**Exercise**: In the code block below, write some code that adds up the sizes of all the files in the `pcdata` directory, and prints the result."
   ]
  },
  {
   "cell_type": "code",
   "execution_count": null,
   "metadata": {
    "collapsed": true
   },
   "outputs": [],
   "source": [
    "# Add up file size.\n"
   ]
  },
  {
   "cell_type": "markdown",
   "metadata": {},
   "source": [
    "---"
   ]
  },
  {
   "cell_type": "markdown",
   "metadata": {},
   "source": [
    "## What you learned"
   ]
  },
  {
   "cell_type": "markdown",
   "metadata": {},
   "source": [
    "In this chapter, you learned about:\n",
    "\n",
    "- Text files\n",
    "- File pointers\n",
    "- Opening and closing files with `open()` and `close()`\n",
    "- Reading files with `read()`, `readline()`, and `readlines()`\n",
    "- Writing files with `write()` and `writelines()`\n",
    "- Appending to files\n",
    "- `os.path` methods `exists()`, `isfile()`, `isdir()`, `join()`, `basename()`, `dirname()`, and `getsize()`"
   ]
  },
  {
   "cell_type": "markdown",
   "metadata": {},
   "source": [
    "---"
   ]
  },
  {
   "cell_type": "markdown",
   "metadata": {},
   "source": [
    "## Exercises"
   ]
  },
  {
   "cell_type": "markdown",
   "metadata": {},
   "source": [
    "### Exercise 17.1"
   ]
  },
  {
   "cell_type": "markdown",
   "metadata": {},
   "source": [
    "Write a program that reads the contents of the file \"`pc_woodchuck.txt`\", splits it into words (where everything that is not a letter is considered a word boundary), and case-insensitively builds a dictionary that stores for every word how often it occurs in the text. Then print all the words with their quantities in alphabetical order."
   ]
  },
  {
   "cell_type": "code",
   "execution_count": null,
   "metadata": {
    "collapsed": true
   },
   "outputs": [],
   "source": [
    "# Counting words in pc_woodchuck.txt.\n"
   ]
  },
  {
   "cell_type": "markdown",
   "metadata": {},
   "source": [
    "### Exercise 17.2"
   ]
  },
  {
   "cell_type": "markdown",
   "metadata": {},
   "source": [
    "Do the same thing as you did for the previous exercise, but now process the text line by line. This is something that you would have to do if you had to process a very long text."
   ]
  },
  {
   "cell_type": "code",
   "execution_count": null,
   "metadata": {
    "collapsed": true
   },
   "outputs": [],
   "source": [
    "# Counting words line by line.\n"
   ]
  },
  {
   "cell_type": "markdown",
   "metadata": {},
   "source": [
    "### Exercise 17.3"
   ]
  },
  {
   "cell_type": "markdown",
   "metadata": {},
   "source": [
    "In the `pcdata` directory you find a file `pc_bohemia.txt`. Write a program that processes the contents of this file, line by line. It creates an output file in the current working directory (i.e., *not* in the `pcdata` directory) called \"`pc_bohemia.tmp`\", which has the same contents as `pc_bohemia.txt`, except that all the vowels are removed (case-insensitively). At the end, display how many characters you read, and how many characters you wrote. If you want to check the contents of `pc_bohemia.tmp`, you can either open it in a text editor, or display the first 10 lines or so at the end of your program."
   ]
  },
  {
   "cell_type": "code",
   "execution_count": null,
   "metadata": {
    "collapsed": true
   },
   "outputs": [],
   "source": [
    "# Removing vowels.\n"
   ]
  },
  {
   "cell_type": "markdown",
   "metadata": {},
   "source": [
    "### Exercise 17.4"
   ]
  },
  {
   "cell_type": "markdown",
   "metadata": {},
   "source": [
    "The code block below contains a list of three files, all of which can be found in the `pcdata` directory. Write a program that determines which words of 10 letters or more are found in all three files. You have to treat the words case-insensitively, and, as always, any character that is not a letter can be treated as a word boundary. If your program is correct, you will find three such words."
   ]
  },
  {
   "cell_type": "code",
   "execution_count": null,
   "metadata": {
    "collapsed": true
   },
   "outputs": [],
   "source": [
    "# Shared long words.\n",
    "filelist = [ \"pc_bohemia.txt\", \"pc_amontillado.txt\", \"pc_jeeves.txt\" ]\n"
   ]
  },
  {
   "cell_type": "markdown",
   "metadata": {},
   "source": [
    "### Exercise 17.5"
   ]
  },
  {
   "cell_type": "markdown",
   "metadata": {},
   "source": [
    "For the three files that you used in the previous exercise, count for each of them how often each letter (case-insensitively) occurs. Calculate for each letter and each file the fraction `<number of occurrences of letter in the file>/<total number of letters in the file>`. Write an outputfile (any name, as long as you can safely overwrite it) with extension `.csv`, that contains 26 lines, each line formatted as follows: `\"<letter>\",<fraction for first file>,<fraction for second file>,<fraction for third file>`. The first line should have letter `a`, the second letter `b`, etcetera. The fractions should be stored with 5 decimals. Finally, display the contents of the outputfile. As the outputfile is a CSV file, you should also be able to load it in a spreadsheet program. \n",
    "\n",
    "A quick check to see if you did things correctly is that all of the fractions must be between zero and 1, and the fraction for \"e\" should for all files be the highest, while the fraction for \"z\" should be the lowest. For most letters the fractions should be in each others neighborhood, though for some it diverges -- for instance, for the third file the letter \"j\" occurs significantly more often (probably because of the name of one of the story's characters)."
   ]
  },
  {
   "cell_type": "code",
   "execution_count": null,
   "metadata": {
    "collapsed": true
   },
   "outputs": [],
   "source": [
    "# Letter counting and CSV writing.\n"
   ]
  }
 ],
 "metadata": {
  "kernelspec": {
   "display_name": "Python 3",
   "language": "python",
   "name": "python3"
  },
  "language_info": {
   "codemirror_mode": {
    "name": "ipython",
    "version": 3
   },
   "file_extension": ".py",
   "mimetype": "text/x-python",
   "name": "python",
   "nbconvert_exporter": "python",
   "pygments_lexer": "ipython3",
   "version": "3.6.0"
  }
 },
 "nbformat": 4,
 "nbformat_minor": 0
}
