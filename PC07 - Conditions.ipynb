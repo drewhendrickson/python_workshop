{
 "cells": [
  {
   "cell_type": "markdown",
   "metadata": {},
   "source": [
    "# Chapter 7 - Conditions"
   ]
  },
  {
   "cell_type": "markdown",
   "metadata": {},
   "source": [
    "-------------------------------"
   ]
  },
  {
   "cell_type": "markdown",
   "metadata": {},
   "source": [
    "In program code, there are often statements that you only want to execute when certain conditions hold. Every programming language therefore supports conditional statements. In this chapter I will explain how to use conditions in Python."
   ]
  },
  {
   "cell_type": "markdown",
   "metadata": {},
   "source": [
    "---"
   ]
  },
  {
   "cell_type": "markdown",
   "metadata": {},
   "source": [
    "## Boolean expressions"
   ]
  },
  {
   "cell_type": "markdown",
   "metadata": {},
   "source": [
    "A conditional statement, often called an \"if\"-statement, consists of a test and one or more actions. The test is a so-called \"boolean expression\". The actions are executed when the test evaluates to `True`. For instance, an app on a smartphone might give a warning if the battery level is lower than 5%. This means that the app needs to check if a certain variable `battery_level` is lower than the value 5, i.e., if the comparison `battery_level < 5` evaluates to `True`. If the variable `battery_level` currently holds the value `17`, then `battery_level < 5` evaluates to `False`."
   ]
  },
  {
   "cell_type": "markdown",
   "metadata": {},
   "source": [
    "### Booleans"
   ]
  },
  {
   "cell_type": "markdown",
   "metadata": {},
   "source": [
    "`True` and `False` are so-called \"boolean values\" that are predefined in Python. `True` and `False` are the <i>only</i> boolean values, and anything that is not `False`, is `True`.\n",
    "\n",
    "You might wonder what the data type of `True` and `False` is. The answer is that they are of the type `bool`. However, in Python <i>every</i> value can be interpreted as a boolean value, regardless of its data type. I.e., when you test a condition, and your test is of a value that is not `True` or `False`, it will still be interpreted as either `True` or `False`.\n",
    "\n",
    "The following values are interpreted as `False`:\n",
    "- The special value `False`\n",
    "- The special value `None` (which you encountered in the previous chapter)\n",
    "- Every numerical value that is zero, e.g., `0` and `0.0`\n",
    "- Every empty sequence, e.g., an empty string (`\"\"`)\n",
    "- Every empty \"mapping\", e.g., an empty dictionary (dictionaries follow in a later chapter)\n",
    "- Any function or method call that returns one of these listed values (this includes functions that return nothing)\n",
    "\n",
    "Every other value is interpreted as `True`. \n",
    "\n",
    "Any expression that is evaluated as `True` or `False` is called a \"boolean expression\"."
   ]
  },
  {
   "cell_type": "markdown",
   "metadata": {},
   "source": [
    "### Comparisons"
   ]
  },
  {
   "cell_type": "markdown",
   "metadata": {},
   "source": [
    "The most common boolean expressions are comparisons. A comparison consists of two values, and a comparison operator in between. Comparison operators are:\n",
    "\n",
    "    <    less than\n",
    "    <=   less than or equal to\n",
    "    ==   equal to\n",
    "    >=   equal to or greater than\n",
    "    >    greater than\n",
    "    !=   not equal\n",
    "\n",
    "A common mistake is to use a single `=` as a comparison operator, but the single `=` is the assignment operator. In general, Python will produce a syntax or runtime error if you try to use a single `=` to make a a comparison.\n",
    "\n",
    "You can use the comparison operators to compare both numbers and strings. Comparison for strings is an alphabetical comparison, whereby all capitals come before all lower case letters (and digits come before both of them). \n",
    "\n",
    "Here are some examples of the results of comparisons:"
   ]
  },
  {
   "cell_type": "code",
   "execution_count": null,
   "metadata": {
    "collapsed": false
   },
   "outputs": [],
   "source": [
    "print( \"1.\", 2 < 5 )\n",
    "print( \"2.\", 2 <= 5 )\n",
    "print( \"3.\", 3 > 3 )\n",
    "print( \"4.\", 3 >= 3 )\n",
    "print( \"5.\", 3 == 3.0 )\n",
    "print( \"6.\", 3 == \"3\" )\n",
    "print( \"7.\", \"syntax\" == \"syntax\" )\n",
    "print( \"8.\", \"syntax\" == \"semantics\" )\n",
    "print( \"9.\", \"syntax\" == \" syntax\" )\n",
    "print( \"10.\", \"Python\" != \"rubbish\" )\n",
    "print( \"11.\", \"Python\" > \"Perl\" )\n",
    "print( \"12.\", \"banana\" < \"orange\" )\n",
    "print( \"13.\", \"banana\" < \"Orange\" )"
   ]
  },
  {
   "cell_type": "markdown",
   "metadata": {},
   "source": [
    "Make sure that you understand these evaluations!\n",
    "\n",
    "You can assign the outcome of a boolean expression to a variable if you like:"
   ]
  },
  {
   "cell_type": "code",
   "execution_count": null,
   "metadata": {
    "collapsed": false
   },
   "outputs": [],
   "source": [
    "greater = 5 > 2\n",
    "print( greater )\n",
    "greater = 5 < 2\n",
    "print( greater )\n",
    "print( type( greater ) )"
   ]
  },
  {
   "cell_type": "markdown",
   "metadata": {},
   "source": [
    "**Exercise**: Write some code that allows you to test if `1/2` is greater than, equal to, or less than `0.5`. Do the same for `1/3` and `0.33`. Then do the same for `(1/3)*3` and `1`."
   ]
  },
  {
   "cell_type": "code",
   "execution_count": null,
   "metadata": {
    "collapsed": true
   },
   "outputs": [],
   "source": [
    "# Test some comparisons.\n"
   ]
  },
  {
   "cell_type": "markdown",
   "metadata": {},
   "source": [
    "Comparisons of data types that cannot be compared, in general lead to runtime errors."
   ]
  },
  {
   "cell_type": "code",
   "execution_count": null,
   "metadata": {
    "collapsed": false
   },
   "outputs": [],
   "source": [
    "# This code gives a runtime error.\n",
    "print( 3 < \"3\" )"
   ]
  },
  {
   "cell_type": "markdown",
   "metadata": {},
   "source": [
    "###  `in` operator"
   ]
  },
  {
   "cell_type": "markdown",
   "metadata": {},
   "source": [
    "Python has a special operator called the \"membership test operator\", which is usually abbreviated to the \"in operator\" as it is written as `in`. The `in` operator tests if the value to the left side of the operator is found in the collection to the right side of the operator.\n",
    "\n",
    "At this time, I have discussed only one \"collection\", which is the string. A string is a collection of characters. You can test if a particular character or a sequence of characters is part of the string using the `in` operator. The opposite of the `in` operator is the `not in` operator, which gives `True` when `in` gives `False`, and which gives `False` when `in` gives `True`. \n",
    "\n",
    "For example:"
   ]
  },
  {
   "cell_type": "code",
   "execution_count": null,
   "metadata": {
    "collapsed": false
   },
   "outputs": [],
   "source": [
    "print( \"y\" in \"Python\" )\n",
    "print( \"x\" in \"Python\" )\n",
    "print( \"p\" in \"Python\" )\n",
    "print( \"th\" in \"Python\" )\n",
    "print( \"to\" in \"Python\" )\n",
    "print( \"y\" not in \"Python\" )"
   ]
  },
  {
   "cell_type": "markdown",
   "metadata": {},
   "source": [
    "Again, make sure that you understand these evaluations!\n",
    "\n",
    "**Exercise**: Write some code that allows you to test for each vowel whether it occurs in your name. You may ignore capitals."
   ]
  },
  {
   "cell_type": "code",
   "execution_count": null,
   "metadata": {
    "collapsed": true
   },
   "outputs": [],
   "source": [
    "# Vowels in name.\n"
   ]
  },
  {
   "cell_type": "markdown",
   "metadata": {},
   "source": [
    "### Logical operators"
   ]
  },
  {
   "cell_type": "markdown",
   "metadata": {},
   "source": [
    "Boolean expressions can be combined with logical operators. There are three logical operators, `and`, `or`, and `not`.\n",
    "\n",
    "`and` and `or` are placed between two boolean expressions. When `and` is between two boolean expressions, the result is `True` if and only if both expressions evaluate to `True`; otherwise it is `False`. When `or` is between two boolean expressions, the result is `True` when one or both of the expressions evaluate to `True`; it is only `False` if both expressions evaluate to `False`.\n",
    "\n",
    "`not` is placed in front of a boolean expression to switch it from `True` to `False` or vice versa.\n",
    "\n",
    "For example:"
   ]
  },
  {
   "cell_type": "code",
   "execution_count": null,
   "metadata": {
    "collapsed": false
   },
   "outputs": [],
   "source": [
    "t = True\n",
    "f = False\n",
    "\n",
    "print( t and t )\n",
    "print( t and f )\n",
    "print( f and t )\n",
    "print( f and f )\n",
    "\n",
    "print( t or t )\n",
    "print( t or f )\n",
    "print( f or t )\n",
    "print( f or f )\n",
    "\n",
    "print( not t )\n",
    "print( not f )"
   ]
  },
  {
   "cell_type": "markdown",
   "metadata": {},
   "source": [
    "You have to be careful with logical operators, because combinations of `and`s and `or`s might lead to unexpected results. To ensure that they are evaluated in the order that you intend, you can use parentheses. For example, rather than writing \"`a and b or c`\" you should write \"`(a and b) or c`\" or \"`a and (b or c)`\" (depending on the order in which you want to evaluate the logical operators), so that it is immediately clear from your code which evaluation you want the code to do. Even if you know the order in which the logical operators are processed by Python, someone else who reads your code might not. \n",
    "\n",
    "**Exercise**: In the code block below, give values `True` or `False` to each of the variables `a`, `b`, and `c`, so that the two expressions evaluate to different values."
   ]
  },
  {
   "cell_type": "code",
   "execution_count": null,
   "metadata": {
    "collapsed": true
   },
   "outputs": [],
   "source": [
    "a = # True or False?\n",
    "b = # True or False?\n",
    "c = # True or False?\n",
    "print( (a and b) or c )\n",
    "print( a and (b or c) )"
   ]
  },
  {
   "cell_type": "markdown",
   "metadata": {},
   "source": [
    "If all the logical operators in a boolean expression are `and`, or they all are `or`, the use of parentheses is not needed, since there is only one possible evaluation of the expression.\n",
    "\n",
    "Boolean expressions are processed from left to right, and Python will stop the processing of an expression when it already knows whether it will end in `True` or `False`. Take, for instance, the following code:"
   ]
  },
  {
   "cell_type": "code",
   "execution_count": null,
   "metadata": {
    "collapsed": false
   },
   "outputs": [],
   "source": [
    "x = 1\n",
    "y = 0\n",
    "print( (x == 0) or (y == 0) or (x / y == 1) )"
   ]
  },
  {
   "cell_type": "markdown",
   "metadata": {},
   "source": [
    "When you divide by zero, Python gives a runtime error, so the expression `x / y == 1` crashes the program if `y` is zero. And `y` actually is zero. However, when Python processed the whole boolean expression, at the point where it tested `y == 0` it determined that the expression as a whole is `True`, because if any of the expressions that are connected by an `or` to the expression as a whole is `True`, then the whole expression is `True`. So there was no need for Python to determine the value of `x / y == 1`, and it did not even attempt to evaluate it. Of course, the test `y == 0` must be to the *left* of `x / y == 1`, so that Python will test `y == 0` first.\n",
    "\n",
    "Note: While you can make truly complex boolean expressions using logical operators, I recommend that you keep your expressions simple if possible. Simple boolean expressions make code readable."
   ]
  },
  {
   "cell_type": "markdown",
   "metadata": {},
   "source": [
    "---"
   ]
  },
  {
   "cell_type": "markdown",
   "metadata": {},
   "source": [
    "## Conditional statements"
   ]
  },
  {
   "cell_type": "markdown",
   "metadata": {},
   "source": [
    "Conditional statements are, as the introduction to this chapter said, statements consisting of a test and one or more actions, whereby the actions only get executed if the test evaluates to `True`. Conditional statements are also called \"if-statements\", as they are written using the special keyword `if`.\n",
    "\n",
    "Here is an example:"
   ]
  },
  {
   "cell_type": "code",
   "execution_count": null,
   "metadata": {
    "collapsed": false
   },
   "outputs": [],
   "source": [
    "x = 5\n",
    "if x == 5:\n",
    "    print( \"x equals 5\" )"
   ]
  },
  {
   "cell_type": "markdown",
   "metadata": {},
   "source": [
    "The syntax of the `if` statement is as follows:\n",
    "\n",
    "    if <boolean expression>:\n",
    "        <statements>\n",
    "\n",
    "Note the colon (`:`) after the boolean expression, and the fact that `<statements>` is indented."
   ]
  },
  {
   "cell_type": "markdown",
   "metadata": {},
   "source": [
    "### Code blocks"
   ]
  },
  {
   "cell_type": "markdown",
   "metadata": {},
   "source": [
    "In the syntactic description of the `if` statement shown above, you see that the `<statements>` are \"indented\", i.e., they are placed one tabulation to the right. This is intentional and <u>necessary</u>. Python considers statements that are following each other and that are at the same level of indentation part of a code block. The code block underneath the first line of the `if` statement is considered to be the list of actions that are executed when the boolean expression evaluates to `True`.\n",
    "\n",
    "For example:"
   ]
  },
  {
   "cell_type": "code",
   "execution_count": null,
   "metadata": {
    "collapsed": true
   },
   "outputs": [],
   "source": [
    "x = 7\n",
    "if x < 10:\n",
    "    print( \"This line is only executed if x < 10.\" )\n",
    "    print( \"And the same holds for this line.\" )\n",
    "print( \"This line, however, is always executed.\" )"
   ]
  },
  {
   "cell_type": "markdown",
   "metadata": {},
   "source": [
    "**Exercise**: Change the value of `x` to see how it affects the outcome of the code.\n",
    "\n",
    "Thus, all the statements under the `if` that are indented, belong to the code block that is executed when the boolean expression of the `if` statement evaluates to `True`. This code block is skipped if the boolean expression evaluates to `False`. Statements which follow the `if` construction which are not indented (as deep as the code block under the `if`), are executed, regardless of whether the boolean expression evaluates to `True` or `False`.\n",
    "\n",
    "Naturally, you are not restricted to having just a single `if` statement in your code. You can have as many as you like."
   ]
  },
  {
   "cell_type": "code",
   "execution_count": null,
   "metadata": {
    "collapsed": false
   },
   "outputs": [],
   "source": [
    "x = 5\n",
    "if x == 5: \n",
    "    print( \"x equals 5\" )\n",
    "if x > 4: \n",
    "    print( \"x is greater than 4\" )\n",
    "if  x >= 5:\n",
    "    print( \"x is greater than or equal to 5\" )\n",
    "if x < 6: \n",
    "    print( \"x is less than 6\" ) \n",
    "if x <= 5:\n",
    "    print( \"x is less than or equal to 5\" )\n",
    "if x != 6 :\n",
    "    print( \"x does not equal 6\" )"
   ]
  },
  {
   "cell_type": "markdown",
   "metadata": {},
   "source": [
    "**Exercise**: Again, try changing the value of `x` and see how it affects the outcome."
   ]
  },
  {
   "cell_type": "markdown",
   "metadata": {},
   "source": [
    "### Indentation"
   ]
  },
  {
   "cell_type": "markdown",
   "metadata": {},
   "source": [
    "In Python, __correct indenting is of the utmost importance__! Without correct indentation, Python will not be able to recognize which statements belong together as one code block, and therefore cannot execute your code correctly.\n",
    "\n",
    "**Side note**: In many programming languages (actually, in almost all programming languages), code blocks are recognized by having them start and end with a specific symbol or keyword. For instance, in languages such as Java and C++, code blocks are enclosed by curly brackets, while in languages such as Pascal and Modula, code blocks are started with the keyword `begin` and ended with the keyword `end`. That means that in almost all languages, indenting to recognize code blocks is not necessary. However, you will find that code written by capable programmers is always nicely indented, regardless of the language. This makes it easy to see which code belongs together, for instance, which commands belong to an `if` statement. Python makes indenting a requirement. While for experienced programmers who are new to Python this seems strange at first, they quickly find that they do not care -- they were indenting nicely anyway, and Python's strategy makes that beginning programmers are also required to write nice-looking code.\n",
    "\n",
    "Note that you can indent using the *Tab* key, or indent using spaces. Most editors (including the editor in these notebooks) will auto-indent for you, i.e., if, for instance, you write the first line of an `if` statement, once you press *Enter* to go to the next line, it will automatically \"jump in\" one level of indentation (if it does not, it is very likely that you forgot the colon at the end of the conditional expression). Also, when you have indented one line to a certain level of indentation, the next line will use the same level. You can get rid of indentations using the *Backspace* key.\n",
    "\n",
    "For Python programs, a normal level of indentation is four spaces, i.e., one press of the *Tab* key should \"jump in\" four spaces. As long as you are in one editor, you can in such a case either use the *Tab* key, or press the spacebar four times, to go up one indentation level. So far so good. You may get into problems, however, if you port your code to another editor, which might have a different setting for the *Tab* key. If you edit your code in a such a different editor, even though it might look okay, Python may see that there are indentation conflicts (a mix of tabulations and space-indentations) and may report a syntax error when you try to run your code. Most editors therefore offer the option to automatically replace tabulations with spaces, so that such problems do not arise. If you use a text editor to write Python code, check if it contains such an option, and if so, ensure that tabulations are set to 4 and are automatically replaced by spaces.\n",
    "\n",
    "**Exercise**: The following code contains multiple indentation errors. Fix them all."
   ]
  },
  {
   "cell_type": "code",
   "execution_count": null,
   "metadata": {
    "collapsed": false
   },
   "outputs": [],
   "source": [
    "x = 3\n",
    "y = 4\n",
    "if x == 3 and y == 4:\n",
    "    print( \"x is 3\" )\n",
    "   print( \"y is 4\" )\n",
    "if x > 2 and y < 5:\n",
    "print( \"x > 2\" )\n",
    "print( \"y < 5\" )\n",
    "if x < 4 and y > 3:\n",
    "    print( \"x < 4\" )\n",
    "        print( \"y > 3\" )"
   ]
  },
  {
   "cell_type": "markdown",
   "metadata": {},
   "source": [
    "### Two-way decisions"
   ]
  },
  {
   "cell_type": "markdown",
   "metadata": {},
   "source": [
    "Often a decision branches, e.g., if a certain condition arises, you want to take a particular action, but if it does not arise, you want to take another action. This is supported by Python in the form of an expansion to the `if` statement that adds an `else` branch."
   ]
  },
  {
   "cell_type": "code",
   "execution_count": null,
   "metadata": {
    "collapsed": false
   },
   "outputs": [],
   "source": [
    "x = 4\n",
    "if x > 2:\n",
    "    print( \"x is bigger than 2\" )\n",
    "else:\n",
    "    print( \"x is smaller than or equal to 2\" ) "
   ]
  },
  {
   "cell_type": "markdown",
   "metadata": {},
   "source": [
    "The syntax is as follows:\n",
    "\n",
    "    if <boolean expression>:\n",
    "        <statements>\n",
    "    else:\n",
    "        <statements>\n",
    "\n",
    "Note the colon (`:`) after both the boolean expression and the `else`.\n",
    "\n",
    "It is important that the word `else` is aligned with the word `if` that it belongs to. If you do not align them correctly, this results in an indentation error.\n",
    "\n",
    "A consequence of adding an `else` branch to an `if` statement is that always exactly one of the two code blocks will be executed. If the boolean expression of the `if` statement evaluates to `True`, the code block directly under the `if` will be executed, and the code block directly under the `else` will be skipped. If it evaluates to `False`, the code block directly under the `if` will be skipped, while the code block directly under the `else` will be executed.\n",
    "\n",
    "**Exercise**: You can test whether an integer is odd or even using the modulo operator. Specifically, when `x%2` equals zero, then `x` is even, else it is odd. The code below asks for an integer. Add code that prints whether that integer is odd or even. "
   ]
  },
  {
   "cell_type": "code",
   "execution_count": null,
   "metadata": {
    "collapsed": true
   },
   "outputs": [],
   "source": [
    "from pcinput import getInteger\n",
    "\n",
    "number = getInteger( \"Please enter an integer: \" )\n",
    "\n",
    "# Add code here that prints whether number is odd or even."
   ]
  },
  {
   "cell_type": "markdown",
   "metadata": {},
   "source": [
    "Note: As far as indentation is concerned, it is not absolutely necessary to have the code block under the `else` branch use the same number of spaces in indentation as the code block under the `if` branch, as long as the indentation is consistent within the code block. However, accomplished programmers use consistent indentation throughout their programs, which makes it easier to see what the whole `if-else` statement encompasses. For example, in the code below the indentation in the `else` branch uses less spaces than the indentation in the `if` branch. While syntactically correct, I do not like that (and neither does the notebook, considering that it colors the first `print()` in the `else` branch red), and I prefer you to use consistent indenting throughout the code."
   ]
  },
  {
   "cell_type": "code",
   "execution_count": null,
   "metadata": {
    "collapsed": false
   },
   "outputs": [],
   "source": [
    "# Example of syntactically correct but ugly indenting.\n",
    "x = 1\n",
    "y = 3\n",
    "if x > 2 and y < 1:\n",
    "    print( \"x is bigger than 2\" )\n",
    "    print( \"y is smaller than 1\")\n",
    "else:\n",
    "  print( \"x is smaller than or equal to 2\" )\n",
    "  print( \"or y is bigger than or equal to 1\" )"
   ]
  },
  {
   "cell_type": "markdown",
   "metadata": {},
   "source": [
    "### Multi-branch decisions"
   ]
  },
  {
   "cell_type": "markdown",
   "metadata": {},
   "source": [
    "Occasionally, you encounter multi-branch decisions, where one of multiple blocks of commands has to be executed, but never more than one block. Such multi-branch decisions can be implemented using a further expansion of the `if` statement, namely in the form of one or more `elif` statements (`elif` stands for \"else if\")."
   ]
  },
  {
   "cell_type": "code",
   "execution_count": null,
   "metadata": {
    "collapsed": false
   },
   "outputs": [],
   "source": [
    "age = 21\n",
    "if age < 12:\n",
    "    print( \"You're still a child!\" )\n",
    "elif age < 18:\n",
    "    print( \"You are a teenager!\" )\n",
    "elif age < 30:\n",
    "    print( \"You're pretty young!\" )\n",
    "elif age < 50:\n",
    "    print( \"Wisening up, are we?\" )\n",
    "else:\n",
    "    print( \"Aren't the years weighing heavy on your shoulders?\" )"
   ]
  },
  {
   "cell_type": "markdown",
   "metadata": {},
   "source": [
    "**Exercise**: In the code block above, change `age` to different values and observe the results.\n",
    "\n",
    "The syntax is as follows:\n",
    "\n",
    "    if <boolean expression>:\n",
    "        <statements>\n",
    "    elif <boolean expression>:\n",
    "        <statements>\n",
    "    else:\n",
    "        <statements>\n",
    "\n",
    "The syntax above shows only one `elif`, but you can have multiple. The different tests in an `if`-`elif`-`else` construct are executed in order. The first boolean expression that evaluates to `True` will cause the code block that belongs to that expression to be executed. None of the other code blocks of the construct will be executed.\n",
    "\n",
    "In other words: First the boolean expression next to the `if` will be evaluated. If it evaluates to `True`, the code block underneath the `if` will be executed. If it evaluates to `False`, the boolean expression for the first `elif` will be evaluated. If that turns out to be `True`, the code block underneath it will be executed. If it is `False`, Python will check the boolean expression for the next `elif`. Etcetera. Only when all the boolean expressions for the `if` and all of the `elif`s evaluate to `False`, the code block underneath the `else` will be executed.\n",
    "\n",
    "The consequence is that in the code above, for the first `elif`, you do not need to test `age >= 12 and age < 18`. Just testing `age < 18` suffices, because if `age` was smaller than `12`, already the boolean expression for the `if` would have evaluated to `True`, and the boolean expression for the first `elif` would not even have been encountered by Python.\n",
    "\n",
    "Note that the inclusion of the `else` branch is always optional. However, in most cases where I need `elif`s I include it anyway, if only for error checking.\n",
    "\n",
    "**Exercise:** Write a small program that defines a variable `weight`. If `weight` is greater than 20 (kilo's), print: \"There is a $25 surcharge for luggage that is too heavy.\" If `weight` is smaller than 20, print: \"Thank you for your business.\" If `weight` is exactly 20, print: \"Pfew! The weight is just right!\". Change the value of `weight` a couple of times to check whether your code works."
   ]
  },
  {
   "cell_type": "code",
   "execution_count": null,
   "metadata": {
    "collapsed": false
   },
   "outputs": [],
   "source": [
    "# Luggage weighing.\n"
   ]
  },
  {
   "cell_type": "markdown",
   "metadata": {},
   "source": [
    "### Nested conditions"
   ]
  },
  {
   "cell_type": "markdown",
   "metadata": {},
   "source": [
    "Given the rules of the `if-elif-else` statements and identation, it is perfectly possible to use an `if` statement within another `if` statement. This second `if` statement is only executed if the condition for the first `if` statement evaluates to `True`, as it belongs to the code block of the first `if` statement. This is called \"nesting\"."
   ]
  },
  {
   "cell_type": "code",
   "execution_count": null,
   "metadata": {
    "collapsed": false
   },
   "outputs": [],
   "source": [
    "x = 41\n",
    "if x%7 == 0:\n",
    "    # --- Here starts a nested block of code ---\n",
    "    if x%11 == 0:\n",
    "        print( x, \"is dividable by both 7 and 11.\" )\n",
    "    else:\n",
    "        print( x, \"is dividable by 7, but not by 11.\" )\n",
    "    # --- Here ends the nested block of code ---\n",
    "elif x%11 == 0:\n",
    "    print( x, \"is dividable by 11, but not by 7.\" )\n",
    "else:\n",
    "    print( x, \"is dividable by neither 7 nor 11.\" )"
   ]
  },
  {
   "cell_type": "markdown",
   "metadata": {},
   "source": [
    "**Exercise**: Change the value of `x` and observe the results.\n",
    "\n",
    "Note that the example above is just to illustrate nesting; you probably already know different ways of getting the same results that are a bit more readable. In particular, nesting of `if` statements can often be avoided by judicious use of `elif`s. To give an example, here is a \"nested\" example of the `age` code given above under the \"Multi-branch decisions\" heading:"
   ]
  },
  {
   "cell_type": "code",
   "execution_count": null,
   "metadata": {
    "collapsed": true
   },
   "outputs": [],
   "source": [
    "age = 21\n",
    "if age < 12:\n",
    "    print( \"You're still a child!\" )\n",
    "else:\n",
    "    if age < 18:\n",
    "        print( \"You are a teenager!\" )\n",
    "    else:\n",
    "        if age < 30:\n",
    "            print( \"You're pretty young!\" )\n",
    "        else:\n",
    "            if age < 50:\n",
    "                print( \"Wisening up, are we?\" )\n",
    "            else:\n",
    "                print( \"Aren't the years weighing heavy on your shoulders?\" )"
   ]
  },
  {
   "cell_type": "markdown",
   "metadata": {},
   "source": [
    "I assume you agree that the version with the `elif`s looks better."
   ]
  },
  {
   "cell_type": "markdown",
   "metadata": {},
   "source": [
    "---"
   ]
  },
  {
   "cell_type": "markdown",
   "metadata": {},
   "source": [
    "## Early exits"
   ]
  },
  {
   "cell_type": "markdown",
   "metadata": {},
   "source": [
    "Occasionally it happens that you want to exit a program early when a certain condition arises. For instance, your program asks the user for a value, and then processes that value extensively. But if the user enters a value that cannot be processed, the program should just end. You could code that as follows:"
   ]
  },
  {
   "cell_type": "code",
   "execution_count": null,
   "metadata": {
    "collapsed": true
   },
   "outputs": [],
   "source": [
    "from pcinput import getInteger\n",
    "\n",
    "num = getInteger( \"Please enter a positive integer: \" )\n",
    "if num < 0:\n",
    "    print( \"You should have entered a positive integer, you clod!\" )\n",
    "else:\n",
    "    print( \"Now I am processing your integer\", num )\n",
    "    print( \"Lots and lots of processing\" )\n",
    "    print( \"Hundreds of lines of code here\" )"
   ]
  },
  {
   "cell_type": "markdown",
   "metadata": {},
   "source": [
    "It is a bit irritating that most of your program is already one indent deep, while you would have preferred to leave the program at the error message, and then have the rest of the program at the top indent level.\n",
    "\n",
    "You can do that using a special function `exit()` that is found in the module `sys`. The code above becomes:"
   ]
  },
  {
   "cell_type": "code",
   "execution_count": null,
   "metadata": {
    "collapsed": false
   },
   "outputs": [],
   "source": [
    "from pcinput import getInteger\n",
    "from sys import exit\n",
    "\n",
    "num = getInteger( \"Please enter a positive integer: \" )\n",
    "if num < 0:\n",
    "    print( \"You should have entered a positive integer, you clod!\" )\n",
    "    exit()\n",
    "    \n",
    "print( \"Now I am processing your integer\", num )\n",
    "print( \"Lots and lots of processing\" )\n",
    "print( \"Hundreds of lines of code here\" )"
   ]
  },
  {
   "cell_type": "markdown",
   "metadata": {},
   "source": [
    "When you run this code and enter a negative number, you will find that Python raises a `SystemExit` exception, which looks like a big, ugly error. It is not, however. This exception just says that you forced the program to end, but that is exactly what you wanted. This is actually a nice, clean exit. \n",
    "\n",
    "In general, you are not allowed to ignore error messages and warnings. This one is the exception to the rule. You are allowed to exit your program this way. In the chapter on functions I will explain how you can suppress this ugly message, but for now, just accept it."
   ]
  },
  {
   "cell_type": "markdown",
   "metadata": {},
   "source": [
    "-------"
   ]
  },
  {
   "cell_type": "markdown",
   "metadata": {},
   "source": [
    "## What you learned"
   ]
  },
  {
   "cell_type": "markdown",
   "metadata": {},
   "source": [
    "In this chapter, you learned about:\n",
    "\n",
    "- What boolean expressions are\n",
    "- Boolean values `True` and `False`\n",
    "- Comparisons with `<`, `<=`, `==`, `>`, `>=`, and `!=`\n",
    "- The `in` operator\n",
    "- Logical operators `and`, `or`, and `not`\n",
    "- Conditional statements using `if`, `elif`, and `else`\n",
    "- Code blocks\n",
    "- Indentation\n",
    "- Nested conditions\n",
    "- Using `exit()`"
   ]
  },
  {
   "cell_type": "markdown",
   "metadata": {},
   "source": [
    "---------"
   ]
  },
  {
   "cell_type": "markdown",
   "metadata": {},
   "source": [
    "## Exercises"
   ]
  },
  {
   "cell_type": "markdown",
   "metadata": {},
   "source": [
    "### Exercise 7.1"
   ]
  },
  {
   "cell_type": "markdown",
   "metadata": {},
   "source": [
    "Grades are values between zero and 10 (both zero and 10 included), and are always rounded to the nearest half point. To translate grades to the American style, 8.5 to 10 become an \"A\", 7.5 and 8 become a \"B\", 6.5 and 7 become a \"C\", 5.5 and 6 become a \"D\", and other grades become an \"F\". Implement this translation, whereby you ask the user for a grade, and then give the American translation. If the user enters a grade lower than zero or higher than 10, just give an error message. You do not need to handle the user entering grades that do not end in `.0` or `.5`, though you may do that if you like -- in that case, if the user enters such an illegal grade, give an appropriate error message. "
   ]
  },
  {
   "cell_type": "code",
   "execution_count": null,
   "metadata": {
    "collapsed": false
   },
   "outputs": [],
   "source": [
    "# Grading system.\n"
   ]
  },
  {
   "cell_type": "markdown",
   "metadata": {},
   "source": [
    "### Exercise 7.2"
   ]
  },
  {
   "cell_type": "markdown",
   "metadata": {},
   "source": [
    "Can you spot the reasoning error in the following code?"
   ]
  },
  {
   "cell_type": "code",
   "execution_count": null,
   "metadata": {
    "collapsed": false
   },
   "outputs": [],
   "source": [
    "score = 98.0\n",
    "if score >= 60.0:\n",
    "    grade = 'D'\n",
    "elif score >= 70.0:\n",
    "    grade = 'C'\n",
    "elif score >= 80.0:\n",
    "    grade = 'B'\n",
    "elif score >= 90.0:\n",
    "    grade = 'A'\n",
    "else:\n",
    "    grade = 'F'\n",
    "print( grade )"
   ]
  },
  {
   "cell_type": "markdown",
   "metadata": {},
   "source": [
    "### Exercise 7.3"
   ]
  },
  {
   "cell_type": "markdown",
   "metadata": {},
   "source": [
    "Ask the user to supply a string. Print how many *different* vowels there are in the string. The capital version of a lower case vowel is considered to be the same vowel. `y` is not considered a vowel. Try to print nice output (e.g., printing \"There are 1 different vowels in the string\" is ugly). Example: When the user enters the string \"Michael Palin\", the program should say that there are 3 different vowels in the string."
   ]
  },
  {
   "cell_type": "code",
   "execution_count": null,
   "metadata": {
    "collapsed": true
   },
   "outputs": [],
   "source": [
    "# Different vowels.\n"
   ]
  },
  {
   "cell_type": "markdown",
   "metadata": {},
   "source": [
    "### Exercise 7.4"
   ]
  },
  {
   "cell_type": "markdown",
   "metadata": {},
   "source": [
    "You can solve quadratic equations using the quadratic formula. Quadratic equations are of the form `A*x*x + B*x + C = 0`. Such equations have zero, one or two solutions. The first solution is `(-B + sqrt( B*B - 4*A*C )) / (2*A)`. The second solution is `(-B - sqrt( B*B - 4*A*C )) / (2*A)`. There are no solutions if the value under the square root is negative. There is one solution if the value under the square root is zero. Write a program that asks the user for the values of `A`, `B`, and `C`, then reports whether there are zero, one, or two solutions, then prints those solutions. Note: Make sure that you also take into account the case that `A` is zero, and the case that both `A` and `B` are zero."
   ]
  },
  {
   "cell_type": "code",
   "execution_count": null,
   "metadata": {
    "collapsed": true
   },
   "outputs": [],
   "source": [
    "# Solving quadratic equations.\n"
   ]
  }
 ],
 "metadata": {
  "kernelspec": {
   "display_name": "Python 3",
   "language": "python",
   "name": "python3"
  },
  "language_info": {
   "codemirror_mode": {
    "name": "ipython",
    "version": 3
   },
   "file_extension": ".py",
   "mimetype": "text/x-python",
   "name": "python",
   "nbconvert_exporter": "python",
   "pygments_lexer": "ipython3",
   "version": "3.6.0"
  }
 },
 "nbformat": 4,
 "nbformat_minor": 0
}
