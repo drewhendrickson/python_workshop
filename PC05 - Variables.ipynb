{
 "cells": [
  {
   "cell_type": "markdown",
   "metadata": {},
   "source": [
    "# Chapter 5 - Variables"
   ]
  },
  {
   "cell_type": "markdown",
   "metadata": {},
   "source": [
    "-------------------------------"
   ]
  },
  {
   "cell_type": "markdown",
   "metadata": {},
   "source": [
    "When working with program code, very often you are designing a procedure (or \"algorithm\") that solves a problem in a general way. For instance, in the previous chapter one of the exercises had you calculate the wholesale price for a stack of books, for a given book price and a given number of books. The code you wrote did not solve this problem for a general case, but only for the specific case of 60 books costing 24.95 per book. If you want to write code that solves problems in a more general way, you need to use variables that store values. "
   ]
  },
  {
   "cell_type": "markdown",
   "metadata": {},
   "source": [
    "---"
   ]
  },
  {
   "cell_type": "markdown",
   "metadata": {},
   "source": [
    "## Variables and values"
   ]
  },
  {
   "cell_type": "markdown",
   "metadata": {},
   "source": [
    "A variable is a labelled place in the computer memory that you can use to store a value in. The label you can choose yourself, and is usually called the \"variable name\".\n",
    "\n",
    "To create a variable (i.e., choose the variable name), you must \"assign\" it a value. The assign-operator is the equals (`=`) symbol. To the left of it you put the variable name, and to the right of it you put the value that you want to store in the variable. This is best illustrated with an example:"
   ]
  },
  {
   "cell_type": "code",
   "execution_count": null,
   "metadata": {
    "collapsed": false
   },
   "outputs": [],
   "source": [
    "x = 5\n",
    "print( x )"
   ]
  },
  {
   "cell_type": "markdown",
   "metadata": {},
   "source": [
    "In the code block above, two things happen. First, I create a variable with the name `x` and give it a value, in this case `5`. This is called an \"assignment\". I then display the contents of the variable `x`, using `print()`. Note that `print()` does not display the letter `x`, but actually displays the value that was assigned to `x`.\n",
    "\n",
    "The variable `x` behaves pretty much like a box on which you write an `x` with a thick, black marker to be able to find it later. You can put something in the box, and then look into the box to see what you put in (though only one thing at a time will fit in the box). You can refer to the contents of the box by using the name written on the box. The term \"variable\" means the variable name, i.e., the letter `x` on the box. The term \"value\" means the value that is stored in the variable, i.e., the contents of the box.\n",
    "\n",
    "To the right of the assign operator you can place anything that results in a value. Therefore, it does not need to be a single number. It can be, for instance, a calculation, a string, or a call to a function that results in a value (such as the `int()` function)."
   ]
  },
  {
   "cell_type": "markdown",
   "metadata": {},
   "source": [
    "**Exercise**: In the previous chapter you wrote a calculation that determines the number of seconds in a week. Copy this calculation in the box below, assigning it to `x`. Run the code."
   ]
  },
  {
   "cell_type": "code",
   "execution_count": null,
   "metadata": {
    "collapsed": false
   },
   "outputs": [],
   "source": [
    "x = #insert your code here\n",
    "print( x )"
   ]
  },
  {
   "cell_type": "markdown",
   "metadata": {},
   "source": [
    "When you assign a value to a variable name in your program, the first time you do that for a specific variable name, it creates the variable. If later in the program you assign another value to the same variable name, it \"overwrites\" the previous value. In the box metaphor: you empty the box and put something else in it. A variable always holds the value that was last assigned to it."
   ]
  },
  {
   "cell_type": "code",
   "execution_count": null,
   "metadata": {
    "collapsed": false
   },
   "outputs": [],
   "source": [
    "x = 5\n",
    "print( x )\n",
    "x = 7 * 9 + 13   # overwrite the previous value that was stored in x\n",
    "print( x )\n",
    "x = \"I would like to purchase that orange inflatable beach ball and that small bucket and spade.\"\n",
    "print( x )\n",
    "x = int( 15 / 4 ) - 27\n",
    "print( x )"
   ]
  },
  {
   "cell_type": "markdown",
   "metadata": {},
   "source": [
    "Once a variable is created (and thus has a value), you can use it in your code where you otherwise would use values. You can, for instance, use it in calculations.  "
   ]
  },
  {
   "cell_type": "code",
   "execution_count": null,
   "metadata": {
    "collapsed": false
   },
   "outputs": [],
   "source": [
    "x = 2\n",
    "y = 3\n",
    "print( \"x =\", x )\n",
    "print( \"y =\", y )\n",
    "print( \"x * y =\", x * y )\n",
    "print( \"x + y =\", x + y )"
   ]
  },
  {
   "cell_type": "markdown",
   "metadata": {},
   "source": [
    "You may copy the contents from one variable to another, using the assignment operator. "
   ]
  },
  {
   "cell_type": "code",
   "execution_count": null,
   "metadata": {
    "collapsed": false
   },
   "outputs": [],
   "source": [
    "x = 2\n",
    "y = 3\n",
    "print( \"x =\", x, \"and y =\", y )\n",
    "\n",
    "# We now want to swap the values of x and y.\n",
    "# We do this using a third variable z as an intermediary storage.\n",
    "\n",
    "z = x\n",
    "x = y\n",
    "y = z\n",
    "print( \"x =\", x, \"and y =\", y )"
   ]
  },
  {
   "cell_type": "markdown",
   "metadata": {},
   "source": [
    "When you assign something to a variable, you might even use the variable itself on the right-hand side of the assignment operator, provided it was created earlier. The right-hand side of an assignment is always evaluated completely before the actual assignment takes place."
   ]
  },
  {
   "cell_type": "code",
   "execution_count": null,
   "metadata": {
    "collapsed": false
   },
   "outputs": [],
   "source": [
    "x = 2\n",
    "print( x )\n",
    "x = x + 3\n",
    "print( x )"
   ]
  },
  {
   "cell_type": "markdown",
   "metadata": {},
   "source": [
    "Note that a variable must be created before you can use it! Running the following code will result in an error, because `days_in_a_year` has not (yet) been created before we use it on the first line:"
   ]
  },
  {
   "cell_type": "code",
   "execution_count": null,
   "metadata": {
    "collapsed": false
   },
   "outputs": [],
   "source": [
    "print( days_in_a_year )\n",
    "days_in_a_year = 365"
   ]
  },
  {
   "cell_type": "markdown",
   "metadata": {},
   "source": [
    "---"
   ]
  },
  {
   "cell_type": "markdown",
   "metadata": {},
   "source": [
    "## Variable names"
   ]
  },
  {
   "cell_type": "markdown",
   "metadata": {},
   "source": [
    "So far, I have only used variables called `x`, `y`, and `z` (and one erroneous `days_in_a_year`). However, you are free to choose the names of your variables as you like them, provided that you follow a few simple rules, namely:\n",
    "\n",
    "- A variable name must consist of only letters, digits, and/or underscores (`_`)\n",
    "- A variable name must start with a letter or an underscore\n",
    "- A variable name should not be a reserved word\n",
    "\n",
    "\"Reserved words\" are:\n",
    "\n",
    "<div class=\"verbatim\"><pre>\n",
    "and       del       from      not       while    \n",
    "as        elif      global    or        with     \n",
    "assert    else      if        pass      yield    \n",
    "break     except    import    print              \n",
    "class     exec      in        raise              \n",
    "continue  finally   is        return             \n",
    "def       for       lambda    try</pre></div>\n",
    "\n",
    "You can use capitals and lower case letters in variable names, but you should realize that variable names are case sensitive, i.e., the variable `world` is not the same as the variable `World`."
   ]
  },
  {
   "cell_type": "markdown",
   "metadata": {},
   "source": [
    "### Conventions"
   ]
  },
  {
   "cell_type": "markdown",
   "metadata": {},
   "source": [
    "Programmers follow many conventions when choosing variable names. The major ones are the following:\n",
    "\n",
    "- Programmers <i>never</i> choose variable names that are also the names of functions (whether they are functions provided by Python or functions they wrote themselves). Doing so will cause the corresponding function to be no longer accessible by the code, and may then lead to rather eccentric errors.\n",
    "- Programmers try to choose variable names that are in some way meaningful to the code. For instance, a variable that stores the number of seconds in a week, might have the name `secs_per_week`, but not the name `i_hate_my_job`. It would be even worse to name a variable that contains the numbers of seconds in a week `secs_per_month`.\n",
    "- An exception to choosing meaningful variable names is choosing names for \"throw-away\" variables, i.e., variables that you only use in a very small section of the code and that are no longer needed afterwards, and that have no good meaning by themselves. Programmers usually choose a single-letter name for such variables. For instance, if a variable is needed to quickly count to 100, after which it is not needed anymore, programmers often choose the letter `i` or `j` for such a variable. \n",
    "- To avoid confusion with capitals and lower case letters, programmers tend to use only lower case letters in variable names.\n",
    "- If a variable name is chosen that consists of multiple words, programmers put one underscore between each of the words.\n",
    "- Programmers never choose variable names that start with an underscore. Such variable names are considered reserved for the authors of the Python interpreter.\n",
    "\n",
    "I expect you to stick to these conventions for your own code. In particular the convention of choosing meaningful variable names is important to follow, because meaningful variable names make code readable and maintainable. Look, for instance, at the following code:"
   ]
  },
  {
   "cell_type": "code",
   "execution_count": null,
   "metadata": {
    "collapsed": false
   },
   "outputs": [],
   "source": [
    "a = 3.14159265\n",
    "b = 7.5\n",
    "c = 8.25\n",
    "d = a * b * b * c / 3\n",
    "print( d )"
   ]
  },
  {
   "cell_type": "markdown",
   "metadata": {},
   "source": [
    "Do you understand what this code does? You probably see that `a` seems to be an approximation of pi, but what is `d` supposed to be? \n",
    "\n",
    "I can tell you that this code calculates the volume of a cone. You probably would not have guessed that, but that is what it does. Now I ask you to change the code to calculate the volume of a cone that is 4 meters high. What change will you make? If height is part of the calculation, it is probably `b` or `c`. But which is it? Maybe if you know a bit of maths and you look at the calculation of `d`, you realize that `b` is squared in this calculation, which seems to refer to the base of the cone, which is a circle. So it is probably `c`. But you cannot be sure.\n",
    "\n",
    "Now look at the following, equivalent code:"
   ]
  },
  {
   "cell_type": "code",
   "execution_count": null,
   "metadata": {
    "collapsed": false
   },
   "outputs": [],
   "source": [
    "pi = 3.14159265\n",
    "radius = 7.5\n",
    "height = 8.25\n",
    "volume_of_cone = pi * radius * radius * height / 3\n",
    "print( volume_of_cone )"
   ]
  },
  {
   "cell_type": "markdown",
   "metadata": {},
   "source": [
    "This is much more readable, right? If I asked you to look at this code and tell me what it does, and make the requested change, I don't expect you to hesitate in answering.\n",
    "\n",
    "Such code with meaningful variable names tends to become \"self-documenting\"; you do not need to add any comments to make the user understand what it does and how it does it. Still, in the code above a line of comment that says:<br>\n",
    "`# calculation of volume of a cone with radius 7.5 and height 8.25`<br>\n",
    "would not be misplaced."
   ]
  },
  {
   "cell_type": "markdown",
   "metadata": {},
   "source": [
    "### Practicing with variable names"
   ]
  },
  {
   "cell_type": "markdown",
   "metadata": {},
   "source": [
    "**Exercise**: In the code block below, the value 1 is assigned to a number of (potential) variable names. Some of these are legal, others are not. Please try to identify the illegal variable names, and explain why they are illegal. Comment out (i.e., put a hash mark in front of) the illegal assignments and run the code to check that it works. You should have five assignment statements remaining."
   ]
  },
  {
   "cell_type": "code",
   "execution_count": null,
   "metadata": {
    "collapsed": false
   },
   "outputs": [],
   "source": [
    "classification = 1   # 1\n",
    "Classification = 1   # 2\n",
    "cla$$ification = 1   # 3\n",
    "class1f1cat10n = 1   # 4\n",
    "1classification = 1  # 5\n",
    "_classification = 1  # 6\n",
    "class = 1            # 7\n",
    "Class = 1            # 8"
   ]
  },
  {
   "cell_type": "markdown",
   "metadata": {},
   "source": [
    "**Answer**: The third, fifth, and seventh assignments are illegal. The third because it does not consist of only letters, digits, and underscores. The fifth because it starts with a digit. The seventh because it is a reserved word (fortunately, syntax hightlighting makes such reserved words stand out). While the others are legal, according to convention the sixth should be avoided because it starts with an underscore, and the second and eighth too, as they contain capitals. The eighth is the worst in this respect, as it also looks like a reserved word."
   ]
  },
  {
   "cell_type": "markdown",
   "metadata": {},
   "source": [
    "### Constants"
   ]
  },
  {
   "cell_type": "markdown",
   "metadata": {},
   "source": [
    "Many programming languages offer the ability to create \"constants\", which are values assigned to a variable which can no longer be changed after the value has been first assigned. It is convention in most such languages that the name of a constant is written in all capitals. Constants can be useful to make code more readable. For instance, to calculate the total of a bill of 24.95 EUR with a 15% service charge, you can use: "
   ]
  },
  {
   "cell_type": "code",
   "execution_count": null,
   "metadata": {
    "collapsed": false
   },
   "outputs": [],
   "source": [
    "total = 24.95\n",
    "final_total = int( 100 * total * 1.15 ) / 100\n",
    "print( final_total )"
   ]
  },
  {
   "cell_type": "markdown",
   "metadata": {},
   "source": [
    "However, it is more readable to write:"
   ]
  },
  {
   "cell_type": "code",
   "execution_count": null,
   "metadata": {
    "collapsed": false
   },
   "outputs": [],
   "source": [
    "SERVICE_CHARGE = 1.15\n",
    "CENTS_IN_EURO = 100\n",
    "\n",
    "total = 24.95\n",
    "final_total = int( CENTS_IN_EURO * total * SERVICE_CHARGE ) / CENTS_IN_EURO\n",
    "print( final_total )"
   ]
  },
  {
   "cell_type": "markdown",
   "metadata": {},
   "source": [
    "Not only is it more readable, but it also makes the code easier to change should the service charge be calculated differently in the future. Especially if the service charge occurs in the code multiple times, if it is defined just once as a constant at the top of the code, it can be easily found and changed. When they are numerical, special values such as the service charge are often called \"magic numbers\", i.e., their particular value has a special meaning, which is unclear if you just see the number, so you are better off using a meaningful name instead of the number.\n",
    "\n",
    "While constants are very useful for coding purposes, Python does not support them (which is a pity), i.e., in the code above `SERVICE_CHARGE` is a regular variable and can be changed anywhere in the code. Still, it is convention that any variable that is written in all capitals is <i>supposed</i> to be a constant and should <i>not</i> be changed in the code, after it got its initial value at the top of the code.\n",
    "\n",
    "You are encouraged to use such \"all capitals variable names\" whenever magic numbers occur in your code."
   ]
  },
  {
   "cell_type": "markdown",
   "metadata": {},
   "source": [
    "---"
   ]
  },
  {
   "cell_type": "markdown",
   "metadata": {},
   "source": [
    "## Debugging variables"
   ]
  },
  {
   "cell_type": "markdown",
   "metadata": {},
   "source": [
    "Typically, when things go wrong in a program, the reason is that variables are holding values that you did not expect them to have when writing the code. A good way of \"debugging\" your code (i.e., finding out where problems are and fixing them) is printing the variable names and values in appropriate places. For instance, the following code gives an error when you run it."
   ]
  },
  {
   "cell_type": "code",
   "execution_count": null,
   "metadata": {
    "collapsed": false
   },
   "outputs": [],
   "source": [
    "nr1 = 5\n",
    "nr2 = 4\n",
    "nr3 = 5\n",
    "print( nr3 / (nr1 % nr2) )\n",
    "nr1 = nr1 + 1\n",
    "print( nr3 / (nr1 % nr2) )\n",
    "nr1 = nr1 + 1\n",
    "print( nr3 / (nr1 % nr2) )\n",
    "nr1 = nr1 + 1\n",
    "print( nr3 / (nr1 % nr2) )"
   ]
  },
  {
   "cell_type": "markdown",
   "metadata": {},
   "source": [
    "In this case you might see what the problem is, but suppose you do not, how are you going to find out what is wrong? You see that the error occurs on line 10 of the code (the last line), which means that everything is still running okay at line 9. If you insert a new line of code between line 9 and line 10 that prints the values of `nr1`, `nr2`, `nr3` and perhaps also `nr1%nr2`, you probably quickly determine what the problem is. Adding print statements does not actually change anything about the variables, so print statements are safe to add. A nice fix for the problem (i.e., something else than just removing the offending line) will be introduced in a later chapter.\n",
    "\n",
    "**Exercise**: Add the line suggested above, printing the variables, to the erroneous code."
   ]
  },
  {
   "cell_type": "markdown",
   "metadata": {},
   "source": [
    "---"
   ]
  },
  {
   "cell_type": "markdown",
   "metadata": {
    "collapsed": false
   },
   "source": [
    "## Soft typing"
   ]
  },
  {
   "cell_type": "markdown",
   "metadata": {},
   "source": [
    "All variables have a data type. In many programming languages, the type of a variable is given when the variable is first created. For instance, in C++, when you create a variable you declare the type in front of it, for instance:\n",
    "\n",
    "`int secs_per_week = 7 * 24 * 60 * 60;`\n",
    "\n",
    "This is called \"hard typing\", and it has the advantage that if you create a variable that you intend to be of a certain type, but then assign it a value of a different type, the program can announce that you made a mistake. This avoids some annoying errors that might occur. (Note: I am personally of the opinion that Python would be an even better language to teach people programming if it had hard typing instead of soft typing, and I am not alone in that opinion, but Guido van Rossum, the original creator of Python, disagrees.)\n",
    "\n",
    "In Python, you do not \"declare\" the type of a variable, but a variable still has a type, namely the type of the value that was assigned to it. This entails that if you assign a new value to a variable, its type might change. This is called \"soft typing\".\n",
    "\n",
    "The types that you have seen until now are integer, float, and string. You can use the function `type()` to see what the type of a variable is."
   ]
  },
  {
   "cell_type": "code",
   "execution_count": null,
   "metadata": {
    "collapsed": false
   },
   "outputs": [],
   "source": [
    "a = 3\n",
    "print( type( a ) )\n",
    "a = 3.0\n",
    "print( type( a ) )\n",
    "a = \"3.0\"\n",
    "print( type( a ) )"
   ]
  },
  {
   "cell_type": "markdown",
   "metadata": {},
   "source": [
    "Since variables have a type, the effect of operators might change depending on the types of the variables involved. For instance, in the following code, the addition operator (`+`) is used twice, but its effect changes due to the types of the variables involved."
   ]
  },
  {
   "cell_type": "code",
   "execution_count": null,
   "metadata": {
    "collapsed": false
   },
   "outputs": [],
   "source": [
    "a = 1\n",
    "b = 4\n",
    "c = \"1\"\n",
    "d = \"4\"\n",
    "print( a + b )\n",
    "print( c + d )"
   ]
  },
  {
   "cell_type": "markdown",
   "metadata": {},
   "source": [
    "Since `a` and `b` are both numbers, for `a + b` the addition operator is a numerical addition. Since `c` and `d` are both strings, the addition operator for `c + d` is the string concatenation.\n",
    "\n",
    "**Exercise**: In the code above, what would happen if you try to print `a + c`? If you do not know, try it.\n",
    "\n",
    "**Exercise**: What does the code given below display? First think about it, then run the code, and make sure that you understand what happens."
   ]
  },
  {
   "cell_type": "code",
   "execution_count": null,
   "metadata": {
    "collapsed": true
   },
   "outputs": [],
   "source": [
    "name = \"John Cleese\"\n",
    "print( \"name\" )"
   ]
  },
  {
   "cell_type": "markdown",
   "metadata": {},
   "source": [
    "**Exercise**: Change the code above so that it displays the name of a famous member of Monty Python."
   ]
  },
  {
   "cell_type": "markdown",
   "metadata": {},
   "source": [
    "---"
   ]
  },
  {
   "cell_type": "markdown",
   "metadata": {},
   "source": [
    "## Shorthand operators"
   ]
  },
  {
   "cell_type": "markdown",
   "metadata": {},
   "source": [
    "Using the operators you have learned about above, you can change the variables in your code as many times as you want. You can assign new values to existing variables. Very often, you want to make changes to existing variables. For instance, it is common in code that you want to add 1 to a number (you will find out why that is in a later chapter). Since this occurs fairly often, Python offers some shorthand notation to deal with changes to variables.\n",
    "\n",
    "The following code:"
   ]
  },
  {
   "cell_type": "code",
   "execution_count": null,
   "metadata": {
    "collapsed": false
   },
   "outputs": [],
   "source": [
    "number_of_bananas = 100\n",
    "number_of_bananas = number_of_bananas + 1\n",
    "print( number_of_bananas )"
   ]
  },
  {
   "cell_type": "markdown",
   "metadata": {},
   "source": [
    "is equivalent to:"
   ]
  },
  {
   "cell_type": "code",
   "execution_count": null,
   "metadata": {
    "collapsed": false
   },
   "outputs": [],
   "source": [
    "number_of_bananas = 100\n",
    "number_of_bananas += 1\n",
    "print( number_of_bananas )"
   ]
  },
  {
   "cell_type": "markdown",
   "metadata": {},
   "source": [
    "The difference is in the second line. If you want to add something to a variable, you can write `+=` as the assignment operator and to the right-hand side of the `+=` the thing that you want to add to the variable. This saves you the trouble of repeating the variable name at the right-hand side, and tends to make your code more readable (because programmers expect you to code \"adding something to an existing variable\" with the `+=` operator). \n",
    "\n",
    "Similar to the `+=` operator, you can use `-=` to subtract something from a variable, `*=` to multiply a variable by something, `/=` to divide a variable by something, `**=` to raise a variable to a power, and `%=` to turn a variable into itself modulo the right-hand side. Most of these are uncommon, except for the `+=`, which is used a lot, and the `-=`, which is used occasionally.\n",
    "\n",
    "**Exercise**: What will the code given below display? Run it to see if you are correct."
   ]
  },
  {
   "cell_type": "code",
   "execution_count": null,
   "metadata": {
    "collapsed": false
   },
   "outputs": [],
   "source": [
    "number_of_bananas = 100\n",
    "number_of_bananas += 12\n",
    "number_of_bananas -= 13\n",
    "number_of_bananas *= 19\n",
    "number_of_bananas /= number_of_bananas\n",
    "print( number_of_bananas )"
   ]
  },
  {
   "cell_type": "markdown",
   "metadata": {},
   "source": [
    "---"
   ]
  },
  {
   "cell_type": "markdown",
   "metadata": {},
   "source": [
    "## Comments"
   ]
  },
  {
   "cell_type": "markdown",
   "metadata": {},
   "source": [
    "Since the code that you have to write has now increased to more than five lines or so, it has become sufficiently complex to warrant discussing the use of comments. Comments are texts in code that Python ignores, but that explain parts of the code. Comments are not only useful to other people which might need to use or change your code, but also to yourself, as you may need to change your own code some time after you wrote it and you might not remember exactly what you did.\n",
    "\n",
    "There are two main ways to include comments in Python code. The first is to use a hash mark (`#`), which turns everything to the right of the hash mark on the line into commentary (of course, this is only the case if the hash mark is not part of a string). The second is to use triple double-quotes or triple single-quotes to indicate the start and end of some commentary, which may be spread over multiple lines.\n",
    "\n",
    "Learn more about comments by studying the code below."
   ]
  },
  {
   "cell_type": "code",
   "execution_count": null,
   "metadata": {
    "collapsed": false
   },
   "outputs": [],
   "source": [
    "# comment: insert your code here.\n",
    "# BTW: Have you noticed that everything behind the hashtag \n",
    "print( \"Something...\" ) # on a line is ignored by your python interpreter?\n",
    "print( \"and something else..\" ) # this is really helpful to comment on your code!\n",
    "\"\"\"Another way\n",
    "of commenting on your code is via \n",
    "triple quotes -- these can be distributed over multiple \"\"\" # lines\n",
    "'''which can also be done\n",
    "with single quotes''' # but be careful with there being quotes IN your comments\n",
    "# when you use this multi-line method\n",
    "print( \"Done.\" )"
   ]
  },
  {
   "cell_type": "markdown",
   "metadata": {},
   "source": [
    "----------"
   ]
  },
  {
   "cell_type": "markdown",
   "metadata": {},
   "source": [
    "## What you learned"
   ]
  },
  {
   "cell_type": "markdown",
   "metadata": {},
   "source": [
    "In this chapter, you learned about:\n",
    "-  What variables are\n",
    "-  Assigning a value to a variable\n",
    "-  Legal names for variables\n",
    "-  Good names for variables\n",
    "-  Soft typing\n",
    "-  Debugging code in which variables might have unexpected values\n",
    "-  Shorthand statements for changing variable values\n",
    "-  Code commentary"
   ]
  },
  {
   "cell_type": "markdown",
   "metadata": {},
   "source": [
    "-------"
   ]
  },
  {
   "cell_type": "markdown",
   "metadata": {},
   "source": [
    "## Exercises"
   ]
  },
  {
   "cell_type": "markdown",
   "metadata": {},
   "source": [
    "### Exercise 5.1"
   ]
  },
  {
   "cell_type": "markdown",
   "metadata": {},
   "source": [
    "Define three variables `var1`, `var2` and `var3`. Calculate the average of these variables and assign it to `average`. Print the average. Add three comments."
   ]
  },
  {
   "cell_type": "code",
   "execution_count": null,
   "metadata": {
    "collapsed": false
   },
   "outputs": [],
   "source": [
    "# average\n"
   ]
  },
  {
   "cell_type": "markdown",
   "metadata": {},
   "source": [
    "### Exercise 5.2"
   ]
  },
  {
   "cell_type": "markdown",
   "metadata": {},
   "source": [
    "Write code that can compute the surface of circle, using the variables `radius` and `pi = 3.14159`. The formula, in case you do not know, is radius times radius times `pi`. Print the outcome of your program as follows: 'The surface area of a circle with radius ... is ...'."
   ]
  },
  {
   "cell_type": "code",
   "execution_count": null,
   "metadata": {
    "collapsed": false
   },
   "outputs": [],
   "source": [
    "# circle code\n"
   ]
  },
  {
   "cell_type": "markdown",
   "metadata": {
    "collapsed": false
   },
   "source": [
    "### Exercise 5.3"
   ]
  },
  {
   "cell_type": "markdown",
   "metadata": {},
   "source": [
    "Write code that classifies a given amount of money (which you store in a variable `amount`), specified in cents, as greater monetary units. Your code lists the monetary equivalent in dollars (100 ct), quarters (25 ct), dimes (10 ct), nickels (5 ct), and pennies (1 ct). Your program should report the maximum number of dollars that fit in the amount, then the maximum number of quarters that fit in the remainder after you subtract the dollars, then the maximum number of dimes that fit in the remainder after you subtract the dollars and quarters, and so on for nickels and pennies. The result is that you express the amount as the minimum number of coins needed.  "
   ]
  },
  {
   "cell_type": "code",
   "execution_count": null,
   "metadata": {
    "collapsed": false
   },
   "outputs": [],
   "source": [
    "# cashier code\n",
    "amount = 1156\n"
   ]
  },
  {
   "cell_type": "markdown",
   "metadata": {},
   "source": [
    "### Exercise 5.4"
   ]
  },
  {
   "cell_type": "markdown",
   "metadata": {},
   "source": [
    "Can you think of a way to swap the values of two variables that does not need a third variable as a temporary storage? In the code block below, try to implement the swapping of the values of `a` and `b` without using a third variable. To help you out, the first step to do this is already given. You just need to add two more lines of code."
   ]
  },
  {
   "cell_type": "code",
   "execution_count": null,
   "metadata": {
    "collapsed": true
   },
   "outputs": [],
   "source": [
    "a = 17\n",
    "b = 23\n",
    "print( \"a =\", a, \"and b =\", b )\n",
    "a += b\n",
    "# add two more lines of code here to ensure the swapping of a and b\n",
    "print( \"a =\", a, \"and b =\", b )"
   ]
  }
 ],
 "metadata": {
  "kernelspec": {
   "display_name": "Python 3",
   "language": "python",
   "name": "python3"
  },
  "language_info": {
   "codemirror_mode": {
    "name": "ipython",
    "version": 3
   },
   "file_extension": ".py",
   "mimetype": "text/x-python",
   "name": "python",
   "nbconvert_exporter": "python",
   "pygments_lexer": "ipython3",
   "version": "3.6.0"
  }
 },
 "nbformat": 4,
 "nbformat_minor": 0
}
