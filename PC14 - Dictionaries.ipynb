{
 "cells": [
  {
   "cell_type": "markdown",
   "metadata": {},
   "source": [
    "# 14 - Dictionaries"
   ]
  },
  {
   "cell_type": "markdown",
   "metadata": {},
   "source": [
    "---"
   ]
  },
  {
   "cell_type": "markdown",
   "metadata": {},
   "source": [
    "Strings, tuples and lists are ordered data structures, which entails that they can be indexed. Not all data is naturally ordered, which is why Python offers dictionaries as a way to structure unordered data."
   ]
  },
  {
   "cell_type": "markdown",
   "metadata": {},
   "source": [
    "---"
   ]
  },
  {
   "cell_type": "markdown",
   "metadata": {},
   "source": [
    "## Basics of dictionaries"
   ]
  },
  {
   "cell_type": "markdown",
   "metadata": {},
   "source": [
    "Dictionaries are *unordered* collections of elements. To identify an element, you have to know the element's \"key\".\n",
    "\n",
    "Basically, dictionaries store \"key-value pairs\". Any immutable data type can function as a key. A very common type to use as key is the string.\n",
    "\n",
    "You create dictionaries using curly brackets (`{}`), similar to how you create lists using square brackets. An empty dictionary you create by assigning `{}` to a variable. You can create a dictionary with contents by describing every element of the dictionary between the curly brackets using the syntax `<key>:<value>`, and commas between the elements.\n",
    "\n",
    "Here a dictionary `fruitbasket` is created, that contains three key-value pairs, namely the key \"apple\" with value 3, the key \"banana\" with value 5, and the key \"cherry\" with value 50."
   ]
  },
  {
   "cell_type": "code",
   "execution_count": null,
   "metadata": {
    "collapsed": true
   },
   "outputs": [],
   "source": [
    "fruitbasket = { \"apple\":3, \"banana\":5, \"cherry\":50 }"
   ]
  },
  {
   "cell_type": "markdown",
   "metadata": {},
   "source": [
    "To access the value belonging to a specific key, you use the same syntax as you would use for a list, except that you write the key in the place where you would write the index for a list."
   ]
  },
  {
   "cell_type": "code",
   "execution_count": null,
   "metadata": {
    "collapsed": false
   },
   "outputs": [],
   "source": [
    "fruitbasket = { \"apple\":3, \"banana\":5, \"cherry\":50 }\n",
    "print( fruitbasket[\"banana\"] )"
   ]
  },
  {
   "cell_type": "markdown",
   "metadata": {},
   "source": [
    "You can use a `for` loop to traverse a dictionary. The variable in the `for` loop gets access to all the keys."
   ]
  },
  {
   "cell_type": "code",
   "execution_count": null,
   "metadata": {
    "collapsed": false
   },
   "outputs": [],
   "source": [
    "fruitbasket = { \"apple\":3, \"banana\":5, \"cherry\":50 }\n",
    "for key in fruitbasket:\n",
    "    print( \"{}:{}\".format( key, fruitbasket[key] ))"
   ]
  },
  {
   "cell_type": "markdown",
   "metadata": {},
   "source": [
    "Trying to access a dictionary element using a key that is not available in the dictionary will lead to a runtime error. However, adding a new element to a dictionary you can do by simply assigning a value to the dictionary item identified by the new key. For instance, adding a \"mango\" to the fruitbasket you can do as follows:"
   ]
  },
  {
   "cell_type": "code",
   "execution_count": null,
   "metadata": {
    "collapsed": false
   },
   "outputs": [],
   "source": [
    "fruitbasket = { \"apple\":3, \"banana\":5, \"cherry\":50 }\n",
    "print( fruitbasket )\n",
    "fruitbasket[\"mango\"] = 1\n",
    "print( fruitbasket )"
   ]
  },
  {
   "cell_type": "markdown",
   "metadata": {},
   "source": [
    "Overwriting a dictionary item works in exactly the same way as creating a new dictionary item: you just assign a value to it.\n",
    "\n",
    "Deleting an item from a dictionary you do using the `del` keyword, just as you can use with lists. "
   ]
  },
  {
   "cell_type": "code",
   "execution_count": null,
   "metadata": {
    "collapsed": false
   },
   "outputs": [],
   "source": [
    "fruitbasket = { \"apple\":3, \"banana\":5, \"cherry\":50 }\n",
    "print( fruitbasket )\n",
    "del fruitbasket[\"banana\"]\n",
    "print( fruitbasket )"
   ]
  },
  {
   "cell_type": "markdown",
   "metadata": {},
   "source": [
    "You can determine the number of key-value pairs in a dictionary by using the `len()` function.\n",
    "\n",
    "By the way, do you understand how the ordering of a dictionary works when looking at the display of a dictionary? Think about it.\n",
    "\n",
    "The answer is: there is no ordering. That was what I said at the start: dictionaries are unordered. In principle I cannot even tell you what ordering you see on your screen when you run the code above, because it might differ between computers, operating systems, and versions of Python. There is a certain structure to the ordering of the items, but nothing that you can (or should desire to) predict. By adding enough items, the ordering might even suddenly change completely.\n",
    "\n",
    "Since dictionaries are unordered, many of the concepts that are applicable to lists, do not work on dictionaries. For instance, you cannot refer to \"slices\" of a dictionary, and neither can you \"sort\" or \"reverse\" a dictionary. So dictionaries are quite limited, but they do have their uses."
   ]
  },
  {
   "cell_type": "markdown",
   "metadata": {},
   "source": [
    "---"
   ]
  },
  {
   "cell_type": "markdown",
   "metadata": {},
   "source": [
    "## Dictionary methods"
   ]
  },
  {
   "cell_type": "markdown",
   "metadata": {},
   "source": [
    "This section describes the dictionary methods that are most often used."
   ]
  },
  {
   "cell_type": "markdown",
   "metadata": {},
   "source": [
    "### `copy()`"
   ]
  },
  {
   "cell_type": "markdown",
   "metadata": {},
   "source": [
    "Just like lists, if you assign a variable that contains a dictionary to another variable, you are not creating a copy of the dictionary; you are actually creating an alias (if you do not remember what an alias is, see the previous chapter). You cannot use the trick which is used for lists to create a copy, as it uses a slice-syntax, and dictionaries do not support slices. Therefore, there is a method `copy()` that returns a copy of a dictionary."
   ]
  },
  {
   "cell_type": "code",
   "execution_count": null,
   "metadata": {
    "collapsed": false
   },
   "outputs": [],
   "source": [
    "fruitbasket = { \"apple\":3, \"banana\":5, \"cherry\":50 }\n",
    "fruitbasketalias = fruitbasket\n",
    "fruitbasketcopy = fruitbasket.copy()\n",
    "\n",
    "print( id( fruitbasket ) )\n",
    "print( id( fruitbasketalias ) )\n",
    "print( id( fruitbasketcopy ) )"
   ]
  },
  {
   "cell_type": "markdown",
   "metadata": {},
   "source": [
    "Note that this method makes a shallow copy of the dictionary (see the previous chapter if you do not remember the difference between shallow and deep copies). If you want to make a deep copy, use the `deepcopy()` function from the `copy` module."
   ]
  },
  {
   "cell_type": "markdown",
   "metadata": {},
   "source": [
    "### `keys()`, `values()`, and `items()`"
   ]
  },
  {
   "cell_type": "markdown",
   "metadata": {},
   "source": [
    "The method `keys()` provides an iterator that lists all the keys of a dictionary. The method `values()` provides an iterator that lists all the values of a dictionary. The method `items()` provides an iterator that lists all the key-value pairs of a dictionary as tuples.\n",
    "\n",
    "I specifically say that these methods returns an iterator and not a list. If you want to turn them into lists, you have to use list casting (see the previous chapter)."
   ]
  },
  {
   "cell_type": "code",
   "execution_count": 1,
   "metadata": {
    "collapsed": false
   },
   "outputs": [
    {
     "name": "stdout",
     "output_type": "stream",
     "text": [
      "['apple', 'banana', 'cherry']\n",
      "[3, 5, 50]\n",
      "[('apple', 3), ('banana', 5), ('cherry', 50)]\n"
     ]
    }
   ],
   "source": [
    "fruitbasket = { \"apple\":3, \"banana\":5, \"cherry\":50 }\n",
    "print( list( fruitbasket.keys() ) )\n",
    "print( list( fruitbasket.values() ) )\n",
    "print( list( fruitbasket.items() ) )"
   ]
  },
  {
   "cell_type": "markdown",
   "metadata": {},
   "source": [
    "At this point you might be wondering when you can use an iterator. You mainly use iterators for `for` loops (though you can also use them as arguments for the functions `max()`, `min()` and `sum()`)."
   ]
  },
  {
   "cell_type": "code",
   "execution_count": 2,
   "metadata": {
    "collapsed": false
   },
   "outputs": [
    {
     "name": "stdout",
     "output_type": "stream",
     "text": [
      "apple:3\n",
      "banana:5\n",
      "cherry:50\n",
      "durian:0\n",
      "mango:2\n",
      "60\n"
     ]
    }
   ],
   "source": [
    "fruitbasket = { \"apple\":3, \"banana\":5, \"cherry\":50, \"durian\":0, \"mango\":2 }\n",
    "for key in fruitbasket.keys():\n",
    "    print( \"{}:{}\".format( key, fruitbasket[key] ) )\n",
    "print( sum( fruitbasket.values() ) )"
   ]
  },
  {
   "cell_type": "markdown",
   "metadata": {},
   "source": [
    "Since this code provides an unpredictable order for the keys, you might want to sort them before looping over them. Since `keys()` does not provide a list, it cannot be sorted directly, but you can turn the result into a list using list casting. After doing that, you can sort."
   ]
  },
  {
   "cell_type": "code",
   "execution_count": null,
   "metadata": {
    "collapsed": false
   },
   "outputs": [],
   "source": [
    "fruitbasket = { \"apple\":3, \"banana\":5, \"cherry\":50, \"durian\":0, \"mango\":2 }\n",
    "keylist = list( fruitbasket.keys() )\n",
    "keylist.sort()\n",
    "for key in keylist:\n",
    "    print( \"{}:{}\".format( key, fruitbasket[key] ) )"
   ]
  },
  {
   "cell_type": "markdown",
   "metadata": {},
   "source": [
    "You cannot apply the `sort()` method to the list casting, i.e., `keylist = list( fruitbasket.key() ).sort()` does not work. You must first create the list, then sort it. Neither can you write `for key in keylist.sort()`, as the `sort()` method has no return value.\n",
    "\n",
    "If you wonder why Python seems to prefer iterators instead of lists: the answer is that iterators are more general and use much less memory. They are \"lazy\" methods, as they only provide an item when it is requested."
   ]
  },
  {
   "cell_type": "markdown",
   "metadata": {},
   "source": [
    "### `get()`"
   ]
  },
  {
   "cell_type": "markdown",
   "metadata": {},
   "source": [
    "The `get()` method can be used to get a value from a dictionary even when you do not know if the key for which you seek the value exists. You call the `get()` method with the key you are looking for, and it will return the corresponding value when the key exists in the dictionary, or the special value `None` when the key does not exist in the dictionary. If you want to return a specific value instead of `None` if the key does not exist, you can add that value as a second argument to the method."
   ]
  },
  {
   "cell_type": "code",
   "execution_count": null,
   "metadata": {
    "collapsed": false
   },
   "outputs": [],
   "source": [
    "fruitbasket = { \"apple\":3, \"banana\":5, \"cherry\":50, \"durian\":0, \"mango\":2 }\n",
    "\n",
    "apple = fruitbasket.get( \"apple\" )\n",
    "if apple:\n",
    "    print( \"apple is in the basket\" )\n",
    "else:\n",
    "    print( \"no apples in the basket\")\n",
    "\n",
    "orange = fruitbasket.get( \"orange\" )\n",
    "if orange:\n",
    "    print( \"orange is in the basket\" )\n",
    "else:\n",
    "    print( \"no oranges in the basket\")\n",
    "\n",
    "banana = fruitbasket.get( \"banana\", 0 )\n",
    "print( \"number of bananas in the basket:\", banana )\n",
    "\n",
    "strawberry = fruitbasket.get( \"strawberry\", 0 )\n",
    "print( \"number of strawberries in the basket:\", strawberry )"
   ]
  },
  {
   "cell_type": "markdown",
   "metadata": {},
   "source": [
    "Study the example above closely, as what it demonstrates about the `get()` method is very useful. Suppose that you store a collection of items with corresponding quantities, for instance, the contents of a fruit basket with the keys being the names of the fruits and the values being the quantities. When you query the fruitbasket dictionary using the `get()` method with a second parameter zero, you can look for any fruit in the basket without the need to check first if the fruit exists in the basket, because if you ask for a fruit that is not there, the `get()` method returns zero, which is exactly what you want to hear."
   ]
  },
  {
   "cell_type": "markdown",
   "metadata": {},
   "source": [
    "### Practice"
   ]
  },
  {
   "cell_type": "markdown",
   "metadata": {},
   "source": [
    "**Exercise**: The code block below contains a list of words. Build a dictionary that contains all these words as keys, and how often they occur as values. Then print the words with their quantities."
   ]
  },
  {
   "cell_type": "code",
   "execution_count": null,
   "metadata": {
    "collapsed": true
   },
   "outputs": [],
   "source": [
    "# Word counts.\n",
    "wordlist = [\"apple\",\"durian\",\"banana\",\"durian\",\"apple\",\"cherry\",\"cherry\",\"mango\",\"apple\",\n",
    "            \"apple\",\"cherry\",\"durian\",\"banana\",\"apple\",\"apple\",\"apple\",\"apple\",\"banana\",\"apple\"]"
   ]
  },
  {
   "cell_type": "markdown",
   "metadata": {},
   "source": [
    "**Exercise**: The code block below contains a string that is a list of words, separated by commas. Build a dictionary that contains all these words as keys, and how often they occur as values. Then print the words with their quantities."
   ]
  },
  {
   "cell_type": "code",
   "execution_count": null,
   "metadata": {
    "collapsed": true
   },
   "outputs": [],
   "source": [
    "# More word counts.\n",
    "csv = \"apple,durian,banana,durian,apple,cherry,cherry,mango,apple,\" + \\\n",
    "      \"apple,cherry,durian,banana,apple,apple,apple,apple,banana,apple\""
   ]
  },
  {
   "cell_type": "markdown",
   "metadata": {},
   "source": [
    "**Exercise**: The code block below contains a very small dictionary that contains the translations of English words to Dutch. Write a program that uses this dictionary to create a word-for-word translation of the given sentence. A word for which you cannot find a translation, you can leave \"as is\". The dictionary is supposed to be used case-insensitively, but your translation may consist of all lower case words. It is nice if you leave punctuation in the translation, but if you take it out, that is acceptable (as leaving punctuation in is quite a bit of work, and does not really have anything to do with dictionaries -- besides, leaving punctuation in is much easier to do once you have learned about regular expressions)."
   ]
  },
  {
   "cell_type": "code",
   "execution_count": null,
   "metadata": {
    "collapsed": true
   },
   "outputs": [],
   "source": [
    "# Translation\n",
    "english_dutch = { \"last\":\"laatst\", \"week\":\"week\", \"the\":\"de\",\n",
    "    \"royal\":\"koninklijk\", \"festival\":\"feest\", \"hall\":\"hal\",\n",
    "    \"saw\":\"zaag\", \"first\":\"eerst\", \"performance\":\"optreden\",\n",
    "    \"of\":\"van\", \"a\":\"een\", \"new\":\"nieuw\", \"symphony\":\"symphonie\",\n",
    "    \"by\":\"bij\", \"one\":\"een\", \"world\":\"wereld\", \"leading\":\"leidend\",\n",
    "    \"modern\":\"modern\", \"composer\":\"componist\", \"composers\":\"componisten\",\n",
    "    \"two\":\"twee\", \"shed\":\"schuur\", \"sheds\":\"schuren\" }\n",
    "\n",
    "sentence = \"Last week The Royal Festival Hall saw the first performance of \\\n",
    "a new symphony by one of the world's leading modern composers, Arthur \\\"Two-Sheds\\\" Jackson.\""
   ]
  },
  {
   "cell_type": "markdown",
   "metadata": {},
   "source": [
    "---"
   ]
  },
  {
   "cell_type": "markdown",
   "metadata": {},
   "source": [
    "## Keys"
   ]
  },
  {
   "cell_type": "markdown",
   "metadata": {},
   "source": [
    "As I said, any immutable data type can be a dictionary key. This means that strings, integers, and floats can all be used as keys. You may remember that tuples are also immutable, which entails that you can use tuples as keys. This can occasionally be useful. \n",
    "\n",
    "A very straightforward example of tuples being useful as keys is a dictionary in which you want to store information associated with points in two-dimensional space (a discussion of which was given in the chapter on tuples). There is no good way in which you can store the identification of a point in a single number or string. It is not impossible (for instance, you could store the number-pair as their string-representations, concatenated with a comma in between) but it becomes ambiguous and convoluted (for instance, the string-keys \"`2,3`\", \"`2, 3`\", \"`+2,+3`\", and \"`02,03`\" would all be representing the same tuple)."
   ]
  },
  {
   "cell_type": "markdown",
   "metadata": {},
   "source": [
    "---"
   ]
  },
  {
   "cell_type": "markdown",
   "metadata": {},
   "source": [
    "## Storing complicated values"
   ]
  },
  {
   "cell_type": "markdown",
   "metadata": {},
   "source": [
    "Until now I only considered the case in which a dictionary stores a single value of a simple data type. However, it is possible to store much more complex values in dictionaries. Values can be arbitrary Python objects. For example, you can store a list with each key. Below a dictionary is used to store the students who are following a course. The course is identified by its course number, while the students are identified by their student numbers."
   ]
  },
  {
   "cell_type": "code",
   "execution_count": null,
   "metadata": {
    "collapsed": false
   },
   "outputs": [],
   "source": [
    "courses = {\n",
    "    '880254':['u123456', 'u383213', 'u234178'], \n",
    "    '822177':['u123456', 'u223416', 'u234178'], \n",
    "    '822164':['u123456', 'u223416', 'u383213', 'u234178']}\n",
    "\n",
    "for c in courses:\n",
    "    print( c )\n",
    "    for s in courses[c]:\n",
    "        print( s, end=\" \" )\n",
    "    print()"
   ]
  },
  {
   "cell_type": "markdown",
   "metadata": {},
   "source": [
    "Suppose that we do not only want to store the student numbers for a course number, but also the name of the course, the ECTS value of the course, and for each student number also the grade. You can do that (for example) by storing the value for a course number as a dictionary, with three keys, namely \"name\", \"ects\", and \"students\". The value for \"name\" is the course name as a string, the value for \"ects\" is the ECTS as an integer, and the value for \"students\" is another dictionary, which contains student numbers as keys and grades as values."
   ]
  },
  {
   "cell_type": "code",
   "execution_count": null,
   "metadata": {
    "collapsed": false
   },
   "outputs": [],
   "source": [
    "courses = {\n",
    "    '880254': \n",
    "    { \"name\":\"Research Skills Data Processing\", \"ects\":3, \n",
    "      \"students\":{'u123456':8, 'u383213':7.5, 'u234178':6} }, \n",
    "    '822177': \n",
    "    { \"name\":\"Understanding Intelligence\", \"ects\":6,\n",
    "     \"students\":{'u123456':5, 'u223416':7, 'u234178':9} }, \n",
    "    '822164': \n",
    "    { \"name\":\"Computer Games\", \"ects\":6,\n",
    "     \"students\":{'u123456':7.5, 'u223416':9, 'u383213':6, 'u234178':4} } }\n",
    "\n",
    "for c in courses:\n",
    "    print( \"{}: {} ({})\".format( c, courses[c][\"name\"], courses[c][\"ects\"] ) )\n",
    "    for s in courses[c][\"students\"]:\n",
    "        print( \"{}: {}\".format( s, courses[c][\"students\"][s] ) )\n",
    "    print()"
   ]
  },
  {
   "cell_type": "markdown",
   "metadata": {},
   "source": [
    "Data structures can become a lot more complex than this if you want. However, if you are really considering designing Python programs for data structures like this, you should at least investigate object orientation first (later in this course) and probably do a separate course on databases."
   ]
  },
  {
   "cell_type": "markdown",
   "metadata": {},
   "source": [
    "---"
   ]
  },
  {
   "cell_type": "markdown",
   "metadata": {},
   "source": [
    "## Lookup speed"
   ]
  },
  {
   "cell_type": "markdown",
   "metadata": {},
   "source": [
    "Lists and dictionaries are the two most-used data structures in Python. While often it is clear when you should use which data structure, it is helpful if you know a little bit about how Python processes these data structures in case you have a choice.\n",
    "\n",
    "Suppose that we read a large bunch of numbers from a file. The numbers are all different and can be anything. We later need to compare the numbers on another list to the numbers that we read from the file.\n",
    "\n",
    "Should we use a list or a dictionary to store the numbers that we read from the file? Since they are just numbers, without extra data, a list seems to be the best option. There is, however, a problem if you use a list here. Check out the following code, in which a list of 10000 numbers is created, and after that some code checks for 10000 different numbers whether they are on the list (which none of them are)."
   ]
  },
  {
   "cell_type": "code",
   "execution_count": 3,
   "metadata": {
    "collapsed": false
   },
   "outputs": [
    {
     "name": "stdout",
     "output_type": "stream",
     "text": [
      "1.753425 seconds needed to find 0 numbers\n"
     ]
    }
   ],
   "source": [
    "from datetime import datetime\n",
    "\n",
    "numlist = []\n",
    "\n",
    "for i in range( 10000 ):\n",
    "    numlist.append( i )\n",
    "    \n",
    "start = datetime.now()\n",
    "\n",
    "count = 0\n",
    "for i in range( 10000, 20000 ):\n",
    "    if i in numlist:\n",
    "        count += 1\n",
    "\n",
    "end = datetime.now()\n",
    "\n",
    "print( \"{}.{} seconds needed to find {} numbers\".format( \n",
    "        (end - start).seconds, (end - start).microseconds,count ) )"
   ]
  },
  {
   "cell_type": "markdown",
   "metadata": {},
   "source": [
    "Here is the code for doing the same thing with a dictionary, where we simply store the value 1 with each number."
   ]
  },
  {
   "cell_type": "code",
   "execution_count": 4,
   "metadata": {
    "collapsed": false
   },
   "outputs": [
    {
     "name": "stdout",
     "output_type": "stream",
     "text": [
      "0.2109 seconds needed to find 0 numbers\n"
     ]
    }
   ],
   "source": [
    "from datetime import datetime\n",
    "\n",
    "numdict = {}\n",
    "\n",
    "for i in range( 10000 ):\n",
    "    numdict[i] = 1\n",
    "    \n",
    "start = datetime.now()\n",
    "\n",
    "count = 0\n",
    "for i in range( 10000, 20000 ):\n",
    "    if i in numdict:\n",
    "        count += 1\n",
    "\n",
    "end = datetime.now()\n",
    "\n",
    "print( \"{}.{} seconds needed to find {} numbers\".format( \n",
    "        (end - start).seconds, (end - start).microseconds,count ) )"
   ]
  },
  {
   "cell_type": "markdown",
   "metadata": {},
   "source": [
    "You will notice that for a dictionary, the code gives an answer almost immediately, while for a list it takes quite some time for the code to provide an answer. \n",
    "\n",
    "The reason is that I use the `in` operator to check whether a number is in the list, or in the dictionary. For a list this means that Python searches through the list, sequentially, until it reaches the number or reaches the end of the list. In this case, it means that Python checks 10000 times 10000 numbers (as it cannot find any of them), which is 100 million numbers.\n",
    "\n",
    "For a dictionary, the process of finding a key is much faster. Python can quickly decide whether or not a key is in a dictionary. Usually, the checking of just a handful of numbers suffices. Therefore, the code is much, much faster for a dictionary.\n",
    "\n",
    "You might think that a couple of seconds for the list search is still negligible, but the search time increases quadratically with the size of the data. Depending on the problem, using a dictionary might be highly preferable over using a list.\n",
    "\n",
    "On the other hand, lists take less memory than dictionaries, and if you can directly access a list item via its index, lists are faster than dictionaries. For instance, in the problem above, if the list is sorted you can find numbers on it in a smarter way than using the `in` operator (checking about 14 indices would suffice) -- in that case, a list may be faster again.\n",
    "\n",
    "From this, you should remember that a list is fast if you can access its elements directly via their index, while a dictionary is a much better choice if the main way to find something is by scanning items. The `in` operator seems easy and reads well, but if you use it to seek something in a long list, you better think again."
   ]
  },
  {
   "cell_type": "markdown",
   "metadata": {},
   "source": [
    "---"
   ]
  },
  {
   "cell_type": "markdown",
   "metadata": {},
   "source": [
    "## What you learned"
   ]
  },
  {
   "cell_type": "markdown",
   "metadata": {},
   "source": [
    "In this chapter, you learned about:\n",
    "\n",
    "- Dictionaries\n",
    "- Dictionary keys and values\n",
    "- Dictionary methods `copy()`, `keys()`, `values()`, `items()`, and `get()`\n",
    "- Complicated dictionaries\n",
    "- Speed differences between lists and dictionaries"
   ]
  },
  {
   "cell_type": "markdown",
   "metadata": {},
   "source": [
    "---"
   ]
  },
  {
   "cell_type": "markdown",
   "metadata": {},
   "source": [
    "## Excercises"
   ]
  },
  {
   "cell_type": "markdown",
   "metadata": {},
   "source": [
    "### Exercise 14.1"
   ]
  },
  {
   "cell_type": "markdown",
   "metadata": {},
   "source": [
    "Write a program that takes the text in the code block, splits it into words (where everything that is not a letter is considered a word boundary), and case-insensitively builds a dictionary that stores for every word how often it occurs in the text. Then print all the words with their quantities in alphabetical order."
   ]
  },
  {
   "cell_type": "code",
   "execution_count": null,
   "metadata": {
    "collapsed": true
   },
   "outputs": [],
   "source": [
    "# Word counting.\n",
    "text = \"\"\"How much wood would a woodchuck chuck\n",
    "If a woodchuck could chuck wood?\n",
    "He would chuck, he would, as much as he could,\n",
    "And chuck as much as a woodchuck would\n",
    "If a woodchuck could chuck wood.\"\"\"\n"
   ]
  },
  {
   "cell_type": "markdown",
   "metadata": {},
   "source": [
    "### Exercise 14.2"
   ]
  },
  {
   "cell_type": "markdown",
   "metadata": {},
   "source": [
    "The code block below shows a list of movies. For each movie it also shows a list of ratings. Convert this code in such a way that it stores all this data in one dictionary, then use the dictionary to print the average rating for each movie, rounded to one decimal."
   ]
  },
  {
   "cell_type": "code",
   "execution_count": null,
   "metadata": {
    "collapsed": false
   },
   "outputs": [],
   "source": [
    "# Movie ratings.\n",
    "movies = [\"Monty Python and the Holy Grail\", \n",
    "          \"Monty Python's Life of Brian\",\n",
    "          \"Monty Python's Meaning of Life\",\n",
    "          \"And Now For Something Completely Different\"]\n",
    "\n",
    "grail_ratings = [ 9, 10, 9.5, 8.5, 3, 7.5,8 ]\n",
    "brian_ratings = [ 10, 10, 0, 9, 1, 8, 7.5, 8, 6, 9 ]\n",
    "life_ratings = [ 7, 6, 5 ]\n",
    "different_ratings = [ 6, 5, 6, 6 ]\n"
   ]
  },
  {
   "cell_type": "markdown",
   "metadata": {},
   "source": [
    "### Exercise 14.3"
   ]
  },
  {
   "cell_type": "markdown",
   "metadata": {},
   "source": [
    "A library contains books. Books have a writer, identified by last name and first name. Books also have a title. Books also have a location number that identifies where they can be found in the library. Librarians want to be able to locate a specific book if they know writer and title, and they want to be able to list all the books that they have of a specific writer. What data structure would you use to store the books? "
   ]
  }
 ],
 "metadata": {
  "kernelspec": {
   "display_name": "Python 3",
   "language": "python",
   "name": "python3"
  },
  "language_info": {
   "codemirror_mode": {
    "name": "ipython",
    "version": 3
   },
   "file_extension": ".py",
   "mimetype": "text/x-python",
   "name": "python",
   "nbconvert_exporter": "python",
   "pygments_lexer": "ipython3",
   "version": "3.6.0"
  }
 },
 "nbformat": 4,
 "nbformat_minor": 0
}
