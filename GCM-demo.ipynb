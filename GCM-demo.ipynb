{
 "cells": [
  {
   "cell_type": "markdown",
   "metadata": {},
   "source": [
    "# Using the tools: the Generalized Context Model\n",
    "\n",
    "The GCM has been the de facto standard model of categorization for the last 30 years. It formalized (and generalized existing theories) the idea that people make category judgements by comparing new items to all existing items in memory and computing the similarity between these items.\n",
    "\n",
    "In this example we are going to use the tools we learned today to build a basic implementation of the GCM algorithm. You can find the paper online at: http://www.cogs.indiana.edu/nosofsky/pubs/1986_rmn_jep-g_attention.pdf\n",
    "\n",
    "First, let's start with a few items that have been previously learned. These stimuli are each represented as a point along two continuous dimensions (for example, height and hue of a square) and a category label (either 1 or 2 in this example)."
   ]
  },
  {
   "cell_type": "code",
   "execution_count": 2,
   "metadata": {
    "collapsed": true
   },
   "outputs": [],
   "source": [
    "x_coords = [3, 4, 5, 6]\n",
    "y_coords = [2, 5, 7, 8]\n",
    "labels = [1, 1, 2, 2]"
   ]
  },
  {
   "cell_type": "markdown",
   "metadata": {},
   "source": [
    "Just for clarity, let's plot what these points look like. I know we haven't talked about plotting yet (it is coming later this week), but this is useful to understand the cognitive representation."
   ]
  },
  {
   "cell_type": "code",
   "execution_count": 6,
   "metadata": {
    "collapsed": false
   },
   "outputs": [
    {
     "data": {
      "image/png": "[encoded data removed]",
      "text/plain": [
       "<matplotlib.figure.Figure at 0x112126f28>"
      ]
     },
     "metadata": {},
     "output_type": "display_data"
    }
   ],
   "source": [
    "%matplotlib inline\n",
    "import matplotlib.pyplot as plt\n",
    "import warnings\n",
    "warnings.simplefilter(action='ignore', category=FutureWarning)\n",
    "plt.style.use('ggplot')\n",
    "\n",
    "plt.scatter(x_coords, y_coords, c=labels, s=200)\n",
    "plt.show()"
   ]
  },
  {
   "cell_type": "markdown",
   "metadata": {},
   "source": [
    "## Testing a new item\n",
    "\n",
    "Now we are going to determine which category the model assigns a new item to. The new item is defined by an x and y coordinate:"
   ]
  },
  {
   "cell_type": "code",
   "execution_count": 7,
   "metadata": {
    "collapsed": true
   },
   "outputs": [],
   "source": [
    "# test item\n",
    "new_x = 4.5\n",
    "new_y = 6"
   ]
  },
  {
   "cell_type": "markdown",
   "metadata": {
    "collapsed": true
   },
   "source": [
    "The GCM has a number of parameters which are usually fit to human data. For today, let's just pick "
   ]
  },
  {
   "cell_type": "code",
   "execution_count": 9,
   "metadata": {
    "collapsed": false
   },
   "outputs": [],
   "source": [
    "import math # we need this for the GCM equations\n",
    "\n",
    "# gcm parameters\n",
    "r = 2 # Minkowski metric: 2 implies Euclidian distance function\n",
    "c = 1\n",
    "weight_x = 0.5 # weights assigned to each dimension\n",
    "weight_y = 1 - weight_x\n",
    "bias_1 = 0.5 # bias toward each category option\n",
    "bias_2 = 1 - bias_1 "
   ]
  },
  {
   "cell_type": "code",
   "execution_count": 12,
   "metadata": {
    "collapsed": false
   },
   "outputs": [],
   "source": [
    "# variables to store similarity scores for each category\n",
    "sim_cat1 = 0\n",
    "sim_cat2 = 0\n",
    "\n",
    "# for each item in memory\n",
    "for i in range(len(x_coords)):\n",
    "    \n",
    "    # compute the distance scores of this item to the current item in memory\n",
    "    distance_x = weight_x * (new_x - x_coords[i])**r\n",
    "    distance_y = weight_y * (new_y - y_coords[i])**r\n",
    "    distance = distance_x + distance_y \n",
    "    \n",
    "    # convert distance to similarity\n",
    "    similarity = math.exp(-1 * c * distance**(1/r))\n",
    "    \n",
    "    # add that similarity score to the appropriate score\n",
    "    if labels[i] == 1:\n",
    "        sim_cat1 += similarity\n",
    "    else:\n",
    "        sim_cat2 += similarity\n",
    "\n",
    "# compute the probability of assigning the new item to category 1\n",
    "probability_cat1 = bias_1 * sim_cat1 / (bias_1 * sim_cat1 + bias_2 * sim_cat2)\n",
    "\n",
    "# use a really simple decision rule to make a binary decision\n",
    "if probability_cat1 > 0.5:\n",
    "    new_label = 1\n",
    "else:\n",
    "    new_label = 2        "
   ]
  },
  {
   "cell_type": "markdown",
   "metadata": {},
   "source": [
    "Visualize our results:"
   ]
  },
  {
   "cell_type": "code",
   "execution_count": 13,
   "metadata": {
    "collapsed": false
   },
   "outputs": [
    {
     "data": {
      "image/png": "[encoded data removed]",
      "text/plain": [
       "<matplotlib.figure.Figure at 0x11210ee80>"
      ]
     },
     "metadata": {},
     "output_type": "display_data"
    }
   ],
   "source": [
    "plt.scatter(x_coords, y_coords, c=labels, s=200)\n",
    "plt.scatter(new_x, new_y, c=new_label, s=200, marker='x')\n",
    "\n",
    "plt.show()"
   ]
  }
 ],
 "metadata": {
  "kernelspec": {
   "display_name": "Python 3",
   "language": "python",
   "name": "python3"
  },
  "language_info": {
   "codemirror_mode": {
    "name": "ipython",
    "version": 3
   },
   "file_extension": ".py",
   "mimetype": "text/x-python",
   "name": "python",
   "nbconvert_exporter": "python",
   "pygments_lexer": "ipython3",
   "version": "3.6.0"
  }
 },
 "nbformat": 4,
 "nbformat_minor": 0
}
