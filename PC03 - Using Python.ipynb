{
 "cells": [
  {
   "cell_type": "markdown",
   "metadata": {},
   "source": [
    "# Chapter 3 - Using Python"
   ]
  },
  {
   "cell_type": "markdown",
   "metadata": {},
   "source": [
    "-------------------------------"
   ]
  },
  {
   "cell_type": "markdown",
   "metadata": {},
   "source": [
    "In this course, the notebooks are run on a server. You may have copied these notebooks to a local computer, on which you also installed iPython, the environment needed to run the notebooks. If you have done that, most of this chapter can be ignored by you.\n",
    "\n",
    "The notebooks allow you to run Python code. Python code does not run by itself; it needs a \"Python interpreter\". Such an interpreter is active on the server on which these notebooks are installed, and therefore the code blocks in these notebooks can be run by you, the user. This, however, is not how you use Python in everyday life.\n",
    "\n",
    "This chapter will explain how you can create and run Python programs on any computer, without the notebook server."
   ]
  },
  {
   "cell_type": "markdown",
   "metadata": {},
   "source": [
    "---"
   ]
  },
  {
   "cell_type": "markdown",
   "metadata": {},
   "source": [
    "## Installing Python"
   ]
  },
  {
   "cell_type": "markdown",
   "metadata": {},
   "source": [
    "There are two broad classes of computer programs: \"compiled\" programs and \"interpreted\" programs.\n",
    "\n",
    "To create a program in a compiled language, you write the program, then compile it, which turns it into a new program file which contains machine code. Machine code is unreadable by humans, but computers can execute it really fast. Examples of compiled computer languages are C++ and C#.\n",
    "\n",
    "To create a program in an interpreted language, you write the program, and you can then run it immediately, without the need to turn it into machine code in a separate process. Instead, the interpreter will turn each line of code into machine code on the fly, when it needs it. Examples of interpreted languages are Python and Perl.\n",
    "\n",
    "Both types of languages have their advantages and disadvantages. I do not need to discuss these. The only thing you need to know is that to run Python programs, you need a Python interpreter installed on the machine where you wish to run the programs. \n",
    "\n",
    "Fortunately, Python interpreters are freely available for almost every machine in existence. Visit <a href=\"http://www.python.org\">python.org</a> to download a Python interpreter for your computer. For this course, make sure that you get a Python 3 interpreter. Install it.\n",
    "\n",
    "You can now write and run Python programs on your machine without the need of notebooks. If you want to run a program that you wrote on a different machine, you can just copy it to the new machine. If the new machine has a Python interpreter installed, your code will also run on the new machine, even if it uses a different operating system (unless it uses features that are particular to a specific operating system, of course, but in general your code will run without the need for adaptations)."
   ]
  },
  {
   "cell_type": "markdown",
   "metadata": {},
   "source": [
    "---"
   ]
  },
  {
   "cell_type": "markdown",
   "metadata": {},
   "source": [
    "## Creating Python programs"
   ]
  },
  {
   "cell_type": "markdown",
   "metadata": {},
   "source": [
    "Python programs are created in the form of files. By convention, the name of the file that contains a Python program has the extension \".py\".\n",
    "\n",
    "Most Python installations (definitely those for Windows and Mac OS) also install an environment to create programs in, which is called IDLE. They usually also create some access point for the IDLE environment (for instance, and icon or link on the desktop or in a program menu). IDLE is a quite bare, but suitable environment to do your programming in.\n",
    "\n",
    "When you start IDLE, you are in a so-called \"Python shell\". This is, as it were, an interactive Python program, in which you can type lines of Python code, which are run immediately. For instance, if you type `print(7/4)`, IDLE will show you the answer 1.75. In general, this is not how you wish to create and run code, but you can use the shell to quickly test the effect of Python statements.\n",
    "\n",
    "To write Python programs with IDLE, you can create new Python files, or open existing Python files, using the \"File\" menu. IDLE then gives you a new window in which you can write code, edit code, and save code. You can even run the code immediately from this window, using the \"Run\" menu (there is a shortcut key to immediately run the program, usually F5). The program then actually runs in the shell, so that is where you supply input and can see the output. Make sure that you save your programs with a name that ends in \".py\".\n",
    "\n",
    "There are user-friendlier ways to create Python programs. What you need is a text editor, preferably one that supports writing Python code specifically. Note that a text editor is different from a word processor; a text editor has no formatting options. You might see text getting formatted while typing in a text editor, with bold, italics, and colors, but this is so-called \"syntax highlighting\", which shows for a particular programming language how certain words that you type are understood by the program. Syntax highlighting is also done for the code in these notebooks, for instance, strings are displayed in a brownish color, while keywords are green.\n",
    "\n",
    "There are many text editors available that support writing Python code, for many different operating systems, most of them free. If you are unhappy with IDLE to write code, you can search for alternatives on the Internet. All editors have their own advantages and disadvantages, so what you prefer to use is up to you."
   ]
  },
  {
   "cell_type": "markdown",
   "metadata": {},
   "source": [
    "---"
   ]
  },
  {
   "cell_type": "markdown",
   "metadata": {},
   "source": [
    "## Running Python programs"
   ]
  },
  {
   "cell_type": "markdown",
   "metadata": {},
   "source": [
    "Once you have created a Python program, you see the program name displayed in the folder where you saved it. You can try to run it in the same way that you run other programs (e.g., by double-clicking on it). \n",
    "\n",
    "For many Python programs, when you activate them in this way, you either see nothing happening, or a quick flash of a black window, after which nothing happens anymore. The reason is that Python programs run in a \"command-line shell\" of the operating system. If you are not a Linux user, this is probably not something that you are used to. Basically, what happens is that Python opens the command-line shell, runs the program, and when the program finishes, closes the shell, giving you the feeling that nothing has happened. But something <i>did</i> happen; you just did not notice it.\n",
    "\n",
    "For this course, if you create Python programs outside the notebooks, you should simply run them in the editor that you use, as I describe for IDLE above. You may open the command-line shell (which usually is a somewhat hidden option in the list of installed programs on your machine, falling under System Commands) and \"manually\" run Python programs from that shell, but there seldom is a need to do that."
   ]
  },
  {
   "cell_type": "markdown",
   "metadata": {},
   "source": [
    "---"
   ]
  },
  {
   "cell_type": "markdown",
   "metadata": {},
   "source": [
    "## Reference material"
   ]
  },
  {
   "cell_type": "markdown",
   "metadata": {},
   "source": [
    "Besides these notebooks, you might occasionally want to reference the Python manual. The easiest way to do that is using the Internet. Just search for \"Python\" with whatever you are interested in, and you will quickly see links that lead straight into the Python manuals. You might also run into links that lead you to code that solves a problem for you directly. While that is great by the time you have to use Python for practical problems, it does not help you to learn. So my advice is that you avoid such links during this course.\n",
    "\n",
    "When you install Python, there usually also will be a manual installed in a `Doc` folder under the `Python` folder. You can use it if, for some reason, you are not connected to the Internet.\n",
    "\n",
    "If you want to use a book, there are many books available to learn Python from or that can be used as references. I find little use for such books, except as an initial read. There are some good books to learn from as open documents, in particular a book called \"How to Think Like a Computer Scientist\", and derivatives of that book. If you search for that title, different versions will pop up. Be careful that you select a book that uses Python 3, and not Python 2.\n",
    "\n",
    "The original book \"How to Think Like a Computer Scientist: Learning with Python\" by Allen B. Downey is one of the best books to learn from that I know of, but unfortunately is, at the moment of this writing, written for Python 2. Downey has announced a Python 3 version for 2016. Python 3 versions of this book have already been created by others, notably by Peter Wentworth, though he has imprinted his own teaching philosophy upon the book, which I do not always agree with. Still, it is a reasonably good book to learn from.\n",
    "\n",
    "Besides books and these notebooks to learn Python from, there are several open video courses available. I have not checked these out, as they are time consuming, and I believe that it is not possible to learn programming from watching a video. The only way to learn programming is by doing. I find the notebooks particularly appealing as they allow us to let you practice while I give explanations by text. But, as they say, YMMV."
   ]
  },
  {
   "cell_type": "markdown",
   "metadata": {},
   "source": [
    "-------------------------------"
   ]
  },
  {
   "cell_type": "markdown",
   "metadata": {},
   "source": [
    "## Exercises"
   ]
  },
  {
   "cell_type": "markdown",
   "metadata": {},
   "source": [
    "### Exercise 3.1"
   ]
  },
  {
   "cell_type": "markdown",
   "metadata": {},
   "source": [
    "Download Python and install it on the machine of your choice. Run IDLE. Create a file \"hello.py\", in which you place the code of the <i>Hello World</i> program shown in Chapters 1 and 2. Run the program, and observe how the text \"Hello, world!\" is displayed in the IDLE shell."
   ]
  },
  {
   "cell_type": "markdown",
   "metadata": {},
   "source": [
    "### Exercise 3.2"
   ]
  },
  {
   "cell_type": "markdown",
   "metadata": {},
   "source": [
    "In the IDLE shell you can type commands on the IDLE prompt (\">>>\"). Give the command `print(7/4)`. You will see that it prints the answer 1.75. Then give the command `7/4` (i.e., without `print`). Observe that it also prints the answer 1.75.\n",
    "\n",
    "The reason is that the IDLE shell will always display the result of a command. The result of 7/4 is 1.75, and therefore it displays 1.75. The result of a `print` command is nothing, so the shell displays nothing -- however, the `print` command causes the display of whatever is within the parentheses, which is the value resulting from dividing 7 by 4, which is 1.75. Therefore, in both cases you see 1.75, but one is the result of the use of the `print` command, while the other is the result of the shell showing you the evaluation of a calculation.\n",
    "\n",
    "Now write a Python program that contains only the command `7/4`. Before you run it, think about what you expect to happen when you run it. Will the shell display 1.75? Will it display nothing? Or will you see an error?\n",
    "\n",
    "Check if your expectation is correct."
   ]
  }
 ],
 "metadata": {
  "kernelspec": {
   "display_name": "Python 3",
   "language": "python",
   "name": "python3"
  },
  "language_info": {
   "codemirror_mode": {
    "name": "ipython",
    "version": 3
   },
   "file_extension": ".py",
   "mimetype": "text/x-python",
   "name": "python",
   "nbconvert_exporter": "python",
   "pygments_lexer": "ipython3",
   "version": "3.6.0"
  }
 },
 "nbformat": 4,
 "nbformat_minor": 0
}
