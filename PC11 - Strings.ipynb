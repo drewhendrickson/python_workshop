{
 "cells": [
  {
   "cell_type": "markdown",
   "metadata": {},
   "source": [
    "# Chapter 11 - Strings"
   ]
  },
  {
   "cell_type": "markdown",
   "metadata": {},
   "source": [
    "---"
   ]
  },
  {
   "cell_type": "markdown",
   "metadata": {},
   "source": [
    "Until now, most examples and exercises have been using numbers. Typical students for whom this course is intended often start wondering by this time if programming is just for number manipulation. In daily life, it is far more commonplace to deal with textual information. So are they ever going to learn how to deal with texts?\n",
    "\n",
    "The reason that dealing with texts was postponed until this point, is that dealing with numbers is simply easier than dealing with texts. But in the present chapter, the first steps are taken to learn to manipulate textual information.\n",
    "\n",
    "Texts, in programming languages, are dealt with in the form of strings. This chapter is on the details of strings, and on readily-available functions to juggle them."
   ]
  },
  {
   "cell_type": "markdown",
   "metadata": {},
   "source": [
    "---"
   ]
  },
  {
   "cell_type": "markdown",
   "metadata": {},
   "source": [
    "## Recapsulation of string discussions until now"
   ]
  },
  {
   "cell_type": "markdown",
   "metadata": {},
   "source": [
    "In Chapter 4, strings were quickly introduced. The brief discussion in that chapter ended with the statement that a string is a text, enclosed by either single or double quotes, which might be of any length, including zero characters long. The chapter also explained that you can concatenate two strings using the `+`, and that you can create a string that is the repetition of a shorter string by using a `*`. For example:"
   ]
  },
  {
   "cell_type": "code",
   "execution_count": null,
   "metadata": {
    "collapsed": false
   },
   "outputs": [],
   "source": [
    "s1 = \"apple\"\n",
    "s2 = 'banana'\n",
    "print( s1 )\n",
    "print( s2 )\n",
    "print( s1 + s2 )\n",
    "print( 3 * s1 )\n",
    "print( s2 * 3 )\n",
    "print( 2 * s1 + 2 * s2 )"
   ]
  },
  {
   "cell_type": "markdown",
   "metadata": {},
   "source": [
    "Chapter 6 introduced the `format()` function to format strings. It also explained how you can get the length of a string using the `len()` function.\n",
    "\n",
    "String comparisons were explained in Chapter 7, in particular the fact that the comparison operators compare strings using alphabetical rules, whereby capitals are always lower in the alphabet than lower case letters. This will be explained more in-depth in the present chapter. Chapter 7 also explained how the `in` operator can be used to test the presence of characters or substrings in strings.\n",
    "\n",
    "Chapter 8 explained how you can use a `for` loop to traverse all the characters in a string."
   ]
  },
  {
   "cell_type": "code",
   "execution_count": null,
   "metadata": {
    "collapsed": false
   },
   "outputs": [],
   "source": [
    "s1 = \"orange\"\n",
    "s2 = \"banana\"\n",
    "for letter in s1:\n",
    "    if letter in s2:\n",
    "        print( s1, \"and\", s2, \"share the letter\", letter )"
   ]
  },
  {
   "cell_type": "markdown",
   "metadata": {},
   "source": [
    "---"
   ]
  },
  {
   "cell_type": "markdown",
   "metadata": {},
   "source": [
    "## Multi-line strings"
   ]
  },
  {
   "cell_type": "markdown",
   "metadata": {},
   "source": [
    "Strings in Python may span across multiple lines. This can be useful when you have a very long string, or when you want to format the output of the string in a certain way. Multi-line strings can be achieved in two ways:\n",
    "\n",
    "1. With single or double quotes, and an indication that the remainder of the string continues on the next line with a backslash.\n",
    "2. With triple single or double quotes.\n",
    "\n",
    "I first demonstrate how this works when you use the regular string enclosure with one double or single quote at each end of the string:"
   ]
  },
  {
   "cell_type": "code",
   "execution_count": null,
   "metadata": {
    "collapsed": false
   },
   "outputs": [],
   "source": [
    "longString = \"I'm fed up with being treated like sheep. \\\n",
    "What's the point of going abroad if you're just another \\\n",
    "tourist carted around in buses surrounded by sweaty \\\n",
    "mindless oafs from Kettering and Coventry in their \\\n",
    "cloth caps and their cardigans and their transistor \\\n",
    "radios and their Sunday Mirrors, complaining about \\\n",
    "the tea - 'Oh they don't make it properly here, do they, \\\n",
    "not like at home' - and stopping at Majorcan bodegas \\\n",
    "selling fish and chips and Watney's Red Barrel and \\\n",
    "calamaris and two veg and sitting in their cotton frocks \\\n",
    "squirting Timothy White's suncream all over their puffy \\\n",
    "raw swollen purulent flesh 'cos they 'overdid it on the first day.'\"\n",
    "print( longString )"
   ]
  },
  {
   "cell_type": "markdown",
   "metadata": {},
   "source": [
    "As you can see, Python now interprets this example as a single line of text. The backslash (`\\`) can actually be included after any Python statement to indicate that it continues on the next line, and it can be quite useful for that, for instance when you write long calculations.\n",
    "\n",
    "The recommended way to write multi-line strings in Python is, however, to use triple double or single quotes. I indicated earlier that you can use those to write multi-line comments. Such comments are basically large strings in the middle of your Python program, which do nothing as they are not assigned to a variable.\n",
    "\n",
    "Here is an example of a long string with triple double quotes:"
   ]
  },
  {
   "cell_type": "code",
   "execution_count": null,
   "metadata": {
    "collapsed": false
   },
   "outputs": [],
   "source": [
    "longString = \"\"\"And being herded into endless Hotel Miramars and Bellevueses \n",
    "and Continentales with their modern international luxury \n",
    "roomettes and draught Red Barrel and swimming pools full \n",
    "of fat German businessmen pretending they're acrobats forming \n",
    "pyramids and frightening the children and barging into queues \n",
    "and if you're not at your table spot on seven you miss the \n",
    "bowl of Campbell's Cream of Mushroom soup, the first item on \n",
    "the menu of International Cuisine, and every Thursday night \n",
    "the hotel has a bloody cabaret in the bar, featuring a tiny \n",
    "emaciated dago with nine-inch hips and some bloated fat tart \n",
    "with her hair brylcreemed down and a big arse presenting \n",
    "Flamenco for Foreigners.\"\"\"\n",
    "print( longString )"
   ]
  },
  {
   "cell_type": "markdown",
   "metadata": {},
   "source": [
    "The interesting difference between these two examples is that in the first example, the string was interpreted as one long, continuous series of characters, while in the second example the different lines are all printed on different lines on the output. The reason that this happens is that there is an invisible character included at the end of each line in the second example that indicates that Python should move to the next line before continuing. This is the so-called \"newline\" character, and you can actually insert it explicitly into a string, using the code \"`\\n`\". So this code should not be read as two characters, the backslash and the \"n\", but as a single newline character. By using it, you can ensure that you print the output on multiple lines, even if you use the backslash to indicate the continuation of the string, as was done in the first example. For example:"
   ]
  },
  {
   "cell_type": "code",
   "execution_count": null,
   "metadata": {
    "collapsed": false
   },
   "outputs": [],
   "source": [
    "longstring = \"And then some adenoidal typists from Birmingham with flabby\\n\\\n",
    "white legs and diarrhoea trying to pick up hairy bandy-legged\\n\\\n",
    "wop waiters called Manuel and once a week there's an excursion\\n\\\n",
    "to the local Roman Ruins to buy cherryade and melted ice cream\\n\\\n",
    "and bleeding Watney's Red Barrel and one evening you visit the\\n\\\n",
    "so called typical restaurant with local colour and atmosphere\\n\\\n",
    "and you sit next to a party from Rhyl who keep singing\\n\\\n",
    "'Torremolinos, torremolinos' and complaining about the food -\\n\\\n",
    "'It's so greasy here, isn't it?' - and you get cornered by some\\n\\\n",
    "drunken greengrocer from Luton with an Instamatic camera and\\n\\\n",
    "Dr. Scholl sandals and last Tuesday's Daily Express and he\\n\\\n",
    "drones on and on and on about how Mr. Smith should be running\\n\\\n",
    "this country and how many languages Enoch Powell can speak and\\n\\\n",
    "then he throws up over the Cuba Libres.\"\n",
    "print( longstring )"
   ]
  },
  {
   "cell_type": "markdown",
   "metadata": {},
   "source": [
    "This means that if you do not want automatic newline characters inserted into a multi-line string, you have to use the first approach, with the backslash at the end of the line. If you are okay with newline characters in your multi-line string, the second approach is probably the easiest to read."
   ]
  },
  {
   "cell_type": "markdown",
   "metadata": {},
   "source": [
    "---"
   ]
  },
  {
   "cell_type": "markdown",
   "metadata": {},
   "source": [
    "## Escape sequences"
   ]
  },
  {
   "cell_type": "markdown",
   "metadata": {},
   "source": [
    "\"`\\n`\" is a so-called \"escape sequence\". An escape sequence is a string character written as a backslash followed by a code, which can be one or multiple characters. Python interprets escape sequences in a string as a special character.\n",
    "\n",
    "Besides the newline character \"`\\n`\", in a previous chapter I also introduced the special characters \"`\\'`\" and \"`\\\"`\", which can be used to place a single respectively double quote in a string, regardless of what characters surround the string. I also mentioned that you can use \"`\\\\`\" to insert a \"real\" backslash in a string. \n",
    "\n",
    "Besides these, there are a few more \"backslash sequences\" which lead to a special character. Most of these are archaic and you do not need to worry about them. The two I want to mention are \"`\\t`\" which represents a single tabulation, and \"`\\xnn`\" whereby `nn` stands for two hexadecimal digits, which represents the character with hexadecimal number `nn`. For example, \"`\\x20`\" is the character expressed by the hexadecimal number `20`, which is the same as the decimal number `32`, which is the space (this will be explained later in this chapter).\n",
    "\n",
    "In case you never learned about hexadecimal counting: hexadecimals use a numbering scheme that uses 16 different digits, namely `0` to `9`, and `A` to `F`. A direct translation from hexadecimals to decimals turns `A` into `10`, `B` into `11`, etcetera. In decimal counting, the value of a multi-digit number is found by multiplying the digits by increasing powers of `10`, from right to left, e.g., the number `1426` is `6 + 2*10 + 4*100 + 1*1000`. For hexadecimal numbers you do the same thing, but multiply by powers of `16`, e.g., the hexadecimal number `4AF2` is `2 + 15*16 + 10*256 + 4*4096`. Programmers tend to like hexadecimal numbers, as computers work with bytes as the smallest unit of memory storage, and a byte can store 256 different values, i.e., any byte value can be expressed by a hexadecimal number of two digits.\n",
    "\n",
    "Why it is useful to know about hexadecimal counting and hexadecimal representation of characters follows later in the course."
   ]
  },
  {
   "cell_type": "markdown",
   "metadata": {},
   "source": [
    "---"
   ]
  },
  {
   "cell_type": "markdown",
   "metadata": {},
   "source": [
    "## Accessing characters of a string"
   ]
  },
  {
   "cell_type": "markdown",
   "metadata": {},
   "source": [
    "As I showed several times before, a string is a collection of characters in a specific order. You can access the individual characters of a string using indices."
   ]
  },
  {
   "cell_type": "markdown",
   "metadata": {},
   "source": [
    "### String indices"
   ]
  },
  {
   "cell_type": "markdown",
   "metadata": {},
   "source": [
    "Each symbol in a string has a position, this position can be referred to by the index number of the position. The index numbers start at 0 and then increase to the length of the string. The following table shows the word \"orange\" in the first row and the indices for each letter in the second and third rows:\n",
    "\n",
    "&nbsp;&nbsp;__`  o  r  a  n  g  e`__<br>\n",
    "&nbsp;&nbsp;`  0  1  2  3  4  5`<br>\n",
    "` -6 -5 -4 -3 -2 -1`\n",
    "\n",
    "As you can see, you can use positive indices, which start at the first letter of the string and increase until the end of the string is reached, or negative indices, which start with -1 for the last letter of the string and decrease until the first letter of the string is reached.\n",
    "\n",
    "As the length of a string `s` is `len(s)`, the last letter of the string has index `len(s)-1`. With negative indices, the first letter of the string has index `-len(s)`.\n",
    "\n",
    "If a string is stored in a variable, the individual letters of the string can be accessed by the variable name and the index of the requested letter between square brackets (`[]`) next to it."
   ]
  },
  {
   "cell_type": "code",
   "execution_count": null,
   "metadata": {
    "collapsed": false
   },
   "outputs": [],
   "source": [
    "fruit = \"orange\"\n",
    "print( fruit[1] ) \n",
    "print( fruit[2] ) \n",
    "print( fruit[4] )\n",
    "print( fruit[-1] )\n",
    "print( fruit[-6] )\n",
    "print( fruit[-3] )"
   ]
  },
  {
   "cell_type": "markdown",
   "metadata": {},
   "source": [
    "You can also use variables as indices, and even calculations or function calls. You must make sure, however, that calculations result in integers, because you cannot use floats as indices. Below are some examples, most of which are so convoluted that I do not see any reason to incorporate them like this in a program. But they show what is possible."
   ]
  },
  {
   "cell_type": "code",
   "execution_count": null,
   "metadata": {
    "collapsed": false
   },
   "outputs": [],
   "source": [
    "from math import sqrt\n",
    "\n",
    "fruit = \"orange\"\n",
    "x = 3\n",
    "\n",
    "print( fruit[3-2] )\n",
    "print( fruit[int( sqrt( 4 ) )] )\n",
    "print( fruit[2**2] )\n",
    "print( fruit[int( (x-len( fruit ))/3 )] )\n",
    "print( fruit[-len( fruit )])\n",
    "print( fruit[-x] )"
   ]
  },
  {
   "cell_type": "markdown",
   "metadata": {},
   "source": [
    "In principle, you can also use an index with the actual string rather than a variable that contains it, e.g., `\"orange\"[2]` is the letter \"a\". For obvious reasons no one ever does that, though.\n",
    "\n",
    "Besides using single indices you can also access a substring (also called a \"slice\") from a string by using two numbers between the square brackets with a colon (`:`) in between. The first of these numbers is the index where the substring starts, the second where it ends. The substring does *not* include the letter at the second index. By leaving out the left number you indicate that the substring starts at the beginning of the string (i.e., at index 0). By leaving out the right number you indicate that the substring ranges up to and includes the last character of the string.\n",
    "\n",
    "If you try to access a character using an index that is beyond the reaches of a string, you get a runtime error (\"index out of bounds\"). For a range of indices to access substrings such limitations do not exist; you can use numbers that are outside the bounds of the string."
   ]
  },
  {
   "cell_type": "code",
   "execution_count": null,
   "metadata": {
    "collapsed": false
   },
   "outputs": [],
   "source": [
    "fruit = \"orange\"\n",
    "print( fruit[:] )\n",
    "print( fruit[0:] )\n",
    "print( fruit[:6] )\n",
    "print( fruit[:100] )\n",
    "print( fruit[:len( fruit )] )\n",
    "print( fruit[1:-1] )\n",
    "print( fruit[2], fruit[1:6] )"
   ]
  },
  {
   "cell_type": "markdown",
   "metadata": {},
   "source": [
    "### Traversing strings"
   ]
  },
  {
   "cell_type": "markdown",
   "metadata": {},
   "source": [
    "I already explained how you can traverse the characters of a string using a `for` loop:"
   ]
  },
  {
   "cell_type": "code",
   "execution_count": null,
   "metadata": {
    "collapsed": false
   },
   "outputs": [],
   "source": [
    "fruit = 'apple'\n",
    "for char in fruit:\n",
    "    print( char, '- ', end='' )"
   ]
  },
  {
   "cell_type": "markdown",
   "metadata": {},
   "source": [
    "Now you know about indices, you probably realize you can also use those to traverse the characters of a string:"
   ]
  },
  {
   "cell_type": "code",
   "execution_count": null,
   "metadata": {
    "collapsed": false
   },
   "outputs": [],
   "source": [
    "fruit = 'apple'\n",
    "\n",
    "for i in range( 0, len( fruit ) ):\n",
    "    print( fruit[i], \"- \", end=\"\" )\n",
    "print()\n",
    "    \n",
    "i = 0\n",
    "while i < len( fruit ):\n",
    "    print( fruit[i], \"- \", end=\"\" )\n",
    "    i += 1"
   ]
  },
  {
   "cell_type": "markdown",
   "metadata": {},
   "source": [
    "If you just want to traverse the individual characters of a string, the first method, using `for <character> in <string>:`, is by far the most elegant and readable. However, occasionally you have to solve problems in which you might prefer one of the other methods.\n",
    "\n",
    "**Exercise**: Write code that for a string prints the indices of all of its vowels (`a`, `e`, `i`, `o`, and `u`). This can be done with a `for` loop or a `while` loop, though the `while` loop is more suitable."
   ]
  },
  {
   "cell_type": "code",
   "execution_count": null,
   "metadata": {
    "collapsed": true
   },
   "outputs": [],
   "source": [
    "# Vowel indices.\n",
    "s = \"And now for something completely different\"\n"
   ]
  },
  {
   "cell_type": "markdown",
   "metadata": {},
   "source": [
    "**Exercise**: Write code that uses two strings. For each character in the first string that has exactly the same character at the same index in the second string, you print the character and the index. Watch out that you do not get an \"index out of bounds\" runtime error."
   ]
  },
  {
   "cell_type": "code",
   "execution_count": null,
   "metadata": {
    "collapsed": true
   },
   "outputs": [],
   "source": [
    "# Similar characters at similar indices.\n",
    "s1 = \"The Holy Grail\"\n",
    "s2 = \"Life of Brian\"\n"
   ]
  },
  {
   "cell_type": "markdown",
   "metadata": {},
   "source": [
    "**Exercise**: Write a function that takes a string as argument, and creates a new string that is a copy of the argument, except that every non-letter is replaced by a space (e.g., \"`ph@t l00t`\" is changed to \"`ph t l  t`\"). To write such a function, you will start with an empty string, and traverse the characters of the argument one by one. When you encounter a character that is acceptable, you add it to the new string. When it is not acceptable, you add a space to the new string. Note that you can check whether a character is acceptable by simple comparisons, e.g., any lower case letter can be found using the test `if ch >= 'a' and ch <= 'z':`. "
   ]
  },
  {
   "cell_type": "code",
   "execution_count": null,
   "metadata": {
    "collapsed": true
   },
   "outputs": [],
   "source": [
    "# String cleaning function.\n"
   ]
  },
  {
   "cell_type": "markdown",
   "metadata": {},
   "source": [
    "### Extended slices"
   ]
  },
  {
   "cell_type": "markdown",
   "metadata": {},
   "source": [
    "Slices in python can take a third argument, which is the step size (or \"stride\") that is taken between indices. It is similar to the third argument for the `range()` function. The format for slices then becomes `<string>[<begin>:<end>:<step>]`. By default the step size is 1.\n",
    "\n",
    "The most common use for the step size is to use a negative step size in order to create a reversed version of a string."
   ]
  },
  {
   "cell_type": "code",
   "execution_count": null,
   "metadata": {
    "collapsed": false
   },
   "outputs": [],
   "source": [
    "fruit = \"banana\"\n",
    "print( fruit[::2] )\n",
    "print( fruit[1::2] )\n",
    "print( fruit[::-1] ) \n",
    "print( fruit[::-2] ) "
   ]
  },
  {
   "cell_type": "markdown",
   "metadata": {},
   "source": [
    "Reversing a string using `[::-1]` is conceptually similar to traversing the string from the last character to the beginning of the string using backward steps of size 1."
   ]
  },
  {
   "cell_type": "code",
   "execution_count": null,
   "metadata": {
    "collapsed": false
   },
   "outputs": [],
   "source": [
    "fruit = \"banana\"\n",
    "for i in range( 5, -1, -1 ):\n",
    "    print( fruit[i] )"
   ]
  },
  {
   "cell_type": "markdown",
   "metadata": {},
   "source": [
    "---"
   ]
  },
  {
   "cell_type": "markdown",
   "metadata": {},
   "source": [
    "## Strings are immutable"
   ]
  },
  {
   "cell_type": "markdown",
   "metadata": {},
   "source": [
    "A core property of strings is that they are *immutable*. This means that they cannot be changed. For instance, you cannot change a character of a string by assigning a new value to it. As a demonstration, the following code leads to a runtime error if you try to run it:"
   ]
  },
  {
   "cell_type": "code",
   "execution_count": null,
   "metadata": {
    "collapsed": false
   },
   "outputs": [],
   "source": [
    "fruit = \"oringe\"\n",
    "fruit[2] = \"a\"\n",
    "print( fruit )"
   ]
  },
  {
   "cell_type": "markdown",
   "metadata": {},
   "source": [
    "If you want to make a change to a string, you have to create a new string that contains the change; you can then assign the new string to the existing variable if you want. For instance:"
   ]
  },
  {
   "cell_type": "code",
   "execution_count": 1,
   "metadata": {
    "collapsed": false
   },
   "outputs": [
    {
     "name": "stdout",
     "output_type": "stream",
     "text": [
      "orange\n"
     ]
    }
   ],
   "source": [
    "fruit = \"oringe\"\n",
    "fruit = fruit[:2] + \"a\" + fruit[3:]\n",
    "print( fruit )"
   ]
  },
  {
   "cell_type": "markdown",
   "metadata": {},
   "source": [
    "The reasons for why strings are immutable are beyond the scope of this course. Just remember that if you want to modify a string you need to overwrite the entire string, and you cannot modify individual indices."
   ]
  },
  {
   "cell_type": "markdown",
   "metadata": {},
   "source": [
    "---"
   ]
  },
  {
   "cell_type": "markdown",
   "metadata": {},
   "source": [
    "## `string` methods"
   ]
  },
  {
   "cell_type": "markdown",
   "metadata": {},
   "source": [
    "There is a collection of methods that are designed to operate on strings. All of these methods are applied to a string to perform some operation. Since strings are immutable, they *never change* the string they work on, but they always `return` a changed version of the string.\n",
    "\n",
    "Like the `format()` method introduced in Chapter 6, all these methods are called as `<string>.<method>()`, i.e., you have to write the string that they work on before the method call, with a period in between. You will encounter this more often, and why this is implemented in this way will be explained later in the course, in the chapters about object orientation.\n",
    "\n",
    "Most of these methods are not part of a specific module, but can be called without importing them. There is a `string` module that contains specific constants and methods that can be used in your programs, but the methods I discuss here can all be used without importing the `string` module."
   ]
  },
  {
   "cell_type": "markdown",
   "metadata": {},
   "source": [
    "### `strip()`"
   ]
  },
  {
   "cell_type": "markdown",
   "metadata": {},
   "source": [
    "`strip()` removes from a string leading and trailing spaces, including leading and trailing newlines and other characters that may be viewed as spaces. There are no parameters."
   ]
  },
  {
   "cell_type": "code",
   "execution_count": null,
   "metadata": {
    "collapsed": false
   },
   "outputs": [],
   "source": [
    "s = \"    And now for something completely different \\n    \"\n",
    "print( \"[\"+s+\"]\" )\n",
    "s = s.strip()\n",
    "print( \"[\"+s+\"]\" )"
   ]
  },
  {
   "cell_type": "markdown",
   "metadata": {},
   "source": [
    "### `upper()` and `lower()`"
   ]
  },
  {
   "cell_type": "markdown",
   "metadata": {},
   "source": [
    "`upper()` creates a version of a string of which all letters are capitals. `lower()` is equivalent, but uses only lower case letters. Neither method uses parameters."
   ]
  },
  {
   "cell_type": "code",
   "execution_count": null,
   "metadata": {
    "collapsed": false
   },
   "outputs": [],
   "source": [
    "s = \"The Meaning of Life\"\n",
    "print( s )\n",
    "print( s.upper() )\n",
    "print( s.lower() )"
   ]
  },
  {
   "cell_type": "markdown",
   "metadata": {},
   "source": [
    "### `find()`"
   ]
  },
  {
   "cell_type": "markdown",
   "metadata": {},
   "source": [
    "`find()` can be used to search in a string for the starting index of a particular substring. As parameters it gets the substring, and optionally a starting index to search from, and an ending index. It returns the lowest index where the substring starts, or `-1` if the substring is not found."
   ]
  },
  {
   "cell_type": "code",
   "execution_count": 2,
   "metadata": {
    "collapsed": false
   },
   "outputs": [
    {
     "name": "stdout",
     "output_type": "stream",
     "text": [
      "14\n",
      "4\n",
      "16\n",
      "-1\n"
     ]
    }
   ],
   "source": [
    "s = \"Humpty Dumpty sat on the wall\"\n",
    "print( s.find( \"sat\" ) )\n",
    "print( s.find( \"t\" ) )\n",
    "print( s.find( \"t\", 12 ) )\n",
    "print( s.find( \"q\" ) )"
   ]
  },
  {
   "cell_type": "markdown",
   "metadata": {},
   "source": [
    "### `replace()`"
   ]
  },
  {
   "cell_type": "markdown",
   "metadata": {},
   "source": [
    "`replace()` replaces all occurrences of a substring with another substring. As parameters it gets the substring to look for, and the substring to replace it with. Optionally, it gets a parameter that indicates the maximum number of replacements to be made. \n",
    "\n",
    "I must stress again that strings are immutable, so the `replace()` function is not actually changing the string. It returns a new string that is a copy of the string with the replacements made."
   ]
  },
  {
   "cell_type": "code",
   "execution_count": 3,
   "metadata": {
    "collapsed": false
   },
   "outputs": [
    {
     "name": "stdout",
     "output_type": "stream",
     "text": [
      " Humpty Dumpty fell off the wall \n"
     ]
    }
   ],
   "source": [
    "s = ' Humpty Dumpty sat on the wall '\n",
    "print( s.replace( 'sat on', 'fell off' ) )"
   ]
  },
  {
   "cell_type": "markdown",
   "metadata": {},
   "source": [
    "### `split()`"
   ]
  },
  {
   "cell_type": "markdown",
   "metadata": {},
   "source": [
    "`split()` splits a string up in words, based on a given character or substring which is used as separator. The separator is given as the parameter, and if no separator is given, the white space is used, i.e., you split a string in the actual words (though punctuation attached to words is considered part of the words). If there are multiple occurrences of the separator next to each other, the extra ones are ignored (i.e., with the white space as separator, it does not matter if there is a single white space between two words, or multiple).\n",
    "\n",
    "The result of this split is a so-called \"list\" of words. Lists are discussed in a coming chapter, so for now I will not say much about them. I just indicate that if you want to access the separate words, you can use the `for <word> in <list>:` construction."
   ]
  },
  {
   "cell_type": "code",
   "execution_count": null,
   "metadata": {
    "collapsed": false
   },
   "outputs": [],
   "source": [
    "s = 'Humpty Dumpty sat on the wall'\n",
    "wordlist = s.split()\n",
    "for word in wordlist:\n",
    "    print( word )"
   ]
  },
  {
   "cell_type": "markdown",
   "metadata": {},
   "source": [
    "A very useful property of splitting is that we can decode some basic file formats. For example, a comma separated value (CSV) file is a very simple format, of which the basic setup is that each line consists of values that are separated by a comma. These values can be split from each other using the `split()` method. (Note: In actuality it will be a bit more convoluted as there might be commas in the fields that are stored in the CSV file, so it depends a bit on the contents of the file whether this simple approach will work. More on CSV files will be said in a much later chapter in the course, where file formats are discussed.)"
   ]
  },
  {
   "cell_type": "code",
   "execution_count": 4,
   "metadata": {
    "collapsed": false
   },
   "outputs": [
    {
     "name": "stdout",
     "output_type": "stream",
     "text": [
      "2016\n",
      "September\n",
      "28\n",
      "Data Processing\n",
      "Tilburg University\n",
      "Tilburg\n"
     ]
    }
   ],
   "source": [
    "csv = \"2016,September,28,Data Processing,Tilburg University,Tilburg\"\n",
    "values = csv.split( ',' )\n",
    "for value in values:\n",
    "    print( value )"
   ]
  },
  {
   "cell_type": "markdown",
   "metadata": {},
   "source": [
    "### `join()`"
   ]
  },
  {
   "cell_type": "markdown",
   "metadata": {},
   "source": [
    "`join()` is the opposite of `split()`. `join()` joins a list of words together, separated by a specific separator. This sounds like it would be a method of lists, but for historic reasons it is defined as a string method. Since all string methods are called with the format `<string>.<method>()`, there must be a string in front of the call to `join()`. That string is the separator that you want to use, while the parameter of the method is the list that you want to join together. The return value, as always, is the resulting string."
   ]
  },
  {
   "cell_type": "code",
   "execution_count": null,
   "metadata": {
    "collapsed": false
   },
   "outputs": [],
   "source": [
    "s = \"Humpty;Dumpty;sat;on;the;wall\"\n",
    "wordlist = s.split( ';' )\n",
    "s = \" \".join( wordlist )\n",
    "print( s )"
   ]
  },
  {
   "cell_type": "markdown",
   "metadata": {},
   "source": [
    "### Practice"
   ]
  },
  {
   "cell_type": "markdown",
   "metadata": {},
   "source": [
    "**Exercise**: In the code below you are given a string that contains a spelling error, namely the word \"vox\" instead of \"fox\". Replace all occurrences of this spelling error with the correct spelling. Hint: use `replace()`."
   ]
  },
  {
   "cell_type": "code",
   "execution_count": null,
   "metadata": {
    "collapsed": true
   },
   "outputs": [],
   "source": [
    "# Replace vox with fox\n",
    "text = \"\"\"The quick, brown vox jumps over a lazy dog. DJs flock by when MTV ax quiz prog. \n",
    "Junk MTV quiz graced by vox whelps. Bawds jog, flick quartz, vex nymphs. \n",
    "Waltz, bad nymph, for quick jigs vex! Vox nymphs grab quick-jived waltz. \n",
    "Brick quiz whangs jumpy veldt vox.\"\"\"\n"
   ]
  },
  {
   "cell_type": "markdown",
   "metadata": {},
   "source": [
    "**Exercise**: In the code below you are given a string that contains an at-sign (`@`). Display the contents of the string up to, but not including, this at-sign. Hint: use `find()`."
   ]
  },
  {
   "cell_type": "code",
   "execution_count": null,
   "metadata": {
    "collapsed": true
   },
   "outputs": [],
   "source": [
    "text = \"\"\"Nobody expects the Spanish\n",
    "Inquisition!@ In fact, those who do\n",
    "expect the Spanish Inquisition...\"\"\"\n"
   ]
  },
  {
   "cell_type": "markdown",
   "metadata": {},
   "source": [
    "**Exercise**: Write a program that prints a \"cleaned\" version of all the words in a string. Everything that is not a letter should be removed and be considered a separator. All the letters should be lower case. For example, the string \"I'm sorry, sir.\" should produce four words, namely \"i\", \"m\", \"sorry\", and \"sir\". You can use the function for string cleaning which you wrote as an exercise above."
   ]
  },
  {
   "cell_type": "code",
   "execution_count": null,
   "metadata": {
    "collapsed": true
   },
   "outputs": [],
   "source": [
    "# Cleaned words.\n"
   ]
  },
  {
   "cell_type": "markdown",
   "metadata": {},
   "source": [
    "---"
   ]
  },
  {
   "cell_type": "markdown",
   "metadata": {},
   "source": [
    "## Character encoding"
   ]
  },
  {
   "cell_type": "markdown",
   "metadata": {},
   "source": [
    "All systems use a particular way of encoding characters. The basic encoding that (almost) every system supports is the standard ASCII code. This is a 7-bits code, which can represent 128 different characters. Several of these (in particular those with the lowest-numbered encodings) are control characters that have a special function. Most of these special functions are only useful for archaic computer systems, but the tabulation, newline, and backspace characters are found amongst them. If you only use characters on a standard US keyboard, you are limited to ASCII characters.\n",
    "\n",
    "Nowadays, many systems use Unicode. Unicode supports far more characters. There are different formats for storing characters in Unicode. The best-known is `UTF-8`, which uses one byte for each of the ASCII characters, but multiple bytes for all the other characters (a byte is a group of 8 bits, whereby each bit contains either a 1 or a zero). Other Unicode encodings use multiple bytes to store any character. Python, be default, works with UTF-8, which means that it also supports regular ASCII encodings."
   ]
  },
  {
   "cell_type": "markdown",
   "metadata": {},
   "source": [
    "### ASCII"
   ]
  },
  {
   "cell_type": "markdown",
   "metadata": {},
   "source": [
    "Below I display the ASCII table. The only characters I have left off are those which are control sequences. These have the numbers zero to 31, and 127. 32 is the space. I also display the hexadecimal code for each character next to the decimal code. (If you wonder why I even bother listing those hexadecimal codes: they become relevant in a much later chapter.)\n",
    "\n",
    "` DC HX      DC HX      DC HX      DC HX      DC HX      DC HX`<br>\n",
    "`` 32 20      48 30 0    64 40 @    80 50 P    96 60 `   112 70 p``<br>\n",
    "` 33 21 !    49 31 1    65 41 A    81 51 Q    97 61 a   113 71 q`<br>\n",
    "` 34 22 \"    50 32 2    66 42 B    82 52 R    98 62 b   114 72 r`<br>\n",
    "` 35 23 #    51 33 3    67 43 C    83 53 S    99 63 c   115 73 s`<br>\n",
    "` 36 24 $    52 34 4    68 44 D    84 54 T   100 64 d   116 74 t`<br>\n",
    "` 37 25 %    53 35 5    69 45 E    85 55 U   101 65 e   117 75 u`<br>\n",
    "` 38 26 &    54 36 6    70 46 F    86 56 V   102 66 f   118 76 v`<br>\n",
    "` 39 27 '    55 37 7    71 47 G    87 57 W   103 67 g   119 77 w`<br>\n",
    "` 40 28 (    56 38 8    72 48 H    88 58 X   104 68 h   120 78 x`<br>\n",
    "` 41 29 )    57 39 9    73 49 I    89 59 Y   105 69 i   121 79 y`<br>\n",
    "` 42 2A *    58 3A :    74 4A J    90 5A Z   106 6A j   122 7A z`<br>\n",
    "` 43 2B +    59 3B ;    75 4B K    91 5B [   107 6B k   123 7B {`<br>\n",
    "` 44 2C ,    60 3C <    76 4C L    92 5C \\   108 6C l   124 7C |`<br>\n",
    "` 45 2D -    61 3D =    77 4D M    93 5D ]   109 6D m   125 7D }`<br>\n",
    "` 46 2E .    62 3E >    78 4E N    94 5E ^   110 6E n   126 7E ~`<br>\n",
    "` 47 2F /    63 3F ?    79 4F O    95 5F _   111 6F o`\n",
    "\n",
    "As you can see, each character has a number attached to it. To find out what a character's number is in a Python program, you can use the `ord()` function. For instance, `ord(\"A\")` return the number of \"A\", which, as you can see, is 65. The counterpart of the `ord()` function is the `chr()` function. `chr()` gets a number as argument, and returns the character that belongs to that number. For instance, `chr(65)` is the letter \"A\".\n",
    "\n",
    "A comparison of strings which use only these characters use the numbers of the characters to determine which string is \"smaller\". For instance, the string \"orange\" is smaller than the string \"ordinal\", because the first character that differs between them is the third one, which is \"a\" for \"orange\" and \"d\" for \"ordinal\", and since the number for \"a\" is lower than the number for \"d\", the string \"orange\" is considered to be smaller than the string \"ordinal\". This is, basically, an alphabetic comparison. If characters occur in a string that are not letters, you can check in the ASCII table which is considered lower. Notice how all the digits are lower than letters."
   ]
  },
  {
   "cell_type": "code",
   "execution_count": null,
   "metadata": {
    "collapsed": false
   },
   "outputs": [],
   "source": [
    "print( ord( 'A' ) )\n",
    "print( ord( 'a' ) )\n",
    "print( chr( 65 ) )\n",
    "print( chr( 97 ) )\n",
    "print( \"orange\" < \"ordinal\" )"
   ]
  },
  {
   "cell_type": "markdown",
   "metadata": {},
   "source": [
    "You can use these numbers that are associated with characters to do all kinds of neat calculations. For instance, if I want to know which the twelfth letter after \"g\" is, I can calculate that as follows:"
   ]
  },
  {
   "cell_type": "code",
   "execution_count": null,
   "metadata": {
    "collapsed": false
   },
   "outputs": [],
   "source": [
    "print( \"The 12th letter after g is\", chr( ord( \"g\" )+12 ) )"
   ]
  },
  {
   "cell_type": "markdown",
   "metadata": {},
   "source": [
    "For another example of what you can do with character codes, here is a program that generates the ASCII table as a matrix:"
   ]
  },
  {
   "cell_type": "code",
   "execution_count": null,
   "metadata": {
    "collapsed": false
   },
   "outputs": [],
   "source": [
    "print( ' ', end='' )\n",
    "for i in range(16):\n",
    "    if i < 10:\n",
    "        print( ' '+chr( ord( '0' )+i ), end='' )\n",
    "    else:\n",
    "        print( ' '+chr( ord( 'A' )+i-10 ), end='' )\n",
    "print()\n",
    "for i in range( 2, 8 ):\n",
    "    print( i, end='' )\n",
    "    for j in range( 16 ):\n",
    "        c = i*16+j\n",
    "        print( ' '+chr( c ), end='' )\n",
    "    print()"
   ]
  },
  {
   "cell_type": "markdown",
   "metadata": {},
   "source": [
    "Note that I highly prefer you using the `ord()` and `chr()` functions if you want to juggle character encoding. If you want to refer to the character code of the letter \"A\", do not write `65`, but write `ord(\"A\")` instead. `65` is only meaningful to people who know ASCII encodings, and your programs should be meaningful to anybody. Moreover, while ASCII is a widely-used standard, there are still computers out there which use different encoding mechanisms, in which the code for \"A\" is not necessarily 65 (I am looking at you, IBM)."
   ]
  },
  {
   "cell_type": "markdown",
   "metadata": {},
   "source": [
    "### UTF-8"
   ]
  },
  {
   "cell_type": "markdown",
   "metadata": {},
   "source": [
    "Python supports Unicode, in particular the most common Unicode encoding scheme UTF-8. This means that you can use all kinds of \"weird\" characters. I explained that in the naming of functions and variables you can use \"letters\", which you probably assumed meant \"A\" to \"Z\" and \"a\" to \"z\". The funny thing is that it depends on the language codes of your computer what is considered a letter. For instance, if your computer tells Python that the language is German, then you can also use characters with umlauts. I strongly discourage using such letters in variable and function names, by the way. Not only are they hard to type, but they also make your program less portable.\n",
    "\n",
    "In UTF-8, the regular characters which you find on a keyboard are represented in strings exactly as you would expect. However, \"special\" characters can be incorporated too, but look quite different. Since Python supports UTF-8, you have to be careful when you copy texts from, for instance, a word processor document. Word processors have the disturbing habit of changing characters into other characters, like turning straight quotes into round quotes. If you copy such round quotes into your program, Python will accept the characters, but will not interpret them as, for instance, string boundaries.\n",
    "\n",
    "If you want to display Unicode characters, you can do so by using Unicode encodings. You have to know the UTF-8 number of the character that you want to display. If you know that, you can use a code `\\uxxxx`, where `xxxx` is a hexadecimal number, to incorporate a Unicode character in a string. For example, the code below displays the Greek alphabet:"
   ]
  },
  {
   "cell_type": "code",
   "execution_count": null,
   "metadata": {
    "collapsed": false
   },
   "outputs": [],
   "source": [
    "alpha = \"\\u0391\"\n",
    "for i in range( 25 ):\n",
    "    print( chr( ord( alpha )+i ), end=\" \" )"
   ]
  },
  {
   "cell_type": "markdown",
   "metadata": {},
   "source": [
    "(There is one weird character in this display, between the Rho and the Sigma, which is `\\u03A2`, which is evidently not a legal Unicode character.) \n",
    "\n",
    "In general, you will not need to worry too much about character encodings. I recommend that you restrict yourself to ASCII whenever possible. In cases where you have to deal with Unicode characters, things usually work correctly automatically, since the standard Python functionalities support Unicode. Occasionally I have run into translation problems from Unicode to ASCII, in particular where files were concerned. It will be a while before you run into problems like that, and I will bring it up again in the chapters on files."
   ]
  },
  {
   "cell_type": "markdown",
   "metadata": {},
   "source": [
    "---"
   ]
  },
  {
   "cell_type": "markdown",
   "metadata": {},
   "source": [
    "## What you learned"
   ]
  },
  {
   "cell_type": "markdown",
   "metadata": {},
   "source": [
    "In this chapter, you learned about:\n",
    "\n",
    "- Strings\n",
    "- Multi-line strings\n",
    "- Accessing string characters with positive and negative indices\n",
    "- Slices\n",
    "- Immutability of strings\n",
    "- String methods `strip()`, `upper()`, `lower()`, `find()`, `replace()`, `split()`, and `join()`\n",
    "- Escape sequences\n",
    "- ASCII and UTF-8 encodings"
   ]
  },
  {
   "cell_type": "markdown",
   "metadata": {},
   "source": [
    "----------"
   ]
  },
  {
   "cell_type": "markdown",
   "metadata": {},
   "source": [
    "## Exercises"
   ]
  },
  {
   "cell_type": "markdown",
   "metadata": {},
   "source": [
    "### Exercise 11.1"
   ]
  },
  {
   "cell_type": "markdown",
   "metadata": {},
   "source": [
    "Count how many of each vowel (`a`, `e`, `i`, `o`, `u`) there are in the text string in the next cell, and print the count for each vowel with a single formatted string. Remember that vowels can be both lower and uppercase."
   ]
  },
  {
   "cell_type": "code",
   "execution_count": null,
   "metadata": {
    "collapsed": false
   },
   "outputs": [],
   "source": [
    "# Counting vowels.\n",
    "text = \"\"\"And Saint Attila raised the hand grenade up on high,\n",
    "saying, \"O Lord, bless this thy hand grenade, that with it\n",
    "thou mayst blow thine enemies to tiny bits, in thy mercy.\" \n",
    "And the Lord did grin. And the people did feast upon the lambs, \n",
    "and sloths, and carp, and anchovies, and orangutans, and \n",
    "breakfast cereals, and fruit bats, and large chu...\"\"\"\n"
   ]
  },
  {
   "cell_type": "markdown",
   "metadata": {},
   "source": [
    "### Exercise 11.2"
   ]
  },
  {
   "cell_type": "markdown",
   "metadata": {},
   "source": [
    "The text string in the next cell contains several words which are enclosed by square brackets (`[` and `]`). Scan the string and print out all words which are between square brackets. For example, if the text string would be \"`[a]n example[ string]`\", you are expected to print out \"`a string`\"."
   ]
  },
  {
   "cell_type": "code",
   "execution_count": null,
   "metadata": {
    "collapsed": false
   },
   "outputs": [],
   "source": [
    "# Distilling text.\n",
    "text = \"\"\"The quick, brown fox jumps over a lazy dog. DJs flock by when MTV ax quiz prog. \n",
    "Junk MTV quiz graced by fox whelps. [Never gonna ] Bawds jog, flick quartz, vex nymphs. \n",
    "[give you up\\n] Waltz, bad nymph, for quick jigs vex! Fox nymphs grab quick-jived waltz. \n",
    "Brick quiz whangs jumpy veldt fox. [Never ] Bright vixens jump; [gonna let ] dozy fowl \n",
    "quack. Quick wafting zephyrs vex bold Jim. Quick zephyrs blow, vexing daft Jim. Charged \n",
    "[you down\\n] fop blew my junk TV quiz. How quickly daft jumping zebras vex. Two driven \n",
    "jocks help fax my big quiz. Quick, Baz, get my woven flax jodhpurs! \"Now fax quiz Jack!\" \n",
    "my brave ghost pled. [Never ] Five quacking zephyrs jolt my wax bed. [gonna ] Flummoxed \n",
    "by job, kvetching W. zaps Iraq. Cozy sphinx waves quart jug of bad milk. [run around ] \n",
    "A very bad quack might jinx zippy fowls. Few quips galvanized the mock jury box. Quick \n",
    "brown dogs jump over the lazy fox. The jay, pig, fox, zebra, and my wolves quack! \n",
    "[and desert you] Blowzy red vixens fight for a quick jump. Joaquin Phoenix was gazed \n",
    "by MTV for luck. A wizard’s job is to vex chumps quickly in fog. Watch \"Jeopardy!\", \n",
    "Alex Trebek's fun TV quiz game.\"\"\"\n"
   ]
  },
  {
   "cell_type": "markdown",
   "metadata": {},
   "source": [
    "### Exercise 11.3"
   ]
  },
  {
   "cell_type": "markdown",
   "metadata": {},
   "source": [
    "Print a line of all the capital letters \"A\" to \"Z\". Below it, print a line of the letters that are 13 positions in the alphabet away from the letters that are above them. E.g., below the \"A\" you print an \"N\", below the \"B\" you print an \"O\", etcetera. You have to consider the alphabet to be circular, i.e., after the \"Z\", it loops back to the \"A\" again."
   ]
  },
  {
   "cell_type": "code",
   "execution_count": null,
   "metadata": {
    "collapsed": true
   },
   "outputs": [],
   "source": [
    "# ROTR-13.\n"
   ]
  },
  {
   "cell_type": "markdown",
   "metadata": {},
   "source": [
    "### Exercise 11.4"
   ]
  },
  {
   "cell_type": "markdown",
   "metadata": {},
   "source": [
    "In the text below, count how often the word \"wood\" occurs (using program code, of course). Capitals and lower case letters may both be used, and you have to consider that the word \"wood\" should be a separate word, and not part of another word. Hint: If you did the exercises from this chapter, you already developed a function that \"cleans\" a text. Combining that function with the `split()` function more or less solves the problem for you."
   ]
  },
  {
   "cell_type": "code",
   "execution_count": null,
   "metadata": {
    "collapsed": false
   },
   "outputs": [],
   "source": [
    "# Counting wood.\n",
    "text = \"\"\"How much wood would a woodchuck chuck\n",
    "If a woodchuck could chuck wood?\n",
    "He would chuck, he would, as much as he could,\n",
    "And chuck as much as a woodchuck would\n",
    "If a woodchuck could chuck wood.\"\"\"\n"
   ]
  },
  {
   "cell_type": "markdown",
   "metadata": {},
   "source": [
    "### Exercise 11.5"
   ]
  },
  {
   "cell_type": "markdown",
   "metadata": {},
   "source": [
    "Write a program that takes a string and produces a new string that contains the exact characters that the first string contains, but in order of their ASCII-codes. For instance, the string \"Hello, world!\" should be turned into \" !,Hdellloorw\". This is relatively easy to do with list functions, which will be introduced in a future chapter, but for now try to do it with string manipulation functions alone."
   ]
  },
  {
   "cell_type": "code",
   "execution_count": null,
   "metadata": {
    "collapsed": true
   },
   "outputs": [],
   "source": [
    "# String sorting.\n",
    "text = \"Hello, world!\"\n"
   ]
  },
  {
   "cell_type": "markdown",
   "metadata": {},
   "source": [
    "### Exercise 11.6"
   ]
  },
  {
   "cell_type": "markdown",
   "metadata": {},
   "source": [
    "Typical autocorrect functions are the following: (1) if a word starts with two capitals, followed by a lower-case letter, the second capital is made lower case; (2) if a sentence contains a word that is immediately followed by the same word, the second occurrence is removed; (3) if a sentence starts with a lower-case letter, that letter is turned into a capital; (4) if a word consists entirely of capitals, except for the first letter which is lower case, then the case of the letters in the word is reversed; and (5) if the sentence contains the name of a day (in English) which does not start with a capital, the first letter is turned into a capital. Write a program that takes a sentence and makes these auto-corrections."
   ]
  },
  {
   "cell_type": "code",
   "execution_count": null,
   "metadata": {
    "collapsed": true
   },
   "outputs": [],
   "source": [
    "# Autocorrect.\n",
    "sentence = \"as it turned out our chance meeting with REverend aRTHUR BElling was \\\n",
    "was to change our whole way of life, and every sunday we'd hurry along to St lOONY up the Cream BUn and Jam.\"\n"
   ]
  }
 ],
 "metadata": {
  "kernelspec": {
   "display_name": "Python 3",
   "language": "python",
   "name": "python3"
  },
  "language_info": {
   "codemirror_mode": {
    "name": "ipython",
    "version": 3
   },
   "file_extension": ".py",
   "mimetype": "text/x-python",
   "name": "python",
   "nbconvert_exporter": "python",
   "pygments_lexer": "ipython3",
   "version": "3.6.0"
  }
 },
 "nbformat": 4,
 "nbformat_minor": 0
}
