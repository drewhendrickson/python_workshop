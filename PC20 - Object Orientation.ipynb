{
 "cells": [
  {
   "cell_type": "markdown",
   "metadata": {},
   "source": [
    "# 20 - Object Orientation"
   ]
  },
  {
   "cell_type": "markdown",
   "metadata": {},
   "source": [
    "---"
   ]
  },
  {
   "cell_type": "markdown",
   "metadata": {},
   "source": [
    "The chapters until this point covered an approach to programming that is often referred to as \"structured programming\" or \"imperative programming\", wherein a program is considered a sequence of statements, decisions, and loops. You can solve any programming problem with a structured programming approach. However, in the last decades several other programming \"paradigms\" have been coined up, which help designing and implementing large-scale programs. One of the most successful paradigms is \"object orientation\", and most modern programming languages support the object oriented paradigm. Python is, in fact, an object oriented language.\n",
    "\n",
    "While object orientation tends to provide a natural way to look at problems and solutions, designing an object oriented program can be quite hard. The reason that it is hard, is that you have to really think about your approach to a problem in all of its aspects, before you start coding. For bigger problems, this can be daunting, especially when you lack experience with programming. However, for bigger problems you have to spend a lot of time designing your solution anyway, and an object oriented approach may be quite helpful in creating it. Moreover, you will find that most modules provide object oriented implementations, and that object orientation can be helpful for many smaller problems too.\n",
    "\n",
    "Since object orientation is a broad topic, several chapters will be spent on it, of which this one is the first. It discusses the basics of object orientation, leaving the more specialized (and powereful!) aspects of object orientation for later chapters."
   ]
  },
  {
   "cell_type": "markdown",
   "metadata": {},
   "source": [
    "---"
   ]
  },
  {
   "cell_type": "markdown",
   "metadata": {},
   "source": [
    "## The object oriented world"
   ]
  },
  {
   "cell_type": "markdown",
   "metadata": {},
   "source": [
    "While I am typing this, I am sitting at my kitchen table. Next to me is a bowl of fruit. There are some apples in the bowl. While these apples share certain features, they have their differences too. They share their name, their price, and their age, but they all have (slightly) different weights. There are also some oranges in the bowl. Like the apples, they are fruits, but they have a lot of differences with apples: different names, different colors, different trees that they grow from. Still, they share some things with apples that all fruits share, and make them different from, for instance, the table I am sitting at. I can eat a fruit, i.e., I can eat apples and I can eat oranges. I am not going to try to eat a table.\n",
    "\n",
    "When I try to model my world in a computer program, I have to model objects: objects such as apples, oranges, and tables. Some of these objects have a *lot* in common, for instance, each apple shares a lot of features with every other apple. It behooves me to define a class \"apple\" which contains the features that all apples share, and only fill in the few features in which apples differ from each other for each individual apple object. The same holds for oranges, they should get their own class \"orange\". And while \"apples\" and \"oranges\" are quite different, they still share some features that entail that I would like to put them in the same class: the class \"fruit\". Every object that belongs to the class \"fruit\" at least has the property that I can eat it. Which means that each individual apple object not only belongs to the class \"apple\", but also belongs to the class \"fruit\" -- just like the \"oranges\".\n",
    "\n",
    "Come to think of it: I can eat more things than only apples and oranges. I can eat cakes too. And mushrooms. And bread. And licorice -- I love licorice, even though it gives me high blood pressure. So maybe I need another class, which the class \"fruit\" also belongs to. The class \"food\", perhaps?\n",
    "\n",
    "What this leads to, is that if I try to model the world, or part of the world, I need to model objects -- and rather than modelling each separate object, I am better off defining classes of objects, as that means I can make statements about certain groups of objects in general. I can talk about the relationships between classes, and I can define functions that work on classes; for instance, I can define a functionality \"eat\" that works on every object that is part of the class \"food\", which removes the object from the world and assigns its \"nutrients\" to the object that does the \"eating\". Since I can \"eat\" objects that belong to the class \"food\", I can eat \"fruit\". And since I can eat \"fruit\", I can eat any \"apple\" object.\n",
    "\n",
    "A computer program is, in essence, a model of a part of the world. As such, there are many programs that benefit from the ability to deal with objects, classes, relationships, and functionalities (methods) that work on objects."
   ]
  },
  {
   "cell_type": "markdown",
   "metadata": {},
   "source": [
    "### Students, teachers, and courses"
   ]
  },
  {
   "cell_type": "markdown",
   "metadata": {},
   "source": [
    "Many programs deal with persons. The student administration deals with students, who are persons. These students follow courses, which are taught by teachers, who are also persons. Undoubtedly, the student administration stores information on students and teachers, and probably the programmer who created the software for the student administration was smart enough to create a single interface that allows entering person data.\n",
    "\n",
    "What data do all persons share, as far as the student administration is concerned? Well, probably all persons have a first and a last name. They have an address. They also have an age and a gender. They all get assigned an administration number, so that for the administration they have at least one thing that makes them unique. These data elements are all \"properties\" or \"attributes\" of \"persons\".\n",
    "\n",
    "I mentioned the properties first name, last name, address, age, gender, and administration number. One of these is actually more like a function than a property. Do you see which one?\n",
    "\n",
    "The answer is \"age\". Age is calculated from date of birth and current date. While you can consider age a property, it is a property that should be calculated each time that it is needed. You cannot store it as a value, as tomorrow it might be different from today, without anything changing but the date. Therefore, if I design a class `Person` that models a person, I best make \"date of birth\" an attribute of the person, while \"age\" is a method of the person. Remember that methods are functions that belong to a certain data type: if a data type `Person` is defined, `date_of_birth` is an attribute of that data type, while `age()` is a method of that data type that returns the person's age as an integer. \n",
    "\n",
    "Students and teachers are both persons. They share the properties of the `Person` class. Yet there are differences. Teachers, for instance, get paid a salary, while students do not. Students, on the other hand, earn grades in courses, which teachers do not; they teach the courses. From this follow two obvious observations:\n",
    "\n",
    "- While students and teachers are both persons, they have clear differences; besides a class `Person` I need a class `Student` and a class `Teacher`, both of which are derived from the class `Person`.\n",
    "- \"Courses\" seem to be an inherent part of the student administration world, so a class `Course` might be needed too.\n",
    "\n",
    "Once `Course` has become a class in the student administration world, relationships become visible. Students have relationships to multiple courses, and teachers do too, though in a different capacity. Students \"enroll\" in courses. It looks like an `enroll()` method is needed, that allows a student to get into a relationship with a course. The question is: is `enroll()` a method of `Student`, that gets a course as argument, or is it a method of `Course`, that gets a student as argument? What do you think?\n",
    "\n",
    "The answer is: \"it depends\". It depends on how you envision the student administration world. To me, it feels more natural to make `enroll()` a method of a course, as I view a course as a collection of students. However, in principle there is nothing against seeing a student as an entity who encompasses a collection of courses. You might also decide to make `enroll()` a method of each of them, or think of yet another class that contains the `enroll()` method that has both the student and the course as arguments.\n",
    "\n",
    "This illustrates the difficulty of the object oriented view on program design: by designing the classes that form the world model that the program works with, choices need to be made that may have a big impact on how the program works. Weak choices may lead to difficulties in implementation. You need to spend considerable time on designing the object oriented model that underlies the program, and try to anticipate all the consequences of your choices. This is hard even for experienced designers. However, a solid object oriented model makes programs easy to read, understand and maintain. The object oriented paradigm is often worth the hassle.  "
   ]
  },
  {
   "cell_type": "markdown",
   "metadata": {},
   "source": [
    "### Classes, objects, and hierarchies"
   ]
  },
  {
   "cell_type": "markdown",
   "metadata": {},
   "source": [
    "In the object oriented world, every distinguishable entity belongs to a \"class\". A class is a general model for a specific group of entities. It describes all the attributes that these entities have, and it describes the methods that the class offers the outside world to influence it. \n",
    "\n",
    "A class, by itself, is *not* an entity. An entity that belongs to the class, is an \"object\". The terminology is that an object is an \"instance\" of a particular class. While the class describes its attributes, an object that is an instance of the class has values for these attributes. While the class describes the methods that it supports, to execute such a method one needs an object that is an instance of the class to call the method with.\n",
    "\n",
    "A class is a data type, an object is a value.\n",
    "\n",
    "Classes may exist in hierarchies. A general, high-level class may describe properties and methods that are shared by different subclasses. Each subclass may add properties, add methods, and even change properties and methods (though in general cannot -- and should not -- completely remove them). Each subclass may have further subclasses.\n",
    "\n",
    "For instance, the class `Apple` may be a subclass of the class `Fruit`, which may be a subclass of the class `Food`. This means that where in a program an object of the class `Food` is needed, you can supply an object that is an instance of the class `Food`, but also an object that is an instance of the class `Fruit`, or an object that is an instance of the class `Apple`. This does not work the other way around, though. When, for instance, a function in a program was designed for instances of `Apple`, you cannot use it with instances of `Fruit`, or other subclasses of `Fruit`. While an `Apple` is `Fruit`, `Fruit` is not an `Apple`, and `Apple`s aren't `Orange`s.\n",
    "\n",
    "Such a hierarchy is implemented using \"inheritance\", which is the topic of a future chapter."
   ]
  },
  {
   "cell_type": "markdown",
   "metadata": {},
   "source": [
    "### Classes and data types in Python"
   ]
  },
  {
   "cell_type": "markdown",
   "metadata": {},
   "source": [
    "Most object oriented programming languages have some basic data types, and allow you to create classes, i.e., new data types. This was the case for Python up to Python 2. Since Python 3, every data type is a class.\n",
    "\n",
    "You can recognize some of this by the way that many functionalities of the basic data types are implemented as methods. Remember that a method is always called as `<variable>.<method>()`, contrary to functions that work on a variable, which are called as `<function>( <variable> )`. The fact that when you want to create a lower case version of a string, you effectuate that as `<string>.lower()` already indicates that the string is an instance of a class.\n",
    "\n",
    "But not only strings are class instances: integers and floats are too. They even have methods, though these are seldom used explicitly. Some methods are used implicitly, e.g., when you add two numbers together with `+`, that is actually a method call. This will be discussed in a later chapter."
   ]
  },
  {
   "cell_type": "markdown",
   "metadata": {},
   "source": [
    "---"
   ]
  },
  {
   "cell_type": "markdown",
   "metadata": {},
   "source": [
    "## Classes and objects"
   ]
  },
  {
   "cell_type": "markdown",
   "metadata": {},
   "source": [
    "Now the basic philosophies of object orientation are out of the way, I am going to discuss how to use object orientation in Python. It starts with creating new classes using the keyword `class`."
   ]
  },
  {
   "cell_type": "markdown",
   "metadata": {},
   "source": [
    "### `class`"
   ]
  },
  {
   "cell_type": "markdown",
   "metadata": {},
   "source": [
    "A class can be considered a new data type. Once a class is created, you can assign instances of the class to variables. To start simple, I am going to create a class that represents a point in 2D space. I name this class `Point` (the naming of classes is restricted to the same requirements as the naming of variables, and it is convention to let the names of classes start with a capital). Creating this class in Python is incredibly easy:"
   ]
  },
  {
   "cell_type": "code",
   "execution_count": null,
   "metadata": {
    "collapsed": true
   },
   "outputs": [],
   "source": [
    "class Point:\n",
    "    pass"
   ]
  },
  {
   "cell_type": "markdown",
   "metadata": {},
   "source": [
    "The keyword `pass` in the class definition means \"do nothing\". This keyword can be used wherever you need to place a statement, but you have nothing yet to place there. You cannot just leave it empty or give a comment and nothing else. But as soon as statements are added, you no longer need `pass`.\n",
    "\n",
    "To create an object that is an instance of the class, I assign to a variable the name of the class, with parentheses after it, as if it is a function call (you can have arguments between the parenthesis, which will be discussed a bit later in this chapter)."
   ]
  },
  {
   "cell_type": "code",
   "execution_count": null,
   "metadata": {
    "collapsed": false
   },
   "outputs": [],
   "source": [
    "class Point:\n",
    "    pass\n",
    "\n",
    "p = Point()\n",
    "print( type( p ) )"
   ]
  },
  {
   "cell_type": "markdown",
   "metadata": {},
   "source": [
    "Of course, a point is more than just an object. A point has an `x` and a `y` coordinate. Since Python is a soft-typed language, we need to assign values to attributes to create them. This is done in a special initialization method in the class."
   ]
  },
  {
   "cell_type": "markdown",
   "metadata": {},
   "source": [
    "### `__init__()`"
   ]
  },
  {
   "cell_type": "markdown",
   "metadata": {},
   "source": [
    "The initialization method of a class has the name `__init__` (that's two underscores, followed by the word `init`, followed by two more underscores). Even if the `__init__()` method is not defined explicitly for the class, it still exists. You use the `__init__()` method to initialize everything that you want to initialize upon creation of an instance of the class.\n",
    "\n",
    "In the case of `Point`, `__init__()` should assure that any `Point` object has an `x` and a `y` coordinate. This is implemented as follows: "
   ]
  },
  {
   "cell_type": "code",
   "execution_count": null,
   "metadata": {
    "collapsed": false
   },
   "outputs": [],
   "source": [
    "class Point:\n",
    "    def __init__( self ):\n",
    "        self.x = 0.0\n",
    "        self.y = 0.0\n",
    "\n",
    "p = Point()\n",
    "print( \"({}, {})\".format( p.x, p.y ) )"
   ]
  },
  {
   "cell_type": "markdown",
   "metadata": {},
   "source": [
    "Study the code above closely. You see that `__init__()` is defined just as you would define a function, inside the class definition. \n",
    "\n",
    "`__init__()` gets one parameter, which is called `self`. Every method that you define, *always* gets at least one parameter, which will get filled with a reference to the object for which the method is called. By convention, this first parameter is always called `self`. That is not mandatory, but everybody always does it like this. If you forget to include that first parameter, you will get a runtime error. If you forget to include the first parameter `self` but you do have other parameters, Python will fill the first of the parameters that you do list with a reference to the object, and you will probably also get a runtime error (as you did not expect that that would happen).\n",
    "\n",
    "In the `__init__()` method for `Point`, the object that is created gets two attributes, which are variables that are part of the object. They are called `x` and `y`, and since they are part of the object, you refer to them as `self.x` and `self.y`. They both get initial value 0.0, which makes them floats.\n",
    "\n",
    "To refer to these attributes when the object has been created, you use the syntax `<object>.<attribute>`, as you can see on the last line of the code, where the object that has just been created is used in a `print()` statement.\n",
    "\n",
    "You might wonder if you can only create attributes for an object in the `__init__()` method. The answer is: no, you can create attributes in other methods too, and even outside the class definition. "
   ]
  },
  {
   "cell_type": "code",
   "execution_count": null,
   "metadata": {
    "collapsed": false
   },
   "outputs": [],
   "source": [
    "class Point:\n",
    "    def __init__( self ):\n",
    "        self.x = 0.0\n",
    "        self.y = 0.0\n",
    "\n",
    "p = Point()\n",
    "p.z = 0.0\n",
    "print( \"({}, {}, {})\".format( p.x, p.y, p.z ) )"
   ]
  },
  {
   "cell_type": "markdown",
   "metadata": {},
   "source": [
    "Most Python programmers (including me) would consider what happens in the code above bad form. It is good practice to create all the attributes that you need exclusively in the `__init__()` method (though you can change their values elsewhere), so that you know that every instance of the class has them, and no instances have more.\n",
    "\n",
    "If you do need a version of the class with extra attributes, you can use \"inheritance\" to create new classes based on existing ones, which do have these extra attributes. Inheritance will be discussed in a later chapter. For now, make sure that you create classes with all their attributes defined in the `__init__()` method.\n",
    "\n",
    "Like any method, `__init__()` can get arguments. You can use such arguments to initialize (some of) the attributes. For instance, if I want to create an instance of `Point` while immediately specifying the values for the `x` and `y` coordinates, I can use the following class definition:"
   ]
  },
  {
   "cell_type": "code",
   "execution_count": null,
   "metadata": {
    "collapsed": false
   },
   "outputs": [],
   "source": [
    "class Point:\n",
    "    def __init__( self, x, y ):\n",
    "        self.x = x\n",
    "        self.y = y\n",
    "\n",
    "p = Point( 3.5, 5.0 )\n",
    "print( \"({}, {})\".format( p.x, p.y ) )"
   ]
  },
  {
   "cell_type": "markdown",
   "metadata": {},
   "source": [
    "`__init__()` is now defined with three parameters. The first is still `self`, as it always has to be there. The second and third are called `x` and `y`. I could have called them anything I like (within the boundaries of variable naming), but I went for `x` and `y` as these are the most logical names. I assign `x` to `self.x`, and `y` to `self.y`.\n",
    "\n",
    "I call the creation of a point now with values for the `x` and `y` coordinates as arguments. The first argument will be passed to the method in the second parameter, and the second in the third parameter, as the first parameter will be used to pass the reference to the object itself.\n",
    "\n",
    "If you want to make it optional for the programmer to pass such values, you can give the parameters default values using an assignment in the parameter specification, as follows:"
   ]
  },
  {
   "cell_type": "code",
   "execution_count": null,
   "metadata": {
    "collapsed": false
   },
   "outputs": [],
   "source": [
    "class Point:\n",
    "    def __init__( self, x=0.0, y=0.0 ):\n",
    "        self.x = x\n",
    "        self.y = y\n",
    "\n",
    "p1 = Point()\n",
    "print( \"({}, {})\".format( p1.x, p1.y ) )\n",
    "\n",
    "p2 = Point( 3.5, 5.0 )\n",
    "print( \"({}, {})\".format( p2.x, p2.y ) )"
   ]
  },
  {
   "cell_type": "markdown",
   "metadata": {},
   "source": [
    "**Exercise**: Create a list of all the points with integer coordinates, with both their `x` and `y` coordinates ranging from `0` to `3`."
   ]
  },
  {
   "cell_type": "code",
   "execution_count": null,
   "metadata": {
    "collapsed": true
   },
   "outputs": [],
   "source": [
    "# Point list.\n",
    "class Point:\n",
    "    def __init__( self, x=0.0, y=0.0 ):\n",
    "        self.x = x\n",
    "        self.y = y\n"
   ]
  },
  {
   "cell_type": "markdown",
   "metadata": {},
   "source": [
    "### `__repr__()` and `__str__()`"
   ]
  },
  {
   "cell_type": "markdown",
   "metadata": {},
   "source": [
    "In the code above, I print the point attributes. What happens if I try to print the point itself?"
   ]
  },
  {
   "cell_type": "code",
   "execution_count": null,
   "metadata": {
    "collapsed": false
   },
   "outputs": [],
   "source": [
    "class Point:\n",
    "    def __init__( self, x=0.0, y=0.0 ):\n",
    "        self.x = x\n",
    "        self.y = y\n",
    "\n",
    "p = Point( 3.5, 5.0 )\n",
    "print( p )"
   ]
  },
  {
   "cell_type": "markdown",
   "metadata": {},
   "source": [
    "That's not what I want to see. When I print a point, I want to see the coordinates. Python offers another predefined method for that, which is `__repr__()`. `__repr__()` should return a string, which contains what you want to see when an object is displayed."
   ]
  },
  {
   "cell_type": "code",
   "execution_count": null,
   "metadata": {
    "collapsed": false
   },
   "outputs": [],
   "source": [
    "class Point:\n",
    "    def __init__( self, x=0.0, y=0.0 ):\n",
    "        self.x = x\n",
    "        self.y = y\n",
    "    def __repr__( self ):\n",
    "        return \"({}, {})\".format( self.x, self.y )\n",
    "        \n",
    "p = Point( 3.5, 5.0 )\n",
    "print( p )"
   ]
  },
  {
   "cell_type": "markdown",
   "metadata": {},
   "source": [
    "That looks much better. \n",
    "\n",
    "Python offers yet another standard method for creating a string version of an object, namely `__str__()`. `__str__()` is the same as `__repr__()`, but it is only used when the object is being printed or passed to a `format()` method. If `__str__()` is not defined, it is the same as `__repr__()` (but not vice versa). If `__str__()` *is* defined, you can ensure that something different is shown when `print()` is used, than what is shown in other places. \n",
    "\n",
    "You now might think: \"what other places?\" The main \"other place\" where objects are displayed is in the command shell, when you just type the name of the variable that contains an object.\n",
    "\n",
    "It is commonly understood that in the `__repr__()` method you are supposed to return a string that contains each and every bit of information that is needed to recreate an object, while in `__str__()` you can just return a string that contains a nicely formatted representation of the most important information that you want to see in the program. Very often, these two are the same.\n",
    "\n",
    "Many programmers ignore `__repr__()` altogether and only define `__str__()`. I think this is the wrong way around: you should always define `__repr__()`, while `__str__()` is optional. If you use `__repr__()`, make sure that you indeed return all details of an object. If you leave things out, it is better to just use `__str__()`.\n",
    "\n",
    "**Exercise**: Expand the `Point` class with a color attribute. A color is represented by a number between `0` and `2**24-1`. Make sure the color is used both in the `__init__()` method and in the `__repr__()` method."
   ]
  },
  {
   "cell_type": "code",
   "execution_count": null,
   "metadata": {
    "collapsed": true
   },
   "outputs": [],
   "source": [
    "# Colored points.\n",
    "class Point:\n",
    "    def __init__( self, x=0.0, y=0.0 ):\n",
    "        self.x = x\n",
    "        self.y = y\n",
    "    def __repr__( self ):\n",
    "        return \"({}, {})\".format( self.x, self.y )\n"
   ]
  },
  {
   "cell_type": "markdown",
   "metadata": {},
   "source": [
    "---"
   ]
  },
  {
   "cell_type": "markdown",
   "metadata": {},
   "source": [
    "## Methods"
   ]
  },
  {
   "cell_type": "markdown",
   "metadata": {},
   "source": [
    "I already introduced to you the three methods `__init__()`, `__repr__()`, and `__str__()`. These are predefined methods that every class has. As they were defined by the Python developers, they have the eccentric names that start and end with a double underscore. There are several more of such methods, which I will discuss in later chapters.\n",
    "\n",
    "You can also define your own methods for a class. Such methods get names similar to names you give to functions, and tend to follow the same conventions: starting with a lower case letter, and if there are different words either have underscores between them or capitalize the first letter of the second and later words. The prefix `is` is used for methods that provide a `True`/`False` statement about the object, the prefix `get` is used to get a value from an object, and the prefix `set` is used to set a value for an object.\n",
    "\n",
    "For instance, for a point we can create a method `distance_from_origin()`, which calculates the distance from the point (0,0) to the given point."
   ]
  },
  {
   "cell_type": "code",
   "execution_count": null,
   "metadata": {
    "collapsed": false
   },
   "outputs": [],
   "source": [
    "from math import sqrt\n",
    "\n",
    "class Point:\n",
    "    def __init__( self, x=0.0, y=0.0 ):\n",
    "        self.x = x\n",
    "        self.y = y\n",
    "    def __repr__( self ):\n",
    "        return \"({}, {})\".format( self.x, self.y )\n",
    "    def distance_from_origin( self ):\n",
    "        return sqrt( self.x*self.x + self.y*self.y )\n",
    "        \n",
    "p = Point( 3.5, 5.0 )\n",
    "print( p.distance_from_origin() )"
   ]
  },
  {
   "cell_type": "markdown",
   "metadata": {},
   "source": [
    "You may also create methods that change the object in some way. For instance, the \"translation\" of points over a distance is defined as a specific shift in the horizontal and in the vertical direction. A method `translate()` gets two arguments (beyond the `self` reference), which are the horizontal and vertical shifts."
   ]
  },
  {
   "cell_type": "code",
   "execution_count": null,
   "metadata": {
    "collapsed": false
   },
   "outputs": [],
   "source": [
    "from math import sqrt\n",
    "\n",
    "class Point:\n",
    "    def __init__( self, x=0.0, y=0.0 ):\n",
    "        self.x = x\n",
    "        self.y = y\n",
    "    def __repr__( self ):\n",
    "        return \"({}, {})\".format( self.x, self.y )\n",
    "    def translate( self, shift_x, shift_y ):\n",
    "        self.x += shift_x\n",
    "        self.y += shift_y\n",
    "        \n",
    "p = Point( 3.5, 5.0 )\n",
    "p.translate( -3, 7 )\n",
    "print( p )"
   ]
  },
  {
   "cell_type": "markdown",
   "metadata": {},
   "source": [
    "As you can see, I did not specify a return value (I did not need it), but the new `translate()` method made changes to the point coordinates.\n",
    "\n",
    "**Exercise**: In the code block below, provide the `Point` class with a method that turns a point into its polar opposite, i.e., its mirror when using the origin as mirror point, e.g., `(3,4)` becomes `(-3,-4)` and `(-1,2)` becomes `(1,-2)`."
   ]
  },
  {
   "cell_type": "code",
   "execution_count": null,
   "metadata": {
    "collapsed": true
   },
   "outputs": [],
   "source": [
    "# Polar opposite.\n",
    "class Point:\n",
    "    def __init__( self, x=0.0, y=0.0 ):\n",
    "        self.x = x\n",
    "        self.y = y\n",
    "    def __repr__( self ):\n",
    "        return \"({}, {})\".format( self.x, self.y )\n",
    "        "
   ]
  },
  {
   "cell_type": "markdown",
   "metadata": {},
   "source": [
    "---"
   ]
  },
  {
   "cell_type": "markdown",
   "metadata": {},
   "source": [
    "## Nesting objects"
   ]
  },
  {
   "cell_type": "markdown",
   "metadata": {},
   "source": [
    "Objects can be part of other objects. For instance, a rectangle can be defined as a point that indicates its top-left corner, a width, and a height. As such, the class `Rectangle` can be defined as follows:"
   ]
  },
  {
   "cell_type": "code",
   "execution_count": null,
   "metadata": {
    "collapsed": false
   },
   "outputs": [],
   "source": [
    "class Point:\n",
    "    def __init__( self, x=0.0, y=0.0 ):\n",
    "        self.x = x\n",
    "        self.y = y\n",
    "    def __repr__( self ):\n",
    "        return \"({}, {})\".format( self.x, self.y )\n",
    "        \n",
    "class Rectangle:\n",
    "    def __init__( self, point, width, height ):\n",
    "        self.point = point\n",
    "        self.width = width\n",
    "        self.height = height\n",
    "    def __repr__( self ):\n",
    "        return \"[{},w={},h={}]\".format( self.point, self.width, self.height )\n",
    "        \n",
    "p = Point( 3.5, 5.0 )\n",
    "r = Rectangle( p, 4.0, 2.0 )\n",
    "print( r )"
   ]
  },
  {
   "cell_type": "markdown",
   "metadata": {},
   "source": [
    "In this definition, the `Rectangle` object contains a `Point` object.\n",
    "\n",
    "**Exercise**: Create a different version of the `Rectangle` class, that instead of the top-left corner point, width, and height, gets the top-left corner point and the lower-right corner point."
   ]
  },
  {
   "cell_type": "code",
   "execution_count": null,
   "metadata": {
    "collapsed": true
   },
   "outputs": [],
   "source": [
    "# Different Rectangle.\n",
    "class Point:\n",
    "    def __init__( self, x=0.0, y=0.0 ):\n",
    "        self.x = x\n",
    "        self.y = y\n",
    "    def __repr__( self ):\n",
    "        return \"({}, {})\".format( self.x, self.y )\n",
    "        "
   ]
  },
  {
   "cell_type": "markdown",
   "metadata": {},
   "source": [
    "### Copies and references"
   ]
  },
  {
   "cell_type": "markdown",
   "metadata": {},
   "source": [
    "Below is a copy of the code above, with a few extra lines that make a change to the `Point` `p`."
   ]
  },
  {
   "cell_type": "code",
   "execution_count": null,
   "metadata": {
    "collapsed": false
   },
   "outputs": [],
   "source": [
    "class Point:\n",
    "    def __init__( self, x=0.0, y=0.0 ):\n",
    "        self.x = x\n",
    "        self.y = y\n",
    "    def __repr__( self ):\n",
    "        return \"({}, {})\".format( self.x, self.y )\n",
    "        \n",
    "class Rectangle:\n",
    "    def __init__( self, point, width, height ):\n",
    "        self.point = point\n",
    "        self.width = width\n",
    "        self.height = height\n",
    "    def __repr__( self ):\n",
    "        return \"[{},w={},h={}]\".format( self.point, self.width, self.height )\n",
    "        \n",
    "p = Point( 3.5, 5.0 )\n",
    "r = Rectangle( p, 4.0, 2.0 )\n",
    "print( r )\n",
    "\n",
    "p.x = 1.0\n",
    "p.y = 1.0\n",
    "print( r )"
   ]
  },
  {
   "cell_type": "markdown",
   "metadata": {},
   "source": [
    "You see that by changing `p`, the `Rectangle` `r` is also changed. The point that it contains, is actually a *reference* to the point that was passed to the `__init__()` method. Like lists, dictionaries, and sets, all the objects that are instances of classes that you define, are \"passed by reference\" to functions and methods. Therefore, by passing `Point` `p`, the `Rectangle` `r` gets created with a *relationship* to `p`. This way, relationships between objects can be represented.\n",
    "\n",
    "You do not always want this. In fact, it is unlikely that you would want a `Rectangle` object to have a relationship with the point that is indicated as its upper left corner. How can you solve that? You can solve it by creating a copy of the object. You can do this using the `copy` module. As discussed before, the `copy()` function of the `copy` module creates a shallow copy; if you want a deep copy, you have to use the `deepcopy()` function. For `Point`s this is not needed, as there is no difference between shallow and deep copies of instances of this class."
   ]
  },
  {
   "cell_type": "code",
   "execution_count": null,
   "metadata": {
    "collapsed": false
   },
   "outputs": [],
   "source": [
    "from copy import copy\n",
    "\n",
    "class Point:\n",
    "    def __init__( self, x=0.0, y=0.0 ):\n",
    "        self.x = x\n",
    "        self.y = y\n",
    "    def __repr__( self ):\n",
    "        return \"({}, {})\".format( self.x, self.y )\n",
    "        \n",
    "class Rectangle:\n",
    "    def __init__( self, point, width, height ):\n",
    "        self.point = copy( point )\n",
    "        self.width = width\n",
    "        self.height = height\n",
    "    def __repr__( self ):\n",
    "        return \"[{},w={},h={}]\".format( self.point, self.width, self.height )\n",
    "        \n",
    "p = Point( 3.5, 5.0 )\n",
    "r = Rectangle( p, 4.0, 2.0 )\n",
    "print( r )\n",
    "\n",
    "p.x = 1.0\n",
    "p.y = 1.0\n",
    "print( r )"
   ]
  },
  {
   "cell_type": "markdown",
   "metadata": {},
   "source": [
    "---"
   ]
  },
  {
   "cell_type": "markdown",
   "metadata": {},
   "source": [
    "## What you learned"
   ]
  },
  {
   "cell_type": "markdown",
   "metadata": {},
   "source": [
    "In this chapter, you learned about:\n",
    "\n",
    "- Classes en objects\n",
    "- The keyword `class`\n",
    "- Creating objects\n",
    "- `__init__()`, `__repr__()`, and `__str__()`\n",
    "- Methods\n",
    "- Nesting objects\n",
    "- Relationships via aliases"
   ]
  },
  {
   "cell_type": "markdown",
   "metadata": {},
   "source": [
    "---"
   ]
  },
  {
   "cell_type": "markdown",
   "metadata": {},
   "source": [
    "## Exercises"
   ]
  },
  {
   "cell_type": "markdown",
   "metadata": {},
   "source": [
    "### Exercise 20.1"
   ]
  },
  {
   "cell_type": "markdown",
   "metadata": {},
   "source": [
    "In the code block below, first make the `Rectangle` initialization safe by assuring that both width and height are positive values (how you do that is up to you). Expand the `Rectangle` class with methods that calculate its surface area and its circumference. Also provide a method that returns the bottom-right corner of the rectangle as a `Point`. Finally, create a method that gets a second `Rectangle` object as parameter, and returns the overlapping area of the two rectangles as a new `Rectangle` object (the last one is much harder than the other ones)."
   ]
  },
  {
   "cell_type": "code",
   "execution_count": null,
   "metadata": {
    "collapsed": true
   },
   "outputs": [],
   "source": [
    "# More complex rectangles.\n",
    "from copy import copy\n",
    "\n",
    "class Point:\n",
    "    def __init__( self, x=0.0, y=0.0 ):\n",
    "        self.x = x\n",
    "        self.y = y\n",
    "    def __repr__( self ):\n",
    "        return \"({}, {})\".format( self.x, self.y )\n",
    "        \n",
    "class Rectangle:\n",
    "    def __init__( self, point, width, height ):\n",
    "        self.point = copy( point )\n",
    "        self.width = width\n",
    "        self.height = height\n",
    "    def __repr__( self ):\n",
    "        return \"[{},w={},h={}]\".format( self.point, self.width, self.height )\n",
    "        "
   ]
  },
  {
   "cell_type": "markdown",
   "metadata": {},
   "source": [
    "### Exercise 20.2"
   ]
  },
  {
   "cell_type": "markdown",
   "metadata": {},
   "source": [
    "A student has a last name, a first name, a date of birth (either a year, month, and day, or a `datetime` object if you took the liberty of studying the `datetime` module already), and an administration number. A course has a name and a number. Students can enroll in courses. Create a class `Student` and a class `Course`. Create several students and several courses. Enroll each student in some of the courses. Display a list of students, showing their number, first name, last name, and age, and per student which courses he or she is enrolled in."
   ]
  },
  {
   "cell_type": "code",
   "execution_count": null,
   "metadata": {
    "collapsed": true
   },
   "outputs": [],
   "source": [
    "# Student/course administration.\n"
   ]
  },
  {
   "cell_type": "markdown",
   "metadata": {},
   "source": [
    "---"
   ]
  },
  {
   "cell_type": "markdown",
   "metadata": {},
   "source": [
    "End of Chapter 20. Version 1.0. "
   ]
  }
 ],
 "metadata": {
  "kernelspec": {
   "display_name": "Python 3",
   "language": "python",
   "name": "python3"
  },
  "language_info": {
   "codemirror_mode": {
    "name": "ipython",
    "version": 3
   },
   "file_extension": ".py",
   "mimetype": "text/x-python",
   "name": "python",
   "nbconvert_exporter": "python",
   "pygments_lexer": "ipython3",
   "version": "3.4.2"
  }
 },
 "nbformat": 4,
 "nbformat_minor": 0
}
